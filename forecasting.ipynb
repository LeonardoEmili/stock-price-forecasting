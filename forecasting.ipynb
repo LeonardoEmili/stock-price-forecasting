{
  "nbformat": 4,
  "nbformat_minor": 0,
  "metadata": {
    "language_info": {
      "codemirror_mode": {
        "name": "ipython",
        "version": 3
      },
      "file_extension": ".py",
      "mimetype": "text/x-python",
      "name": "python",
      "nbconvert_exporter": "python",
      "pygments_lexer": "ipython3",
      "version": "3.8.8"
    },
    "orig_nbformat": 2,
    "kernelspec": {
      "name": "python388jvsc74a57bd05cb3d8ce0a358716891e8c646615b53ee7683912403e68c24df27ea1440aaf23",
      "display_name": "Python 3.8.8 64-bit ('spf': conda)"
    },
    "colab": {
      "name": "forecasting.ipynb",
      "provenance": []
    },
    "widgets": {
      "application/vnd.jupyter.widget-state+json": {
        "96dbccde871842ed864c1185abf6f49f": {
          "model_module": "@jupyter-widgets/controls",
          "model_name": "HBoxModel",
          "state": {
            "_view_name": "HBoxView",
            "_dom_classes": [],
            "_model_name": "HBoxModel",
            "_view_module": "@jupyter-widgets/controls",
            "_model_module_version": "1.5.0",
            "_view_count": null,
            "_view_module_version": "1.5.0",
            "box_style": "",
            "layout": "IPY_MODEL_a545ee4b37634e45ba5a14d00057212a",
            "_model_module": "@jupyter-widgets/controls",
            "children": [
              "IPY_MODEL_e5dfa8e9b0dd408aa681b13db00a3398",
              "IPY_MODEL_ffd4631fcbd043a8939d41d4830bcee5"
            ]
          }
        },
        "a545ee4b37634e45ba5a14d00057212a": {
          "model_module": "@jupyter-widgets/base",
          "model_name": "LayoutModel",
          "state": {
            "_view_name": "LayoutView",
            "grid_template_rows": null,
            "right": null,
            "justify_content": null,
            "_view_module": "@jupyter-widgets/base",
            "overflow": null,
            "_model_module_version": "1.2.0",
            "_view_count": null,
            "flex_flow": null,
            "width": null,
            "min_width": null,
            "border": null,
            "align_items": null,
            "bottom": null,
            "_model_module": "@jupyter-widgets/base",
            "top": null,
            "grid_column": null,
            "overflow_y": null,
            "overflow_x": null,
            "grid_auto_flow": null,
            "grid_area": null,
            "grid_template_columns": null,
            "flex": null,
            "_model_name": "LayoutModel",
            "justify_items": null,
            "grid_row": null,
            "max_height": null,
            "align_content": null,
            "visibility": null,
            "align_self": null,
            "height": null,
            "min_height": null,
            "padding": null,
            "grid_auto_rows": null,
            "grid_gap": null,
            "max_width": null,
            "order": null,
            "_view_module_version": "1.2.0",
            "grid_template_areas": null,
            "object_position": null,
            "object_fit": null,
            "grid_auto_columns": null,
            "margin": null,
            "display": null,
            "left": null
          }
        },
        "e5dfa8e9b0dd408aa681b13db00a3398": {
          "model_module": "@jupyter-widgets/controls",
          "model_name": "FloatProgressModel",
          "state": {
            "_view_name": "ProgressView",
            "style": "IPY_MODEL_1abf4f43895b40fb885727119b7fd33c",
            "_dom_classes": [],
            "description": "Reading stock price data: 100%",
            "_model_name": "FloatProgressModel",
            "bar_style": "success",
            "max": 429,
            "_view_module": "@jupyter-widgets/controls",
            "_model_module_version": "1.5.0",
            "value": 429,
            "_view_count": null,
            "_view_module_version": "1.5.0",
            "orientation": "horizontal",
            "min": 0,
            "description_tooltip": null,
            "_model_module": "@jupyter-widgets/controls",
            "layout": "IPY_MODEL_da839fda07e347d7afb72378bc6aabd7"
          }
        },
        "ffd4631fcbd043a8939d41d4830bcee5": {
          "model_module": "@jupyter-widgets/controls",
          "model_name": "HTMLModel",
          "state": {
            "_view_name": "HTMLView",
            "style": "IPY_MODEL_bb1c31f8ac3748588d42d1bb498539a6",
            "_dom_classes": [],
            "description": "",
            "_model_name": "HTMLModel",
            "placeholder": "​",
            "_view_module": "@jupyter-widgets/controls",
            "_model_module_version": "1.5.0",
            "value": " 429/429 [00:11&lt;00:00, 37.13it/s]",
            "_view_count": null,
            "_view_module_version": "1.5.0",
            "description_tooltip": null,
            "_model_module": "@jupyter-widgets/controls",
            "layout": "IPY_MODEL_8ce71f6ffac54d88a196f5338acb5ba7"
          }
        },
        "1abf4f43895b40fb885727119b7fd33c": {
          "model_module": "@jupyter-widgets/controls",
          "model_name": "ProgressStyleModel",
          "state": {
            "_view_name": "StyleView",
            "_model_name": "ProgressStyleModel",
            "description_width": "initial",
            "_view_module": "@jupyter-widgets/base",
            "_model_module_version": "1.5.0",
            "_view_count": null,
            "_view_module_version": "1.2.0",
            "bar_color": null,
            "_model_module": "@jupyter-widgets/controls"
          }
        },
        "da839fda07e347d7afb72378bc6aabd7": {
          "model_module": "@jupyter-widgets/base",
          "model_name": "LayoutModel",
          "state": {
            "_view_name": "LayoutView",
            "grid_template_rows": null,
            "right": null,
            "justify_content": null,
            "_view_module": "@jupyter-widgets/base",
            "overflow": null,
            "_model_module_version": "1.2.0",
            "_view_count": null,
            "flex_flow": null,
            "width": null,
            "min_width": null,
            "border": null,
            "align_items": null,
            "bottom": null,
            "_model_module": "@jupyter-widgets/base",
            "top": null,
            "grid_column": null,
            "overflow_y": null,
            "overflow_x": null,
            "grid_auto_flow": null,
            "grid_area": null,
            "grid_template_columns": null,
            "flex": null,
            "_model_name": "LayoutModel",
            "justify_items": null,
            "grid_row": null,
            "max_height": null,
            "align_content": null,
            "visibility": null,
            "align_self": null,
            "height": null,
            "min_height": null,
            "padding": null,
            "grid_auto_rows": null,
            "grid_gap": null,
            "max_width": null,
            "order": null,
            "_view_module_version": "1.2.0",
            "grid_template_areas": null,
            "object_position": null,
            "object_fit": null,
            "grid_auto_columns": null,
            "margin": null,
            "display": null,
            "left": null
          }
        },
        "bb1c31f8ac3748588d42d1bb498539a6": {
          "model_module": "@jupyter-widgets/controls",
          "model_name": "DescriptionStyleModel",
          "state": {
            "_view_name": "StyleView",
            "_model_name": "DescriptionStyleModel",
            "description_width": "",
            "_view_module": "@jupyter-widgets/base",
            "_model_module_version": "1.5.0",
            "_view_count": null,
            "_view_module_version": "1.2.0",
            "_model_module": "@jupyter-widgets/controls"
          }
        },
        "8ce71f6ffac54d88a196f5338acb5ba7": {
          "model_module": "@jupyter-widgets/base",
          "model_name": "LayoutModel",
          "state": {
            "_view_name": "LayoutView",
            "grid_template_rows": null,
            "right": null,
            "justify_content": null,
            "_view_module": "@jupyter-widgets/base",
            "overflow": null,
            "_model_module_version": "1.2.0",
            "_view_count": null,
            "flex_flow": null,
            "width": null,
            "min_width": null,
            "border": null,
            "align_items": null,
            "bottom": null,
            "_model_module": "@jupyter-widgets/base",
            "top": null,
            "grid_column": null,
            "overflow_y": null,
            "overflow_x": null,
            "grid_auto_flow": null,
            "grid_area": null,
            "grid_template_columns": null,
            "flex": null,
            "_model_name": "LayoutModel",
            "justify_items": null,
            "grid_row": null,
            "max_height": null,
            "align_content": null,
            "visibility": null,
            "align_self": null,
            "height": null,
            "min_height": null,
            "padding": null,
            "grid_auto_rows": null,
            "grid_gap": null,
            "max_width": null,
            "order": null,
            "_view_module_version": "1.2.0",
            "grid_template_areas": null,
            "object_position": null,
            "object_fit": null,
            "grid_auto_columns": null,
            "margin": null,
            "display": null,
            "left": null
          }
        },
        "3d9cba5583854f52bc7984f8882dbeec": {
          "model_module": "@jupyter-widgets/controls",
          "model_name": "HBoxModel",
          "state": {
            "_view_name": "HBoxView",
            "_dom_classes": [],
            "_model_name": "HBoxModel",
            "_view_module": "@jupyter-widgets/controls",
            "_model_module_version": "1.5.0",
            "_view_count": null,
            "_view_module_version": "1.5.0",
            "box_style": "",
            "layout": "IPY_MODEL_fc6232799f0f456e8d872c61cac2cc25",
            "_model_module": "@jupyter-widgets/controls",
            "children": [
              "IPY_MODEL_e846a564397543a0bd257b3c33adb8bf",
              "IPY_MODEL_ef15a868dd7b4fc98b5ae38fa450f352"
            ]
          }
        },
        "fc6232799f0f456e8d872c61cac2cc25": {
          "model_module": "@jupyter-widgets/base",
          "model_name": "LayoutModel",
          "state": {
            "_view_name": "LayoutView",
            "grid_template_rows": null,
            "right": null,
            "justify_content": null,
            "_view_module": "@jupyter-widgets/base",
            "overflow": null,
            "_model_module_version": "1.2.0",
            "_view_count": null,
            "flex_flow": null,
            "width": null,
            "min_width": null,
            "border": null,
            "align_items": null,
            "bottom": null,
            "_model_module": "@jupyter-widgets/base",
            "top": null,
            "grid_column": null,
            "overflow_y": null,
            "overflow_x": null,
            "grid_auto_flow": null,
            "grid_area": null,
            "grid_template_columns": null,
            "flex": null,
            "_model_name": "LayoutModel",
            "justify_items": null,
            "grid_row": null,
            "max_height": null,
            "align_content": null,
            "visibility": null,
            "align_self": null,
            "height": null,
            "min_height": null,
            "padding": null,
            "grid_auto_rows": null,
            "grid_gap": null,
            "max_width": null,
            "order": null,
            "_view_module_version": "1.2.0",
            "grid_template_areas": null,
            "object_position": null,
            "object_fit": null,
            "grid_auto_columns": null,
            "margin": null,
            "display": null,
            "left": null
          }
        },
        "e846a564397543a0bd257b3c33adb8bf": {
          "model_module": "@jupyter-widgets/controls",
          "model_name": "FloatProgressModel",
          "state": {
            "_view_name": "ProgressView",
            "style": "IPY_MODEL_ab0be0e3b5874af89c00396a67ddf4ae",
            "_dom_classes": [],
            "description": "100%",
            "_model_name": "FloatProgressModel",
            "bar_style": "success",
            "max": 534,
            "_view_module": "@jupyter-widgets/controls",
            "_model_module_version": "1.5.0",
            "value": 534,
            "_view_count": null,
            "_view_module_version": "1.5.0",
            "orientation": "horizontal",
            "min": 0,
            "description_tooltip": null,
            "_model_module": "@jupyter-widgets/controls",
            "layout": "IPY_MODEL_1577889b2d3644f3bec5383fb823cb91"
          }
        },
        "ef15a868dd7b4fc98b5ae38fa450f352": {
          "model_module": "@jupyter-widgets/controls",
          "model_name": "HTMLModel",
          "state": {
            "_view_name": "HTMLView",
            "style": "IPY_MODEL_83ff3f8401ab40c7b8306e032085ce9e",
            "_dom_classes": [],
            "description": "",
            "_model_name": "HTMLModel",
            "placeholder": "​",
            "_view_module": "@jupyter-widgets/controls",
            "_model_module_version": "1.5.0",
            "value": " 534/534 [01:51&lt;00:00,  4.79it/s]",
            "_view_count": null,
            "_view_module_version": "1.5.0",
            "description_tooltip": null,
            "_model_module": "@jupyter-widgets/controls",
            "layout": "IPY_MODEL_60e65e4bb3794899bbdf133730d68ad6"
          }
        },
        "ab0be0e3b5874af89c00396a67ddf4ae": {
          "model_module": "@jupyter-widgets/controls",
          "model_name": "ProgressStyleModel",
          "state": {
            "_view_name": "StyleView",
            "_model_name": "ProgressStyleModel",
            "description_width": "initial",
            "_view_module": "@jupyter-widgets/base",
            "_model_module_version": "1.5.0",
            "_view_count": null,
            "_view_module_version": "1.2.0",
            "bar_color": null,
            "_model_module": "@jupyter-widgets/controls"
          }
        },
        "1577889b2d3644f3bec5383fb823cb91": {
          "model_module": "@jupyter-widgets/base",
          "model_name": "LayoutModel",
          "state": {
            "_view_name": "LayoutView",
            "grid_template_rows": null,
            "right": null,
            "justify_content": null,
            "_view_module": "@jupyter-widgets/base",
            "overflow": null,
            "_model_module_version": "1.2.0",
            "_view_count": null,
            "flex_flow": null,
            "width": null,
            "min_width": null,
            "border": null,
            "align_items": null,
            "bottom": null,
            "_model_module": "@jupyter-widgets/base",
            "top": null,
            "grid_column": null,
            "overflow_y": null,
            "overflow_x": null,
            "grid_auto_flow": null,
            "grid_area": null,
            "grid_template_columns": null,
            "flex": null,
            "_model_name": "LayoutModel",
            "justify_items": null,
            "grid_row": null,
            "max_height": null,
            "align_content": null,
            "visibility": null,
            "align_self": null,
            "height": null,
            "min_height": null,
            "padding": null,
            "grid_auto_rows": null,
            "grid_gap": null,
            "max_width": null,
            "order": null,
            "_view_module_version": "1.2.0",
            "grid_template_areas": null,
            "object_position": null,
            "object_fit": null,
            "grid_auto_columns": null,
            "margin": null,
            "display": null,
            "left": null
          }
        },
        "83ff3f8401ab40c7b8306e032085ce9e": {
          "model_module": "@jupyter-widgets/controls",
          "model_name": "DescriptionStyleModel",
          "state": {
            "_view_name": "StyleView",
            "_model_name": "DescriptionStyleModel",
            "description_width": "",
            "_view_module": "@jupyter-widgets/base",
            "_model_module_version": "1.5.0",
            "_view_count": null,
            "_view_module_version": "1.2.0",
            "_model_module": "@jupyter-widgets/controls"
          }
        },
        "60e65e4bb3794899bbdf133730d68ad6": {
          "model_module": "@jupyter-widgets/base",
          "model_name": "LayoutModel",
          "state": {
            "_view_name": "LayoutView",
            "grid_template_rows": null,
            "right": null,
            "justify_content": null,
            "_view_module": "@jupyter-widgets/base",
            "overflow": null,
            "_model_module_version": "1.2.0",
            "_view_count": null,
            "flex_flow": null,
            "width": null,
            "min_width": null,
            "border": null,
            "align_items": null,
            "bottom": null,
            "_model_module": "@jupyter-widgets/base",
            "top": null,
            "grid_column": null,
            "overflow_y": null,
            "overflow_x": null,
            "grid_auto_flow": null,
            "grid_area": null,
            "grid_template_columns": null,
            "flex": null,
            "_model_name": "LayoutModel",
            "justify_items": null,
            "grid_row": null,
            "max_height": null,
            "align_content": null,
            "visibility": null,
            "align_self": null,
            "height": null,
            "min_height": null,
            "padding": null,
            "grid_auto_rows": null,
            "grid_gap": null,
            "max_width": null,
            "order": null,
            "_view_module_version": "1.2.0",
            "grid_template_areas": null,
            "object_position": null,
            "object_fit": null,
            "grid_auto_columns": null,
            "margin": null,
            "display": null,
            "left": null
          }
        },
        "6c4bc452921a4a72b5d61ba838b28b4b": {
          "model_module": "@jupyter-widgets/controls",
          "model_name": "HBoxModel",
          "state": {
            "_view_name": "HBoxView",
            "_dom_classes": [],
            "_model_name": "HBoxModel",
            "_view_module": "@jupyter-widgets/controls",
            "_model_module_version": "1.5.0",
            "_view_count": null,
            "_view_module_version": "1.5.0",
            "box_style": "",
            "layout": "IPY_MODEL_59962a4fb7b34ed2a7d1cdfd1b4f0535",
            "_model_module": "@jupyter-widgets/controls",
            "children": [
              "IPY_MODEL_6bfc7fe5709241339258b7c6590b586b",
              "IPY_MODEL_2eb0a27532424bc4bd74fa0ebe10beef"
            ]
          }
        },
        "59962a4fb7b34ed2a7d1cdfd1b4f0535": {
          "model_module": "@jupyter-widgets/base",
          "model_name": "LayoutModel",
          "state": {
            "_view_name": "LayoutView",
            "grid_template_rows": null,
            "right": null,
            "justify_content": null,
            "_view_module": "@jupyter-widgets/base",
            "overflow": null,
            "_model_module_version": "1.2.0",
            "_view_count": null,
            "flex_flow": null,
            "width": null,
            "min_width": null,
            "border": null,
            "align_items": null,
            "bottom": null,
            "_model_module": "@jupyter-widgets/base",
            "top": null,
            "grid_column": null,
            "overflow_y": null,
            "overflow_x": null,
            "grid_auto_flow": null,
            "grid_area": null,
            "grid_template_columns": null,
            "flex": null,
            "_model_name": "LayoutModel",
            "justify_items": null,
            "grid_row": null,
            "max_height": null,
            "align_content": null,
            "visibility": null,
            "align_self": null,
            "height": null,
            "min_height": null,
            "padding": null,
            "grid_auto_rows": null,
            "grid_gap": null,
            "max_width": null,
            "order": null,
            "_view_module_version": "1.2.0",
            "grid_template_areas": null,
            "object_position": null,
            "object_fit": null,
            "grid_auto_columns": null,
            "margin": null,
            "display": null,
            "left": null
          }
        },
        "6bfc7fe5709241339258b7c6590b586b": {
          "model_module": "@jupyter-widgets/controls",
          "model_name": "FloatProgressModel",
          "state": {
            "_view_name": "ProgressView",
            "style": "IPY_MODEL_50fac653a0b24849ad20d6303d5c17a0",
            "_dom_classes": [],
            "description": "100%",
            "_model_name": "FloatProgressModel",
            "bar_style": "success",
            "max": 270,
            "_view_module": "@jupyter-widgets/controls",
            "_model_module_version": "1.5.0",
            "value": 270,
            "_view_count": null,
            "_view_module_version": "1.5.0",
            "orientation": "horizontal",
            "min": 0,
            "description_tooltip": null,
            "_model_module": "@jupyter-widgets/controls",
            "layout": "IPY_MODEL_d75cad46a45041f7b6a6a6cedef8a98c"
          }
        },
        "2eb0a27532424bc4bd74fa0ebe10beef": {
          "model_module": "@jupyter-widgets/controls",
          "model_name": "HTMLModel",
          "state": {
            "_view_name": "HTMLView",
            "style": "IPY_MODEL_5432e8a5c2bc4782aec286148cb89f4d",
            "_dom_classes": [],
            "description": "",
            "_model_name": "HTMLModel",
            "placeholder": "​",
            "_view_module": "@jupyter-widgets/controls",
            "_model_module_version": "1.5.0",
            "value": " 270/270 [02:19&lt;00:00,  1.94it/s]",
            "_view_count": null,
            "_view_module_version": "1.5.0",
            "description_tooltip": null,
            "_model_module": "@jupyter-widgets/controls",
            "layout": "IPY_MODEL_fb2f0773ac2442308b4ba2a747672a3f"
          }
        },
        "50fac653a0b24849ad20d6303d5c17a0": {
          "model_module": "@jupyter-widgets/controls",
          "model_name": "ProgressStyleModel",
          "state": {
            "_view_name": "StyleView",
            "_model_name": "ProgressStyleModel",
            "description_width": "initial",
            "_view_module": "@jupyter-widgets/base",
            "_model_module_version": "1.5.0",
            "_view_count": null,
            "_view_module_version": "1.2.0",
            "bar_color": null,
            "_model_module": "@jupyter-widgets/controls"
          }
        },
        "d75cad46a45041f7b6a6a6cedef8a98c": {
          "model_module": "@jupyter-widgets/base",
          "model_name": "LayoutModel",
          "state": {
            "_view_name": "LayoutView",
            "grid_template_rows": null,
            "right": null,
            "justify_content": null,
            "_view_module": "@jupyter-widgets/base",
            "overflow": null,
            "_model_module_version": "1.2.0",
            "_view_count": null,
            "flex_flow": null,
            "width": null,
            "min_width": null,
            "border": null,
            "align_items": null,
            "bottom": null,
            "_model_module": "@jupyter-widgets/base",
            "top": null,
            "grid_column": null,
            "overflow_y": null,
            "overflow_x": null,
            "grid_auto_flow": null,
            "grid_area": null,
            "grid_template_columns": null,
            "flex": null,
            "_model_name": "LayoutModel",
            "justify_items": null,
            "grid_row": null,
            "max_height": null,
            "align_content": null,
            "visibility": null,
            "align_self": null,
            "height": null,
            "min_height": null,
            "padding": null,
            "grid_auto_rows": null,
            "grid_gap": null,
            "max_width": null,
            "order": null,
            "_view_module_version": "1.2.0",
            "grid_template_areas": null,
            "object_position": null,
            "object_fit": null,
            "grid_auto_columns": null,
            "margin": null,
            "display": null,
            "left": null
          }
        },
        "5432e8a5c2bc4782aec286148cb89f4d": {
          "model_module": "@jupyter-widgets/controls",
          "model_name": "DescriptionStyleModel",
          "state": {
            "_view_name": "StyleView",
            "_model_name": "DescriptionStyleModel",
            "description_width": "",
            "_view_module": "@jupyter-widgets/base",
            "_model_module_version": "1.5.0",
            "_view_count": null,
            "_view_module_version": "1.2.0",
            "_model_module": "@jupyter-widgets/controls"
          }
        },
        "fb2f0773ac2442308b4ba2a747672a3f": {
          "model_module": "@jupyter-widgets/base",
          "model_name": "LayoutModel",
          "state": {
            "_view_name": "LayoutView",
            "grid_template_rows": null,
            "right": null,
            "justify_content": null,
            "_view_module": "@jupyter-widgets/base",
            "overflow": null,
            "_model_module_version": "1.2.0",
            "_view_count": null,
            "flex_flow": null,
            "width": null,
            "min_width": null,
            "border": null,
            "align_items": null,
            "bottom": null,
            "_model_module": "@jupyter-widgets/base",
            "top": null,
            "grid_column": null,
            "overflow_y": null,
            "overflow_x": null,
            "grid_auto_flow": null,
            "grid_area": null,
            "grid_template_columns": null,
            "flex": null,
            "_model_name": "LayoutModel",
            "justify_items": null,
            "grid_row": null,
            "max_height": null,
            "align_content": null,
            "visibility": null,
            "align_self": null,
            "height": null,
            "min_height": null,
            "padding": null,
            "grid_auto_rows": null,
            "grid_gap": null,
            "max_width": null,
            "order": null,
            "_view_module_version": "1.2.0",
            "grid_template_areas": null,
            "object_position": null,
            "object_fit": null,
            "grid_auto_columns": null,
            "margin": null,
            "display": null,
            "left": null
          }
        }
      }
    }
  },
  "cells": [
    {
      "cell_type": "markdown",
      "metadata": {
        "id": "VqQZ2rltGxId"
      },
      "source": [
        "# Stock price forecasting system\n",
        "Authors: Leonardo Emili, Alessio Luciani"
      ]
    },
    {
      "cell_type": "markdown",
      "metadata": {
        "id": "72KweISRGt2c"
      },
      "source": [
        "## Project setup"
      ]
    },
    {
      "cell_type": "code",
      "metadata": {
        "colab": {
          "base_uri": "https://localhost:8080/"
        },
        "id": "9Y7Ko8G0EN5i",
        "outputId": "44b08364-6f2a-41e9-cace-d827897a6ec1"
      },
      "source": [
        "try:\n",
        "    # Setup the project directory if running on Colab\n",
        "    from google.colab import drive\n",
        "    drive.mount('/content/gdrive/')\n",
        "    !cp gdrive/MyDrive/stock-forecasting-proj/data.zip .\n",
        "    !unzip -q data.zip\n",
        "    !rm data.zip\n",
        "except:\n",
        "    pass"
      ],
      "execution_count": 24,
      "outputs": []
    },
    {
      "cell_type": "code",
      "metadata": {
        "id": "J4U0QPnb1ZAy"
      },
      "source": [
        "%matplotlib inline\n",
        "\n",
        "# Data\n",
        "import numpy as np\n",
        "import matplotlib.pyplot as plt\n",
        "import pandas as pd\n",
        "import plotly.express as px\n",
        "import missingno as msno\n",
        "\n",
        "# Torch\n",
        "import torch\n",
        "import torch.nn as nn\n",
        "\n",
        "# General\n",
        "import glob\n",
        "from tqdm.notebook import tqdm\n",
        "from typing import *\n",
        "import datetime"
      ],
      "execution_count": 25,
      "outputs": []
    },
    {
      "cell_type": "markdown",
      "metadata": {
        "id": "atGCQIQt1ZA7"
      },
      "source": [
        "## Dataset loading"
      ]
    },
    {
      "cell_type": "code",
      "metadata": {
        "colab": {
          "base_uri": "https://localhost:8080/",
          "height": 66,
          "referenced_widgets": [
            "96dbccde871842ed864c1185abf6f49f",
            "a545ee4b37634e45ba5a14d00057212a",
            "e5dfa8e9b0dd408aa681b13db00a3398",
            "ffd4631fcbd043a8939d41d4830bcee5",
            "1abf4f43895b40fb885727119b7fd33c",
            "da839fda07e347d7afb72378bc6aabd7",
            "bb1c31f8ac3748588d42d1bb498539a6",
            "8ce71f6ffac54d88a196f5338acb5ba7"
          ]
        },
        "id": "KGZ4Tru01ZA7",
        "outputId": "e1b07961-fd97-4a81-aef8-b0a7ef9d2aee"
      },
      "source": [
        "# Key stats dataframe\n",
        "key_stats_df = pd.read_csv(\"data/key_stats_yahoo.csv\")\n",
        "key_stats_df.drop(key_stats_df.columns[0], axis=1, inplace=True)\n",
        "key_stats_df.Date = pd.to_datetime(key_stats_df.Date)\n",
        "\n",
        "# Prices dataframes for every stock\n",
        "prices_files = glob.glob(\"data/prices/*.csv\")\n",
        "dfs_names = [f.rsplit('/', 1)[1][:-len('.csv')] for f in prices_files]\n",
        "prices_dfs = []\n",
        "for f in tqdm(prices_files, desc='Reading stock price data', total=len(prices_files)):\n",
        "    df = pd.read_csv(f)\n",
        "    df.Date = pd.to_datetime(df.Date)\n",
        "    prices_dfs.append(df)"
      ],
      "execution_count": 26,
      "outputs": [
        {
          "output_type": "display_data",
          "data": {
            "text/plain": "Reading stock price data:   0%|          | 0/429 [00:00<?, ?it/s]",
            "application/vnd.jupyter.widget-view+json": {
              "version_major": 2,
              "version_minor": 0,
              "model_id": "f6902f16be5b43dba58aba0632000d41"
            }
          },
          "metadata": {}
        }
      ]
    },
    {
      "cell_type": "markdown",
      "metadata": {
        "id": "oXn_lZEMSCp1"
      },
      "source": [
        "## Dataset analysis"
      ]
    },
    {
      "cell_type": "code",
      "metadata": {
        "colab": {
          "base_uri": "https://localhost:8080/",
          "height": 460
        },
        "id": "tORhSJQqHpa_",
        "outputId": "4a97bffd-e55c-4b47-caaf-7dfaceeec45f"
      },
      "source": [
        "print(\"Key stats dataframe format:\")\n",
        "key_stats_df.head()"
      ],
      "execution_count": 27,
      "outputs": [
        {
          "output_type": "stream",
          "name": "stdout",
          "text": [
            "Key stats dataframe format:\n"
          ]
        },
        {
          "output_type": "execute_result",
          "data": {
            "text/plain": [
              "                 Date Ticker    Price  DE Ratio  Trailing P/E  Price/Sales  \\\n",
              "0 2004-01-30 19:01:00      a  33.8320     0.407           NaN         2.80   \n",
              "1 2004-04-13 04:07:00      a  28.4626     0.375           NaN         2.43   \n",
              "2 2004-12-13 21:37:00      a  21.8816     0.323         33.58         1.61   \n",
              "3 2005-01-22 05:17:00      a  20.2478     0.322         30.70         1.52   \n",
              "4 2006-01-09 02:35:00      a  31.7118     2.169         52.82         3.31   \n",
              "\n",
              "   Price/Book  Profit Margin  Operating Margin  Return on Assets  ...  \\\n",
              "0        6.01          29.56             11.97             24.95  ...   \n",
              "1        4.98          25.56              6.20             23.59  ...   \n",
              "2        3.24           4.86              5.38              5.26  ...   \n",
              "3        3.04           4.86              5.38              5.26  ...   \n",
              "4        4.26           6.38              3.58              1.68  ...   \n",
              "\n",
              "   Diluted EPS  Earnings Growth  Revenue Growth    Total Cash  \\\n",
              "0        3.774              NaN             0.8  1.610000e+09   \n",
              "1        3.391              NaN             0.8  1.680000e+09   \n",
              "2        0.710              NaN             0.8  2.320000e+09   \n",
              "3        0.710              NaN            18.6  2.320000e+09   \n",
              "4        0.660             64.9            22.8  2.250000e+09   \n",
              "\n",
              "   Total Cash Per Share    Total Debt  Current Ratio  Book Value Per Share  \\\n",
              "0                 3.370  1.150000e+09          2.040                 5.930   \n",
              "1                 3.490  1.150000e+09          2.284                 6.394   \n",
              "2                 4.750  1.150000e+09          2.441                 7.320   \n",
              "3                 4.710  1.150000e+09          2.446                 7.329   \n",
              "4                 4.555  2.169000e+00          2.169                 8.095   \n",
              "\n",
              "     Cash Flow   Beta  \n",
              "0  144000000.0  2.474  \n",
              "1  144000000.0  2.496  \n",
              "2  483000000.0  2.547  \n",
              "3  663000000.0  2.166  \n",
              "4  890000000.0    NaN  \n",
              "\n",
              "[5 rows x 32 columns]"
            ],
            "text/html": "<div>\n<style scoped>\n    .dataframe tbody tr th:only-of-type {\n        vertical-align: middle;\n    }\n\n    .dataframe tbody tr th {\n        vertical-align: top;\n    }\n\n    .dataframe thead th {\n        text-align: right;\n    }\n</style>\n<table border=\"1\" class=\"dataframe\">\n  <thead>\n    <tr style=\"text-align: right;\">\n      <th></th>\n      <th>Date</th>\n      <th>Ticker</th>\n      <th>Price</th>\n      <th>DE Ratio</th>\n      <th>Trailing P/E</th>\n      <th>Price/Sales</th>\n      <th>Price/Book</th>\n      <th>Profit Margin</th>\n      <th>Operating Margin</th>\n      <th>Return on Assets</th>\n      <th>...</th>\n      <th>Diluted EPS</th>\n      <th>Earnings Growth</th>\n      <th>Revenue Growth</th>\n      <th>Total Cash</th>\n      <th>Total Cash Per Share</th>\n      <th>Total Debt</th>\n      <th>Current Ratio</th>\n      <th>Book Value Per Share</th>\n      <th>Cash Flow</th>\n      <th>Beta</th>\n    </tr>\n  </thead>\n  <tbody>\n    <tr>\n      <th>0</th>\n      <td>2004-01-30 19:01:00</td>\n      <td>a</td>\n      <td>33.8320</td>\n      <td>0.407</td>\n      <td>NaN</td>\n      <td>2.80</td>\n      <td>6.01</td>\n      <td>29.56</td>\n      <td>11.97</td>\n      <td>24.95</td>\n      <td>...</td>\n      <td>3.774</td>\n      <td>NaN</td>\n      <td>0.8</td>\n      <td>1.610000e+09</td>\n      <td>3.370</td>\n      <td>1.150000e+09</td>\n      <td>2.040</td>\n      <td>5.930</td>\n      <td>144000000.0</td>\n      <td>2.474</td>\n    </tr>\n    <tr>\n      <th>1</th>\n      <td>2004-04-13 04:07:00</td>\n      <td>a</td>\n      <td>28.4626</td>\n      <td>0.375</td>\n      <td>NaN</td>\n      <td>2.43</td>\n      <td>4.98</td>\n      <td>25.56</td>\n      <td>6.20</td>\n      <td>23.59</td>\n      <td>...</td>\n      <td>3.391</td>\n      <td>NaN</td>\n      <td>0.8</td>\n      <td>1.680000e+09</td>\n      <td>3.490</td>\n      <td>1.150000e+09</td>\n      <td>2.284</td>\n      <td>6.394</td>\n      <td>144000000.0</td>\n      <td>2.496</td>\n    </tr>\n    <tr>\n      <th>2</th>\n      <td>2004-12-13 21:37:00</td>\n      <td>a</td>\n      <td>21.8816</td>\n      <td>0.323</td>\n      <td>33.58</td>\n      <td>1.61</td>\n      <td>3.24</td>\n      <td>4.86</td>\n      <td>5.38</td>\n      <td>5.26</td>\n      <td>...</td>\n      <td>0.710</td>\n      <td>NaN</td>\n      <td>0.8</td>\n      <td>2.320000e+09</td>\n      <td>4.750</td>\n      <td>1.150000e+09</td>\n      <td>2.441</td>\n      <td>7.320</td>\n      <td>483000000.0</td>\n      <td>2.547</td>\n    </tr>\n    <tr>\n      <th>3</th>\n      <td>2005-01-22 05:17:00</td>\n      <td>a</td>\n      <td>20.2478</td>\n      <td>0.322</td>\n      <td>30.70</td>\n      <td>1.52</td>\n      <td>3.04</td>\n      <td>4.86</td>\n      <td>5.38</td>\n      <td>5.26</td>\n      <td>...</td>\n      <td>0.710</td>\n      <td>NaN</td>\n      <td>18.6</td>\n      <td>2.320000e+09</td>\n      <td>4.710</td>\n      <td>1.150000e+09</td>\n      <td>2.446</td>\n      <td>7.329</td>\n      <td>663000000.0</td>\n      <td>2.166</td>\n    </tr>\n    <tr>\n      <th>4</th>\n      <td>2006-01-09 02:35:00</td>\n      <td>a</td>\n      <td>31.7118</td>\n      <td>2.169</td>\n      <td>52.82</td>\n      <td>3.31</td>\n      <td>4.26</td>\n      <td>6.38</td>\n      <td>3.58</td>\n      <td>1.68</td>\n      <td>...</td>\n      <td>0.660</td>\n      <td>64.9</td>\n      <td>22.8</td>\n      <td>2.250000e+09</td>\n      <td>4.555</td>\n      <td>2.169000e+00</td>\n      <td>2.169</td>\n      <td>8.095</td>\n      <td>890000000.0</td>\n      <td>NaN</td>\n    </tr>\n  </tbody>\n</table>\n<p>5 rows × 32 columns</p>\n</div>"
          },
          "metadata": {},
          "execution_count": 27
        }
      ]
    },
    {
      "cell_type": "code",
      "metadata": {
        "colab": {
          "base_uri": "https://localhost:8080/",
          "height": 215
        },
        "id": "_95C-hBq1ZA9",
        "outputId": "dc5074cc-b40b-44cd-f1ae-611030247a03"
      },
      "source": [
        "print(\"Prices dataframe format:\")\n",
        "prices_dfs[0].head()"
      ],
      "execution_count": 28,
      "outputs": [
        {
          "output_type": "stream",
          "name": "stdout",
          "text": [
            "Prices dataframe format:\n"
          ]
        },
        {
          "output_type": "execute_result",
          "data": {
            "text/plain": [
              "        Date       Low  Open     Volume      High     Close  Adjusted Close\n",
              "0 1990-02-16  0.073785   0.0  940636800  0.079861  0.077257        0.057364\n",
              "1 1990-02-20  0.074653   0.0  151862400  0.079861  0.079861        0.059297\n",
              "2 1990-02-21  0.075521   0.0   70531200  0.078993  0.078125        0.058008\n",
              "3 1990-02-22  0.078993   0.0   45216000  0.081597  0.078993        0.058653\n",
              "4 1990-02-23  0.078125   0.0   44697600  0.079861  0.078559        0.058331"
            ],
            "text/html": "<div>\n<style scoped>\n    .dataframe tbody tr th:only-of-type {\n        vertical-align: middle;\n    }\n\n    .dataframe tbody tr th {\n        vertical-align: top;\n    }\n\n    .dataframe thead th {\n        text-align: right;\n    }\n</style>\n<table border=\"1\" class=\"dataframe\">\n  <thead>\n    <tr style=\"text-align: right;\">\n      <th></th>\n      <th>Date</th>\n      <th>Low</th>\n      <th>Open</th>\n      <th>Volume</th>\n      <th>High</th>\n      <th>Close</th>\n      <th>Adjusted Close</th>\n    </tr>\n  </thead>\n  <tbody>\n    <tr>\n      <th>0</th>\n      <td>1990-02-16</td>\n      <td>0.073785</td>\n      <td>0.0</td>\n      <td>940636800</td>\n      <td>0.079861</td>\n      <td>0.077257</td>\n      <td>0.057364</td>\n    </tr>\n    <tr>\n      <th>1</th>\n      <td>1990-02-20</td>\n      <td>0.074653</td>\n      <td>0.0</td>\n      <td>151862400</td>\n      <td>0.079861</td>\n      <td>0.079861</td>\n      <td>0.059297</td>\n    </tr>\n    <tr>\n      <th>2</th>\n      <td>1990-02-21</td>\n      <td>0.075521</td>\n      <td>0.0</td>\n      <td>70531200</td>\n      <td>0.078993</td>\n      <td>0.078125</td>\n      <td>0.058008</td>\n    </tr>\n    <tr>\n      <th>3</th>\n      <td>1990-02-22</td>\n      <td>0.078993</td>\n      <td>0.0</td>\n      <td>45216000</td>\n      <td>0.081597</td>\n      <td>0.078993</td>\n      <td>0.058653</td>\n    </tr>\n    <tr>\n      <th>4</th>\n      <td>1990-02-23</td>\n      <td>0.078125</td>\n      <td>0.0</td>\n      <td>44697600</td>\n      <td>0.079861</td>\n      <td>0.078559</td>\n      <td>0.058331</td>\n    </tr>\n  </tbody>\n</table>\n</div>"
          },
          "metadata": {},
          "execution_count": 28
        }
      ]
    },
    {
      "cell_type": "markdown",
      "metadata": {
        "id": "la4nlCg-Jgfd"
      },
      "source": [
        "### Utility functions"
      ]
    },
    {
      "cell_type": "code",
      "metadata": {
        "id": "ShX2IDrGJibL"
      },
      "source": [
        "def prices_df_nan_summary(prices_dfs, names):\n",
        "    ''' Utility function to summarize columns that have missing values. '''\n",
        "    nan_dfs = []\n",
        "    for i, (prices_df, name) in enumerate(zip(prices_dfs, names)):\n",
        "        nan_cols = []\n",
        "        nan_values = []\n",
        "        for column in prices_df.columns:\n",
        "            nan_absolute = prices_df[column].isnull().sum()\n",
        "            if nan_absolute > 0:\n",
        "                # Only consider columns that cointain NaN values\n",
        "                nan_cols.append(column)\n",
        "                nan_values.append(nan_absolute)\n",
        "        if len(nan_cols):\n",
        "            # Either we have all the data for a given day or we don't have any data for it\n",
        "            assert len(set(nan_values)) == 1\n",
        "            count = nan_values[0]\n",
        "            nan_dfs.append((name, round(100*count/len(prices_df.index), 3), count))\n",
        "    return pd.DataFrame(nan_dfs, columns=['Stock name', 'Missing data (%)', 'Count'])\n",
        "\n",
        "def remove_trailing_nan(df: pd.DataFrame, ticker: str, col: str = 'Low') -> pd.DataFrame:\n",
        "    '''\n",
        "    A trick to detect if the input DataFrame ends with a contiguous collection of NaN rows.\n",
        "    It is mainly an adaptation from: https://stackoverflow.com/questions/29007830/identifying-consecutive-nans-with-pandas\n",
        "    '''\n",
        "    if ticker == 'CTQ':\n",
        "        # This special case refers to a stock that is not active for a long period but contains two days of activity:\n",
        "        # up ..... up down ..... down [up down ... down up] down ..... down\n",
        "        # We consider the period comprised in square brackets as an inactivity period. Otherwise feature imputation\n",
        "        # would be harder and less reliable, hence dropping a few rows (i.e. 2) increases the quality of our data.\n",
        "        df.iloc[1397] = np.nan\n",
        "        df.iloc[1400] = np.nan\n",
        "    group_by_nan = df[col].isnull().astype(int).groupby(df[col].notnull().astype(int).cumsum()).cumsum()\n",
        "    training_nans = group_by_nan.iloc[-1]\n",
        "    return df[:-training_nans] if training_nans > 0 else df\n",
        "\n",
        "def merge_prices_fundamentals(\n",
        "    prices_dfs: List[pd.DataFrame],\n",
        "    key_stats_df: pd.DataFrame,\n",
        "    dfs_names: List[str],\n",
        "    drop_cols: List[str] = ['Date', 'Ticker', 'Price']\n",
        "    ) -> List[pd.DataFrame]:\n",
        "\n",
        "    # Define the target list of dataframes\n",
        "    prices_dfs_new = []\n",
        "    for ticker, ticker_df in tqdm(key_stats_df.groupby('Ticker'), desc='Merging the datasets ...'):\n",
        "        # Consider only stocks for which we have fundamental data\n",
        "        if ticker.upper() not in dfs_names: continue\n",
        "        \n",
        "        # The current financial report\n",
        "        ticker_iterator = list(ticker_df.iterrows())\n",
        "        ticker_iter_idx = 0\n",
        "\n",
        "        # Merge the two dataset according to the value of ticker_date\n",
        "        ticker_row = ticker_iterator[ticker_iter_idx][1]\n",
        "        ticker_date = ticker_row.Date\n",
        "        ticker_row.drop(drop_cols, inplace=True)\n",
        "        fundamental_cols, financial_values = ticker_row.index, ticker_row.values\n",
        "\n",
        "        # Consider the relative stock ticker dataframe\n",
        "        prices_df_idx = dfs_names.index(ticker.upper())\n",
        "        prices_df = prices_dfs[prices_df_idx]\n",
        "        # Dropping unused price value columns (we are using adjusted close)\n",
        "        prices_df = prices_df.drop(['High', 'Low', 'Open', 'Close'], axis=1)\n",
        "        fundamental_rows = []\n",
        "\n",
        "        # Discard events that occurred before the first financial report\n",
        "        begin_idx = prices_df[prices_df.Date >= ticker_date].index[0]\n",
        "        for i, row in prices_df[begin_idx:].iterrows():\n",
        "            # Use the last updated financial report if available (otherwise fast-forward the latest)\n",
        "            if ticker_date < row.Date and ticker_iter_idx + 1 < len(ticker_iterator):\n",
        "                # Update info about fundamental data\n",
        "                ticker_iter_idx += 1\n",
        "                ticker_row = ticker_iterator[ticker_iter_idx][1]\n",
        "                ticker_date = ticker_row.Date\n",
        "                ticker_row.drop(drop_cols, inplace=True)\n",
        "                financial_values = ticker_row.values\n",
        "            \n",
        "            fundamental_rows.append(financial_values)\n",
        "\n",
        "        # Finally merge the two datasets into one that has the same rows and the union of columns\n",
        "        fundamental_df = pd.DataFrame(fundamental_rows, columns=fundamental_cols)\n",
        "        valid_prices_df = prices_df[begin_idx:].reset_index(drop=True)\n",
        "        merged_df = pd.concat((fundamental_df, valid_prices_df), axis=1)\n",
        "\n",
        "        assert merged_df.shape == (fundamental_df.shape[0], fundamental_df.shape[1] + valid_prices_df.shape[1])\n",
        "        prices_dfs_new.append(merged_df)\n",
        "    \n",
        "    return prices_dfs_new\n",
        "\n",
        "def fill_missing_days(aggregate_dfs: List[pd.DataFrame], remove_weekends: bool = True, end_year: int = 2013) -> List[pd.DataFrame]:\n",
        "    '''\n",
        "    Returns the aggregated dataframes where gaps have been filled using fast-forward techniques.\n",
        "    If remove_weekends is specified, only prices for weekdays are retained.\n",
        "    '''\n",
        "\n",
        "    def is_weekday(date: datetime) -> bool:\n",
        "        ''' Returns true if the provided date corresponds to a weekday. '''\n",
        "        return date.weekday() < 5\n",
        "\n",
        "    result_dfs = []\n",
        "    for df in tqdm(aggregate_dfs, desc='Filling missing days ...'):\n",
        "        rows = list(df.iterrows())\n",
        "        _, last_row = rows[0]\n",
        "        \n",
        "        # Skip datasets (less than 2%) whose available data starts after the end_year\n",
        "        if end_year is not None and last_row.Date.year > end_year: continue\n",
        "        date_idx = last_row.index.tolist().index(\"Date\")\n",
        "\n",
        "        output_rows = [last_row.values.tolist()]\n",
        "        for _, row in rows[1:]:\n",
        "            # Skip rows that exceed the end_year\n",
        "            if end_year is not None and row.Date.year > end_year: break\n",
        "\n",
        "            # Compute the current time gap in our dataset\n",
        "            missing_days = (row.Date - last_row.Date).days - 1\n",
        "            for day_offset in range(1, missing_days+1):\n",
        "                # Fill the gap adding [day_offset] days with the last observed values\n",
        "                delta = datetime.timedelta(days=day_offset)\n",
        "                output_rows.append(last_row.values.tolist())\n",
        "                output_rows[-1][date_idx] = last_row.Date + delta\n",
        "\n",
        "            # Add and update the latest observed values\n",
        "            output_rows.append(row.values.tolist())\n",
        "            last_row = row\n",
        "    \n",
        "        # Skip weekends\n",
        "        if remove_weekends:\n",
        "            output_rows = [row for row in output_rows if is_weekday(row[date_idx])]\n",
        "        result_dfs.append(pd.DataFrame(output_rows, columns=aggregate_dfs[0].columns))\n",
        "    return result_dfs"
      ],
      "execution_count": 29,
      "outputs": []
    },
    {
      "cell_type": "markdown",
      "metadata": {
        "id": "NaJalO_rSO2S"
      },
      "source": [
        "### Missing values imputation"
      ]
    },
    {
      "cell_type": "code",
      "metadata": {
        "colab": {
          "base_uri": "https://localhost:8080/",
          "height": 501
        },
        "id": "EkN5eXNURMF3",
        "outputId": "10120411-7544-4138-a09c-f181120d7179"
      },
      "source": [
        "_ = msno.matrix(key_stats_df, figsize=(16,6), fontsize=12)"
      ],
      "execution_count": 30,
      "outputs": [
        {
          "output_type": "display_data",
          "data": {
            "text/plain": "<Figure size 1600x600 with 2 Axes>",
            "image/svg+xml": "<?xml version=\"1.0\" encoding=\"utf-8\" standalone=\"no\"?>\n<!DOCTYPE svg PUBLIC \"-//W3C//DTD SVG 1.1//EN\"\n  \"http://www.w3.org/Graphics/SVG/1.1/DTD/svg11.dtd\">\n<!-- Created with matplotlib (https://matplotlib.org/) -->\n<svg height=\"490.076941pt\" version=\"1.1\" viewBox=\"0 0 965.1 490.076941\" width=\"965.1pt\" xmlns=\"http://www.w3.org/2000/svg\" xmlns:xlink=\"http://www.w3.org/1999/xlink\">\n <metadata>\n  <rdf:RDF xmlns:cc=\"http://creativecommons.org/ns#\" xmlns:dc=\"http://purl.org/dc/elements/1.1/\" xmlns:rdf=\"http://www.w3.org/1999/02/22-rdf-syntax-ns#\">\n   <cc:Work>\n    <dc:type rdf:resource=\"http://purl.org/dc/dcmitype/StillImage\"/>\n    <dc:date>2021-05-07T22:54:35.103258</dc:date>\n    <dc:format>image/svg+xml</dc:format>\n    <dc:creator>\n     <cc:Agent>\n      <dc:title>Matplotlib v3.3.4, https://matplotlib.org/</dc:title>\n     </cc:Agent>\n    </dc:creator>\n   </cc:Work>\n  </rdf:RDF>\n </metadata>\n <defs>\n  <style type=\"text/css\">*{stroke-linecap:butt;stroke-linejoin:round;}</style>\n </defs>\n <g id=\"figure_1\">\n  <g id=\"patch_1\">\n   <path d=\"M 0 490.076941 \nL 965.1 490.076941 \nL 965.1 0 \nL 0 0 \nz\n\" style=\"fill:#ffffff;\"/>\n  </g>\n  <g id=\"axes_1\">\n   <g id=\"patch_2\">\n    <path d=\"M 891.521154 474.076794 \nL 945.175 474.076794 \nL 945.175 141.436794 \nL 891.521154 141.436794 \nz\n\" style=\"fill:#ffffff;\"/>\n   </g>\n   <g id=\"matplotlib.axis_1\"/>\n   <g id=\"matplotlib.axis_2\"/>\n   <g id=\"line2d_1\">\n    <path clip-path=\"url(#pb8920da5ed)\" d=\"M 931.055567 474.076794 \nL 931.055567 473.931075 \nL 919.76002 473.676067 \nL 939.527227 473.566778 \nL 933.879453 473.421059 \nL 939.527227 473.23891 \nL 925.407794 473.020332 \nL 936.70334 472.874613 \nL 936.70334 472.838183 \nL 939.527227 472.765323 \nL 922.583907 472.619604 \nL 911.28836 472.401026 \nL 925.407794 472.255307 \nL 925.407794 472.109588 \nL 919.76002 472.073158 \nL 939.527227 471.927439 \nL 939.527227 471.78172 \nL 931.055567 471.745291 \nL 936.70334 471.672431 \nL 939.527227 471.563142 \nL 936.70334 471.526712 \nL 939.527227 471.453853 \nL 939.527227 471.089555 \nL 933.879453 471.053125 \nL 936.70334 470.980266 \nL 936.70334 470.943836 \nL 931.055567 470.907406 \nL 936.70334 470.834547 \nL 933.879453 470.688828 \nL 939.527227 470.543109 \nL 939.527227 470.36096 \nL 928.23168 470.178812 \nL 928.23168 470.105952 \nL 939.527227 469.960233 \nL 939.527227 469.814514 \nL 933.879453 469.741655 \nL 936.70334 469.668795 \nL 939.527227 469.595936 \nL 936.70334 469.559506 \nL 936.70334 469.486646 \nL 933.879453 469.450217 \nL 939.527227 469.413787 \nL 939.527227 469.340927 \nL 931.055567 469.231638 \nL 939.527227 469.085919 \nL 939.527227 468.90377 \nL 928.23168 468.867341 \nL 939.527227 468.794481 \nL 939.527227 468.758051 \nL 931.055567 468.612332 \nL 939.527227 468.466614 \nL 939.527227 468.211605 \nL 928.23168 468.175176 \nL 939.527227 468.102316 \nL 939.527227 467.847308 \nL 928.23168 467.774448 \nL 931.055567 467.738019 \nL 939.527227 467.5923 \nL 939.527227 467.264432 \nL 925.407794 467.191572 \nL 933.879453 467.118713 \nL 936.70334 466.972994 \nL 936.70334 466.863705 \nL 933.879453 466.827275 \nL 939.527227 466.790845 \nL 939.527227 466.608697 \nL 936.70334 466.535837 \nL 939.527227 466.499407 \nL 939.527227 466.462978 \nL 936.70334 466.317259 \nL 936.70334 466.280829 \nL 931.055567 466.244399 \nL 936.70334 466.207969 \nL 939.527227 466.06225 \nL 928.23168 466.025821 \nL 939.527227 465.952961 \nL 931.055567 465.843672 \nL 936.70334 465.807242 \nL 931.055567 465.734383 \nL 931.055567 465.661523 \nL 928.23168 465.625093 \nL 939.527227 465.588664 \nL 933.879453 465.515804 \nL 936.70334 465.370085 \nL 936.70334 465.333655 \nL 933.879453 465.224366 \nL 936.70334 465.078647 \nL 936.70334 465.042217 \nL 939.527227 464.969358 \nL 936.70334 464.932928 \nL 922.583907 464.860069 \nL 925.407794 464.787209 \nL 939.527227 464.67792 \nL 936.70334 464.64149 \nL 936.70334 464.495771 \nL 922.583907 464.386482 \nL 933.879453 464.350052 \nL 933.879453 464.313623 \nL 905.640587 463.949325 \nL 939.527227 463.876466 \nL 933.879453 463.840036 \nL 936.70334 463.803606 \nL 925.407794 463.767176 \nL 933.879453 463.730747 \nL 939.527227 463.585028 \nL 931.055567 463.548598 \nL 936.70334 463.475738 \nL 933.879453 463.402879 \nL 939.527227 463.25716 \nL 939.527227 463.184301 \nL 908.464474 463.002152 \nL 931.055567 462.929292 \nL 928.23168 462.892863 \nL 928.23168 462.856433 \nL 939.527227 462.601425 \nL 939.527227 462.564995 \nL 936.70334 462.528565 \nL 939.527227 462.455706 \nL 939.527227 461.945689 \nL 933.879453 461.909259 \nL 936.70334 461.8364 \nL 936.70334 461.435673 \nL 922.583907 461.362813 \nL 936.70334 461.326384 \nL 936.70334 460.707078 \nL 933.879453 460.670648 \nL 939.527227 460.634218 \nL 939.527227 460.488499 \nL 928.23168 460.306351 \nL 939.527227 460.269921 \nL 931.055567 460.197061 \nL 928.23168 460.124202 \nL 936.70334 460.014913 \nL 936.70334 459.978483 \nL 931.055567 459.869194 \nL 939.527227 459.723475 \nL 939.527227 459.687045 \nL 914.112247 459.614186 \nL 919.76002 459.468467 \nL 925.407794 459.286318 \nL 925.407794 459.213458 \nL 922.583907 459.177029 \nL 928.23168 459.140599 \nL 928.23168 459.03131 \nL 925.407794 458.99488 \nL 939.527227 458.849161 \nL 939.527227 458.776301 \nL 933.879453 458.703442 \nL 936.70334 458.667012 \nL 936.70334 458.557723 \nL 931.055567 458.448434 \nL 939.527227 458.302715 \nL 928.23168 458.156996 \nL 939.527227 458.011277 \nL 933.879453 457.974847 \nL 936.70334 457.901988 \nL 936.70334 457.756269 \nL 939.527227 457.61055 \nL 939.527227 457.428401 \nL 925.407794 457.282682 \nL 925.407794 456.991244 \nL 919.76002 456.918384 \nL 925.407794 456.881955 \nL 925.407794 456.809095 \nL 922.583907 456.663376 \nL 925.407794 456.590517 \nL 919.76002 456.444798 \nL 925.407794 456.299079 \nL 925.407794 456.262649 \nL 922.583907 456.226219 \nL 939.527227 456.11693 \nL 936.70334 456.0805 \nL 939.527227 456.007641 \nL 939.527227 455.679773 \nL 933.879453 455.643343 \nL 936.70334 455.570484 \nL 936.70334 455.351905 \nL 939.527227 455.242616 \nL 933.879453 455.133327 \nL 939.527227 455.060467 \nL 936.70334 455.024038 \nL 936.70334 454.987608 \nL 939.527227 454.841889 \nL 939.527227 454.69617 \nL 914.112247 454.550451 \nL 939.527227 454.404732 \nL 939.527227 454.295443 \nL 919.76002 454.259013 \nL 931.055567 454.186154 \nL 939.527227 454.040435 \nL 939.527227 454.004005 \nL 936.70334 453.931145 \nL 939.527227 453.894716 \nL 939.527227 453.858286 \nL 936.70334 453.712567 \nL 936.70334 453.384699 \nL 939.527227 453.31184 \nL 931.055567 453.27541 \nL 939.527227 453.20255 \nL 939.527227 453.129691 \nL 933.879453 453.056831 \nL 939.527227 453.020402 \nL 939.527227 452.947542 \nL 933.879453 452.801823 \nL 936.70334 452.656104 \nL 928.23168 452.510385 \nL 928.23168 452.473956 \nL 936.70334 452.437526 \nL 922.583907 452.401096 \nL 922.583907 452.364666 \nL 936.70334 452.218947 \nL 933.879453 452.146088 \nL 939.527227 452.073228 \nL 936.70334 452.036799 \nL 936.70334 452.000369 \nL 933.879453 451.963939 \nL 936.70334 451.89108 \nL 936.70334 451.745361 \nL 939.527227 451.672501 \nL 919.76002 451.636071 \nL 928.23168 451.563212 \nL 936.70334 451.453923 \nL 922.583907 451.417493 \nL 936.70334 451.344633 \nL 933.879453 451.198914 \nL 933.879453 451.162485 \nL 931.055567 451.126055 \nL 933.879453 451.089625 \nL 936.70334 451.053195 \nL 933.879453 451.016766 \nL 931.055567 450.980336 \nL 939.527227 450.907476 \nL 925.407794 450.871047 \nL 928.23168 450.798187 \nL 939.527227 450.688898 \nL 931.055567 450.652468 \nL 933.879453 450.579609 \nL 933.879453 450.543179 \nL 925.407794 450.506749 \nL 936.70334 450.47032 \nL 928.23168 450.43389 \nL 939.527227 450.288171 \nL 919.76002 450.215311 \nL 936.70334 450.178882 \nL 936.70334 450.142452 \nL 919.76002 450.106022 \nL 925.407794 450.033163 \nL 925.407794 449.923873 \nL 939.527227 449.778154 \nL 939.527227 449.632435 \nL 931.055567 449.596006 \nL 936.70334 449.523146 \nL 939.527227 449.486716 \nL 936.70334 449.413857 \nL 936.70334 449.304568 \nL 939.527227 449.231708 \nL 931.055567 449.195278 \nL 933.879453 449.122419 \nL 939.527227 449.01313 \nL 933.879453 448.830981 \nL 936.70334 448.685262 \nL 936.70334 448.648832 \nL 939.527227 448.612403 \nL 911.28836 448.466684 \nL 931.055567 448.430254 \nL 922.583907 448.357394 \nL 922.583907 448.320965 \nL 919.76002 448.284535 \nL 939.527227 448.138816 \nL 939.527227 447.883808 \nL 933.879453 447.810948 \nL 936.70334 447.774518 \nL 936.70334 447.446651 \nL 939.527227 447.300932 \nL 939.527227 447.228072 \nL 922.583907 447.155213 \nL 925.407794 447.082353 \nL 925.407794 446.790915 \nL 922.583907 446.754486 \nL 925.407794 446.681626 \nL 925.407794 446.535907 \nL 936.70334 446.390188 \nL 936.70334 446.317329 \nL 928.23168 446.208039 \nL 931.055567 446.17161 \nL 928.23168 446.13518 \nL 931.055567 446.09875 \nL 939.527227 445.880172 \nL 939.527227 445.807312 \nL 922.583907 445.698023 \nL 936.70334 445.552304 \nL 936.70334 445.443015 \nL 933.879453 445.406585 \nL 939.527227 445.370155 \nL 939.527227 445.297296 \nL 931.055567 445.224436 \nL 939.527227 445.188007 \nL 939.527227 445.042288 \nL 933.879453 444.896569 \nL 936.70334 444.75085 \nL 936.70334 444.64156 \nL 939.527227 444.495841 \nL 925.407794 444.277263 \nL 928.23168 444.240833 \nL 928.23168 444.095114 \nL 939.527227 443.949395 \nL 933.879453 443.912965 \nL 936.70334 443.840106 \nL 936.70334 443.585098 \nL 928.23168 443.439379 \nL 939.527227 443.25723 \nL 936.70334 443.2208 \nL 939.527227 443.147941 \nL 939.527227 443.075081 \nL 931.055567 442.965792 \nL 936.70334 442.892933 \nL 931.055567 442.856503 \nL 925.407794 442.820073 \nL 939.527227 442.674354 \nL 939.527227 442.565065 \nL 933.879453 442.492205 \nL 936.70334 442.455776 \nL 936.70334 442.382916 \nL 933.879453 442.310057 \nL 939.527227 442.200767 \nL 936.70334 442.055049 \nL 936.70334 441.90933 \nL 919.76002 441.763611 \nL 936.70334 441.654321 \nL 931.055567 441.617892 \nL 939.527227 441.581462 \nL 939.527227 441.545032 \nL 936.70334 441.399313 \nL 939.527227 441.253594 \nL 939.527227 440.962156 \nL 931.055567 440.816437 \nL 931.055567 440.707148 \nL 936.70334 440.561429 \nL 936.70334 440.34285 \nL 939.527227 440.197132 \nL 939.527227 440.087842 \nL 928.23168 440.051413 \nL 936.70334 439.978553 \nL 936.70334 439.905694 \nL 922.583907 439.723545 \nL 936.70334 439.687115 \nL 933.879453 439.614256 \nL 933.879453 439.468537 \nL 939.527227 439.432107 \nL 936.70334 439.359247 \nL 936.70334 439.249958 \nL 922.583907 439.213528 \nL 939.527227 439.177099 \nL 939.527227 439.03138 \nL 925.407794 438.885661 \nL 939.527227 438.849231 \nL 936.70334 438.776371 \nL 933.879453 438.739942 \nL 939.527227 438.703512 \nL 939.527227 438.557793 \nL 925.407794 438.339215 \nL 936.70334 438.193496 \nL 936.70334 438.047777 \nL 939.527227 437.902058 \nL 939.527227 437.719909 \nL 931.055567 437.57419 \nL 931.055567 437.53776 \nL 939.527227 437.355611 \nL 914.112247 437.027744 \nL 939.527227 436.918454 \nL 936.70334 436.882025 \nL 939.527227 436.809165 \nL 939.527227 436.772736 \nL 933.879453 436.736306 \nL 936.70334 436.663446 \nL 936.70334 436.554157 \nL 928.23168 436.444868 \nL 931.055567 436.408438 \nL 931.055567 436.18986 \nL 939.527227 436.044141 \nL 939.527227 435.971281 \nL 936.70334 435.934851 \nL 919.76002 435.898422 \nL 939.527227 435.861992 \nL 939.527227 435.752703 \nL 928.23168 435.679843 \nL 931.055567 435.606984 \nL 933.879453 435.534124 \nL 931.055567 435.497694 \nL 931.055567 435.388405 \nL 916.936134 435.351975 \nL 939.527227 435.315546 \nL 939.527227 435.242686 \nL 933.879453 435.206256 \nL 936.70334 435.133397 \nL 936.70334 434.987678 \nL 939.527227 434.841959 \nL 925.407794 434.69624 \nL 933.879453 434.65981 \nL 939.527227 434.514091 \nL 939.527227 434.441232 \nL 933.879453 434.295513 \nL 936.70334 434.149794 \nL 936.70334 433.967645 \nL 931.055567 433.894786 \nL 933.879453 433.858356 \nL 939.527227 433.749067 \nL 928.23168 433.603348 \nL 928.23168 433.530488 \nL 933.879453 433.457629 \nL 928.23168 433.421199 \nL 939.527227 433.202621 \nL 936.70334 433.166191 \nL 939.527227 433.093331 \nL 939.527227 433.020472 \nL 936.70334 432.874753 \nL 936.70334 432.656174 \nL 933.879453 432.619745 \nL 936.70334 432.546885 \nL 939.527227 432.401166 \nL 939.527227 432.364736 \nL 928.23168 432.255447 \nL 933.879453 432.182588 \nL 936.70334 432.109728 \nL 922.583907 432.036869 \nL 939.527227 431.964009 \nL 933.879453 431.927579 \nL 933.879453 431.81829 \nL 939.527227 431.672571 \nL 939.527227 431.636141 \nL 936.70334 431.563282 \nL 939.527227 431.526852 \nL 939.527227 431.417563 \nL 936.70334 431.271844 \nL 936.70334 431.162555 \nL 925.407794 431.126125 \nL 936.70334 431.053266 \nL 933.879453 431.016836 \nL 939.527227 430.980406 \nL 939.527227 430.761828 \nL 931.055567 430.725398 \nL 939.527227 430.652538 \nL 936.70334 430.543249 \nL 939.527227 430.39753 \nL 936.70334 430.3611 \nL 939.527227 430.288241 \nL 939.527227 430.215381 \nL 936.70334 430.142522 \nL 939.527227 430.106092 \nL 939.527227 430.033233 \nL 933.879453 429.923943 \nL 936.70334 429.887514 \nL 936.70334 429.632506 \nL 922.583907 429.596076 \nL 936.70334 429.523216 \nL 936.70334 429.450357 \nL 922.583907 429.413927 \nL 931.055567 429.341068 \nL 928.23168 429.304638 \nL 939.527227 429.195349 \nL 936.70334 429.158919 \nL 939.527227 429.086059 \nL 933.879453 429.0132 \nL 936.70334 428.97677 \nL 936.70334 428.831051 \nL 939.527227 428.685332 \nL 939.527227 428.612473 \nL 931.055567 428.503183 \nL 936.70334 428.466754 \nL 936.70334 428.321035 \nL 922.583907 428.284605 \nL 939.527227 428.248175 \nL 939.527227 428.211745 \nL 933.879453 428.175316 \nL 939.527227 428.102456 \nL 939.527227 427.993167 \nL 933.879453 427.956737 \nL 936.70334 427.883878 \nL 936.70334 427.774589 \nL 939.527227 427.62887 \nL 939.527227 427.55601 \nL 936.70334 427.51958 \nL 939.527227 427.446721 \nL 939.527227 427.301002 \nL 933.879453 427.118853 \nL 933.879453 427.082423 \nL 931.055567 427.009564 \nL 939.527227 426.900275 \nL 939.527227 426.681696 \nL 933.879453 426.499547 \nL 939.527227 426.390258 \nL 933.879453 426.244539 \nL 939.527227 426.062391 \nL 939.527227 425.953101 \nL 936.70334 425.916672 \nL 939.527227 425.843812 \nL 939.527227 425.734523 \nL 928.23168 425.661663 \nL 936.70334 425.588804 \nL 936.70334 425.552374 \nL 933.879453 425.515944 \nL 939.527227 425.479515 \nL 939.527227 425.188077 \nL 933.879453 425.005928 \nL 939.527227 424.896639 \nL 936.70334 424.860209 \nL 925.407794 424.71449 \nL 925.407794 424.67806 \nL 922.583907 424.605201 \nL 925.407794 424.568771 \nL 925.407794 424.423052 \nL 914.112247 424.386622 \nL 936.70334 424.350193 \nL 936.70334 424.313763 \nL 939.527227 424.277333 \nL 933.879453 424.240903 \nL 936.70334 424.204474 \nL 936.70334 424.131614 \nL 933.879453 424.095184 \nL 939.527227 424.058755 \nL 939.527227 423.985895 \nL 922.583907 423.913036 \nL 925.407794 423.840176 \nL 925.407794 423.803746 \nL 916.936134 423.767317 \nL 922.583907 423.694457 \nL 919.76002 423.658027 \nL 925.407794 423.621598 \nL 925.407794 423.585168 \nL 922.583907 423.548738 \nL 925.407794 423.475879 \nL 925.407794 423.2573 \nL 922.583907 423.22087 \nL 939.527227 423.111581 \nL 933.879453 423.075151 \nL 936.70334 423.002292 \nL 939.527227 422.856573 \nL 939.527227 422.747284 \nL 933.879453 422.710854 \nL 939.527227 422.637995 \nL 936.70334 422.565135 \nL 939.527227 422.528705 \nL 939.527227 422.237267 \nL 933.879453 422.164408 \nL 936.70334 422.127978 \nL 936.70334 422.055119 \nL 922.583907 422.018689 \nL 939.527227 421.982259 \nL 939.527227 421.9094 \nL 933.879453 421.87297 \nL 936.70334 421.80011 \nL 936.70334 421.763681 \nL 933.879453 421.654391 \nL 936.70334 421.545102 \nL 928.23168 421.508672 \nL 939.527227 421.472243 \nL 939.527227 421.435813 \nL 931.055567 421.399383 \nL 936.70334 421.326524 \nL 936.70334 421.290094 \nL 928.23168 421.253664 \nL 939.527227 421.217234 \nL 939.527227 421.035086 \nL 936.70334 420.998656 \nL 939.527227 420.925797 \nL 939.527227 420.561499 \nL 928.23168 420.45221 \nL 936.70334 420.41578 \nL 933.879453 420.342921 \nL 933.879453 420.270061 \nL 919.76002 420.233631 \nL 933.879453 420.160772 \nL 933.879453 420.124342 \nL 919.76002 420.015053 \nL 936.70334 419.978623 \nL 931.055567 419.905764 \nL 931.055567 419.869334 \nL 939.527227 419.650755 \nL 939.527227 419.614326 \nL 933.879453 419.577896 \nL 939.527227 419.505036 \nL 939.527227 419.395747 \nL 933.879453 419.359317 \nL 936.70334 419.286458 \nL 939.527227 419.177169 \nL 925.407794 419.104309 \nL 928.23168 419.03145 \nL 928.23168 418.99502 \nL 931.055567 418.95859 \nL 916.936134 418.885731 \nL 928.23168 418.849301 \nL 931.055567 418.740012 \nL 928.23168 418.703582 \nL 936.70334 418.594293 \nL 925.407794 418.557863 \nL 933.879453 418.521433 \nL 939.527227 418.485004 \nL 936.70334 418.412144 \nL 936.70334 418.375714 \nL 939.527227 418.266425 \nL 936.70334 418.229995 \nL 939.527227 418.157136 \nL 939.527227 418.047847 \nL 933.879453 418.011417 \nL 936.70334 417.938557 \nL 936.70334 417.829268 \nL 939.527227 417.792838 \nL 936.70334 417.719979 \nL 936.70334 417.683549 \nL 939.527227 417.53783 \nL 933.879453 417.5014 \nL 936.70334 417.428541 \nL 936.70334 417.319252 \nL 933.879453 417.246392 \nL 936.70334 417.209963 \nL 939.527227 417.064244 \nL 939.527227 416.845665 \nL 936.70334 416.809235 \nL 939.527227 416.736376 \nL 939.527227 416.699946 \nL 919.76002 416.554227 \nL 919.76002 416.372078 \nL 916.936134 416.335649 \nL 919.76002 416.262789 \nL 922.583907 416.226359 \nL 908.464474 416.18993 \nL 922.583907 416.1535 \nL 925.407794 416.11707 \nL 916.936134 415.971351 \nL 916.936134 415.934921 \nL 911.28836 415.825632 \nL 939.527227 415.679913 \nL 939.527227 415.570624 \nL 919.76002 415.534194 \nL 936.70334 415.461335 \nL 936.70334 415.388475 \nL 933.879453 415.352046 \nL 939.527227 415.315616 \nL 939.527227 415.133467 \nL 928.23168 415.024178 \nL 931.055567 414.987748 \nL 931.055567 414.842029 \nL 936.70334 414.65988 \nL 933.879453 414.514161 \nL 936.70334 414.404872 \nL 922.583907 414.368442 \nL 931.055567 414.295583 \nL 931.055567 414.259153 \nL 939.527227 414.113434 \nL 936.70334 414.077004 \nL 931.055567 414.040575 \nL 933.879453 414.004145 \nL 939.527227 413.967715 \nL 936.70334 413.894856 \nL 936.70334 413.858426 \nL 939.527227 413.821996 \nL 933.879453 413.785567 \nL 931.055567 413.749137 \nL 939.527227 413.603418 \nL 914.112247 413.494129 \nL 936.70334 413.34841 \nL 936.70334 413.31198 \nL 939.527227 413.23912 \nL 936.70334 413.202691 \nL 936.70334 413.093401 \nL 922.583907 412.984112 \nL 936.70334 412.947682 \nL 914.112247 412.911253 \nL 931.055567 412.874823 \nL 933.879453 412.765534 \nL 925.407794 412.729104 \nL 928.23168 412.656244 \nL 928.23168 412.583385 \nL 931.055567 412.510525 \nL 919.76002 412.474096 \nL 928.23168 412.401236 \nL 931.055567 412.364806 \nL 922.583907 412.291947 \nL 931.055567 412.255517 \nL 936.70334 412.109798 \nL 939.527227 411.964079 \nL 939.527227 411.92765 \nL 936.70334 411.781931 \nL 936.70334 411.636212 \nL 939.527227 411.526922 \nL 936.70334 411.490493 \nL 939.527227 411.417633 \nL 939.527227 411.271914 \nL 936.70334 411.126195 \nL 936.70334 410.579749 \nL 922.583907 410.543319 \nL 936.70334 410.47046 \nL 939.527227 410.324741 \nL 939.527227 410.288311 \nL 931.055567 410.069733 \nL 931.055567 409.851154 \nL 928.23168 409.814724 \nL 931.055567 409.741865 \nL 931.055567 409.705435 \nL 928.23168 409.669005 \nL 931.055567 409.632576 \nL 936.70334 409.486857 \nL 936.70334 409.450427 \nL 939.527227 409.304708 \nL 939.527227 409.231848 \nL 936.70334 409.158989 \nL 939.527227 409.122559 \nL 939.527227 408.831121 \nL 931.055567 408.794691 \nL 933.879453 408.721832 \nL 936.70334 408.576113 \nL 936.70334 408.503254 \nL 928.23168 408.430394 \nL 931.055567 408.393964 \nL 939.527227 408.248245 \nL 939.527227 408.175386 \nL 931.055567 408.138956 \nL 936.70334 408.066097 \nL 936.70334 407.993237 \nL 939.527227 407.847518 \nL 931.055567 407.811088 \nL 936.70334 407.738229 \nL 939.527227 407.62894 \nL 933.879453 407.483221 \nL 939.527227 407.301072 \nL 939.527227 407.228212 \nL 936.70334 407.191783 \nL 939.527227 407.118923 \nL 939.527227 406.936774 \nL 931.055567 406.791056 \nL 939.527227 406.645337 \nL 936.70334 406.608907 \nL 939.527227 406.536047 \nL 939.527227 406.463188 \nL 933.879453 406.426758 \nL 936.70334 406.353899 \nL 936.70334 406.317469 \nL 933.879453 406.244609 \nL 939.527227 406.13532 \nL 936.70334 405.989601 \nL 939.527227 405.843882 \nL 939.527227 405.661733 \nL 936.70334 405.516014 \nL 936.70334 405.479585 \nL 939.527227 405.333866 \nL 939.527227 405.224576 \nL 933.879453 405.078858 \nL 939.527227 404.933139 \nL 939.527227 404.896709 \nL 931.055567 404.71456 \nL 936.70334 404.67813 \nL 933.879453 404.641701 \nL 925.407794 404.605271 \nL 936.70334 404.568841 \nL 936.70334 404.277403 \nL 928.23168 404.240973 \nL 939.527227 404.204544 \nL 939.527227 404.131684 \nL 931.055567 404.095254 \nL 939.527227 404.022395 \nL 933.879453 403.985965 \nL 936.70334 403.913106 \nL 936.70334 403.840246 \nL 939.527227 403.730957 \nL 936.70334 403.694527 \nL 916.936134 403.585238 \nL 922.583907 403.548808 \nL 919.76002 403.439519 \nL 925.407794 403.2938 \nL 914.112247 403.220941 \nL 925.407794 403.184511 \nL 925.407794 403.038792 \nL 939.527227 402.893073 \nL 939.527227 402.820213 \nL 931.055567 402.747354 \nL 936.70334 402.710924 \nL 936.70334 402.674494 \nL 933.879453 402.638065 \nL 936.70334 402.601635 \nL 939.527227 402.528775 \nL 931.055567 402.492346 \nL 939.527227 402.419486 \nL 939.527227 402.310197 \nL 933.879453 402.164478 \nL 936.70334 402.018759 \nL 936.70334 401.982329 \nL 939.527227 401.90947 \nL 931.055567 401.83661 \nL 933.879453 401.80018 \nL 931.055567 401.727321 \nL 939.527227 401.618032 \nL 939.527227 401.581602 \nL 928.23168 401.472313 \nL 931.055567 401.363024 \nL 931.055567 401.290164 \nL 939.527227 401.071586 \nL 939.527227 400.925867 \nL 936.70334 400.780148 \nL 936.70334 400.41585 \nL 916.936134 400.37942 \nL 939.527227 400.342991 \nL 939.527227 400.197272 \nL 936.70334 400.087982 \nL 939.527227 400.051553 \nL 936.70334 399.978693 \nL 936.70334 399.796545 \nL 939.527227 399.650826 \nL 939.527227 399.614396 \nL 936.70334 399.468677 \nL 936.70334 399.395817 \nL 933.879453 399.250098 \nL 939.527227 399.140809 \nL 933.879453 398.95866 \nL 936.70334 398.885801 \nL 933.879453 398.849371 \nL 931.055567 398.776512 \nL 933.879453 398.740082 \nL 933.879453 398.703652 \nL 939.527227 398.557933 \nL 939.527227 398.485074 \nL 933.879453 398.302925 \nL 939.527227 398.120776 \nL 939.527227 398.047917 \nL 933.879453 398.011487 \nL 936.70334 397.938628 \nL 936.70334 397.865768 \nL 928.23168 397.829338 \nL 936.70334 397.756479 \nL 936.70334 397.64719 \nL 931.055567 397.5379 \nL 939.527227 397.501471 \nL 936.70334 397.428611 \nL 933.879453 397.392181 \nL 939.527227 397.355752 \nL 939.527227 397.210033 \nL 931.055567 397.137173 \nL 936.70334 397.100743 \nL 939.527227 396.955024 \nL 919.76002 396.918595 \nL 939.527227 396.845735 \nL 939.527227 396.809305 \nL 928.23168 396.700016 \nL 939.527227 396.590727 \nL 936.70334 396.554297 \nL 936.70334 396.481438 \nL 933.879453 396.445008 \nL 939.527227 396.408578 \nL 939.527227 396.22643 \nL 928.23168 396.080711 \nL 939.527227 395.971421 \nL 933.879453 395.825702 \nL 939.527227 395.643554 \nL 939.527227 395.570694 \nL 936.70334 395.534264 \nL 908.464474 395.461405 \nL 922.583907 395.388545 \nL 922.583907 395.242826 \nL 919.76002 395.206397 \nL 922.583907 395.133537 \nL 922.583907 394.878529 \nL 925.407794 394.805669 \nL 919.76002 394.76924 \nL 925.407794 394.69638 \nL 925.407794 394.65995 \nL 916.936134 394.623521 \nL 925.407794 394.550661 \nL 925.407794 394.441372 \nL 911.28836 394.368513 \nL 939.527227 394.222794 \nL 939.527227 394.186364 \nL 928.23168 394.004215 \nL 939.527227 393.967785 \nL 936.70334 393.894926 \nL 936.70334 393.858496 \nL 939.527227 393.712777 \nL 939.527227 393.676347 \nL 928.23168 393.567058 \nL 933.879453 393.530628 \nL 936.70334 393.421339 \nL 933.879453 393.31205 \nL 936.70334 393.166331 \nL 933.879453 393.129901 \nL 939.527227 393.093471 \nL 936.70334 393.057042 \nL 936.70334 392.947752 \nL 939.527227 392.911323 \nL 936.70334 392.838463 \nL 936.70334 392.692744 \nL 928.23168 392.474166 \nL 933.879453 392.364877 \nL 925.407794 392.328447 \nL 936.70334 392.292017 \nL 936.70334 392.219158 \nL 933.879453 392.182728 \nL 939.527227 392.146298 \nL 939.527227 392.073439 \nL 936.70334 391.92772 \nL 939.527227 391.782001 \nL 939.527227 391.709141 \nL 933.879453 391.636282 \nL 936.70334 391.599852 \nL 936.70334 391.563422 \nL 931.055567 391.526992 \nL 939.527227 391.490563 \nL 939.527227 391.016976 \nL 933.879453 390.980546 \nL 936.70334 390.907687 \nL 936.70334 390.834827 \nL 933.879453 390.798398 \nL 936.70334 390.725538 \nL 936.70334 390.543389 \nL 933.879453 390.47053 \nL 939.527227 390.39767 \nL 931.055567 390.361241 \nL 939.527227 390.288381 \nL 939.527227 390.179092 \nL 925.407794 390.106232 \nL 936.70334 390.069803 \nL 928.23168 389.887654 \nL 939.527227 389.778365 \nL 928.23168 389.741935 \nL 939.527227 389.669075 \nL 939.527227 389.632646 \nL 931.055567 389.523356 \nL 939.527227 389.377637 \nL 925.407794 389.231919 \nL 936.70334 389.0862 \nL 936.70334 388.904051 \nL 922.583907 388.867621 \nL 936.70334 388.794762 \nL 936.70334 388.758332 \nL 939.527227 388.685472 \nL 919.76002 388.649043 \nL 939.527227 388.576183 \nL 931.055567 388.430464 \nL 931.055567 388.394034 \nL 928.23168 388.357605 \nL 931.055567 388.284745 \nL 931.055567 388.248315 \nL 919.76002 388.211886 \nL 931.055567 388.139026 \nL 931.055567 388.102596 \nL 939.527227 387.884018 \nL 939.527227 387.738299 \nL 931.055567 387.701869 \nL 933.879453 387.62901 \nL 931.055567 387.55615 \nL 939.527227 387.446861 \nL 939.527227 386.973274 \nL 933.879453 386.900415 \nL 936.70334 386.863985 \nL 936.70334 386.791126 \nL 933.879453 386.754696 \nL 936.70334 386.681836 \nL 936.70334 386.645407 \nL 933.879453 386.608977 \nL 936.70334 386.572547 \nL 939.527227 386.426828 \nL 939.527227 386.244679 \nL 933.879453 386.09896 \nL 939.527227 385.953241 \nL 939.527227 385.916812 \nL 936.70334 385.880382 \nL 939.527227 385.807522 \nL 939.527227 385.734663 \nL 922.583907 385.698233 \nL 931.055567 385.625374 \nL 925.407794 385.552514 \nL 936.70334 385.479655 \nL 936.70334 385.443225 \nL 919.76002 385.406795 \nL 939.527227 385.370366 \nL 939.527227 384.933209 \nL 933.879453 384.896779 \nL 936.70334 384.823919 \nL 936.70334 384.78749 \nL 931.055567 384.641771 \nL 936.70334 384.568911 \nL 911.28836 384.532481 \nL 936.70334 384.459622 \nL 936.70334 384.386762 \nL 939.527227 384.241043 \nL 933.879453 384.131754 \nL 936.70334 384.095324 \nL 936.70334 384.022465 \nL 933.879453 383.986035 \nL 939.527227 383.949606 \nL 939.527227 383.913176 \nL 919.76002 383.876746 \nL 939.527227 383.803887 \nL 933.879453 383.658168 \nL 939.527227 383.621738 \nL 936.70334 383.548878 \nL 922.583907 383.512449 \nL 936.70334 383.439589 \nL 936.70334 383.403159 \nL 939.527227 383.29387 \nL 936.70334 383.148151 \nL 936.70334 383.111721 \nL 919.76002 383.038862 \nL 939.527227 382.893143 \nL 925.407794 382.747424 \nL 919.76002 382.710994 \nL 922.583907 382.638135 \nL 936.70334 382.346697 \nL 936.70334 382.237408 \nL 933.879453 382.200978 \nL 936.70334 382.128118 \nL 936.70334 381.363094 \nL 931.055567 381.180945 \nL 931.055567 381.144515 \nL 939.527227 380.925937 \nL 939.527227 380.816647 \nL 925.407794 380.670928 \nL 925.407794 380.525209 \nL 914.112247 380.41592 \nL 939.527227 380.270201 \nL 939.527227 380.088053 \nL 936.70334 379.942334 \nL 936.70334 379.869474 \nL 939.527227 379.723755 \nL 939.527227 379.578036 \nL 936.70334 379.468747 \nL 939.527227 379.323028 \nL 939.527227 378.99516 \nL 936.70334 378.849441 \nL 936.70334 378.630863 \nL 922.583907 378.594433 \nL 936.70334 378.521574 \nL 936.70334 378.485144 \nL 933.879453 378.448714 \nL 939.527227 378.412284 \nL 939.527227 378.266565 \nL 936.70334 378.230136 \nL 939.527227 378.157276 \nL 939.527227 378.084417 \nL 928.23168 377.938698 \nL 939.527227 377.792979 \nL 939.527227 377.428681 \nL 936.70334 377.282962 \nL 939.527227 377.137243 \nL 939.527227 377.100813 \nL 933.879453 376.918665 \nL 936.70334 376.882235 \nL 928.23168 376.845805 \nL 936.70334 376.772946 \nL 936.70334 376.372219 \nL 928.23168 376.335789 \nL 939.527227 376.299359 \nL 936.70334 376.262929 \nL 939.527227 376.19007 \nL 931.055567 376.15364 \nL 936.70334 376.080781 \nL 936.70334 376.044351 \nL 931.055567 375.862202 \nL 939.527227 375.716483 \nL 928.23168 375.461475 \nL 928.23168 375.425045 \nL 931.055567 375.315756 \nL 922.583907 375.279326 \nL 931.055567 375.242896 \nL 939.527227 375.097178 \nL 939.527227 375.060748 \nL 936.70334 375.024318 \nL 939.527227 374.951459 \nL 939.527227 374.915029 \nL 933.879453 374.73288 \nL 939.527227 374.550731 \nL 939.527227 374.332153 \nL 931.055567 374.259293 \nL 933.879453 374.186434 \nL 933.879453 374.150004 \nL 939.527227 374.077145 \nL 936.70334 374.040715 \nL 936.70334 374.004285 \nL 925.407794 373.858566 \nL 916.936134 373.749277 \nL 922.583907 373.712847 \nL 922.583907 373.129971 \nL 925.407794 372.984252 \nL 925.407794 372.911393 \nL 922.583907 372.874963 \nL 939.527227 372.765674 \nL 936.70334 372.729244 \nL 936.70334 372.692814 \nL 931.055567 372.547095 \nL 931.055567 372.510666 \nL 928.23168 372.474236 \nL 931.055567 372.437806 \nL 936.70334 372.292087 \nL 936.70334 372.146368 \nL 933.879453 372.109938 \nL 936.70334 372.037079 \nL 939.527227 371.89136 \nL 939.527227 371.709211 \nL 931.055567 371.672782 \nL 936.70334 371.599922 \nL 936.70334 371.490633 \nL 939.527227 371.344914 \nL 939.527227 371.308484 \nL 936.70334 371.272054 \nL 939.527227 371.199195 \nL 939.527227 371.089906 \nL 919.76002 371.053476 \nL 939.527227 370.980616 \nL 936.70334 370.834897 \nL 936.70334 370.725608 \nL 933.879453 370.689178 \nL 939.527227 370.652749 \nL 939.527227 370.616319 \nL 931.055567 370.579889 \nL 939.527227 370.50703 \nL 933.879453 370.361311 \nL 936.70334 370.288451 \nL 933.879453 370.252021 \nL 933.879453 370.215592 \nL 936.70334 370.142732 \nL 931.055567 370.033443 \nL 939.527227 369.887724 \nL 939.527227 369.669146 \nL 933.879453 369.486997 \nL 939.527227 369.304848 \nL 939.527227 369.195559 \nL 936.70334 369.08627 \nL 914.112247 369.04984 \nL 936.70334 368.97698 \nL 936.70334 368.940551 \nL 939.527227 368.867691 \nL 936.70334 368.831261 \nL 925.407794 368.649113 \nL 925.407794 368.576253 \nL 931.055567 368.430534 \nL 925.407794 368.248385 \nL 925.407794 368.211956 \nL 919.76002 368.139096 \nL 925.407794 368.102667 \nL 925.407794 367.993377 \nL 939.527227 367.847658 \nL 939.527227 367.774799 \nL 936.70334 367.738369 \nL 939.527227 367.66551 \nL 939.527227 367.59265 \nL 933.879453 367.446931 \nL 933.879453 367.410501 \nL 936.70334 367.301212 \nL 933.879453 367.228353 \nL 939.527227 367.082634 \nL 933.879453 367.046204 \nL 939.527227 366.973344 \nL 928.23168 366.827625 \nL 931.055567 366.754766 \nL 933.879453 366.645477 \nL 925.407794 366.609047 \nL 939.527227 366.572617 \nL 939.527227 366.536187 \nL 931.055567 366.354039 \nL 936.70334 366.24475 \nL 928.23168 366.20832 \nL 933.879453 366.13546 \nL 939.527227 366.026171 \nL 936.70334 365.916882 \nL 939.527227 365.771163 \nL 936.70334 365.734733 \nL 939.527227 365.661874 \nL 939.527227 365.552584 \nL 931.055567 365.406865 \nL 931.055567 365.370436 \nL 928.23168 365.334006 \nL 931.055567 365.261146 \nL 931.055567 365.078998 \nL 928.23168 364.969708 \nL 939.527227 364.823989 \nL 933.879453 364.641841 \nL 939.527227 364.532552 \nL 928.23168 364.496122 \nL 936.70334 364.423262 \nL 933.879453 364.350403 \nL 936.70334 364.313973 \nL 936.70334 364.277543 \nL 919.76002 364.241114 \nL 936.70334 364.168254 \nL 939.527227 364.058965 \nL 933.879453 364.022535 \nL 939.527227 363.949676 \nL 939.527227 363.913246 \nL 936.70334 363.876816 \nL 939.527227 363.803957 \nL 939.527227 363.548948 \nL 933.879453 363.476089 \nL 936.70334 363.403229 \nL 936.70334 363.3668 \nL 933.879453 363.29394 \nL 939.527227 363.148221 \nL 939.527227 363.075362 \nL 936.70334 362.929643 \nL 936.70334 362.638205 \nL 933.879453 362.565345 \nL 939.527227 362.419626 \nL 939.527227 362.383197 \nL 933.879453 362.201048 \nL 936.70334 362.164618 \nL 922.583907 362.128188 \nL 933.879453 362.091759 \nL 939.527227 361.982469 \nL 936.70334 361.90961 \nL 939.527227 361.87318 \nL 939.527227 361.83675 \nL 936.70334 361.691031 \nL 936.70334 361.654602 \nL 933.879453 361.618172 \nL 936.70334 361.545312 \nL 939.527227 361.399593 \nL 939.527227 361.363164 \nL 936.70334 361.326734 \nL 914.112247 361.290304 \nL 933.879453 361.217445 \nL 939.527227 361.035296 \nL 939.527227 360.926007 \nL 933.879453 360.816718 \nL 936.70334 360.780288 \nL 936.70334 360.743858 \nL 939.527227 360.670999 \nL 936.70334 360.634569 \nL 936.70334 360.48885 \nL 939.527227 360.379561 \nL 931.055567 360.270271 \nL 933.879453 360.233842 \nL 936.70334 360.124552 \nL 925.407794 360.015263 \nL 936.70334 359.833114 \nL 936.70334 359.796685 \nL 933.879453 359.760255 \nL 936.70334 359.687395 \nL 936.70334 359.650966 \nL 922.583907 359.468817 \nL 925.407794 359.395957 \nL 925.407794 359.323098 \nL 922.583907 359.286668 \nL 925.407794 359.213809 \nL 925.407794 359.06809 \nL 916.936134 358.922371 \nL 925.407794 358.776652 \nL 925.407794 358.740222 \nL 939.527227 358.594503 \nL 939.527227 358.448784 \nL 925.407794 358.412354 \nL 936.70334 358.339495 \nL 936.70334 358.266635 \nL 939.527227 358.120916 \nL 939.527227 357.355892 \nL 933.879453 357.319462 \nL 936.70334 357.246603 \nL 936.70334 357.137313 \nL 931.055567 357.064454 \nL 933.879453 357.028024 \nL 933.879453 356.991594 \nL 939.527227 356.845875 \nL 939.527227 356.773016 \nL 931.055567 356.736586 \nL 939.527227 356.663727 \nL 939.527227 356.518008 \nL 925.407794 356.408718 \nL 928.23168 356.372289 \nL 933.879453 356.335859 \nL 922.583907 356.299429 \nL 931.055567 356.262999 \nL 916.936134 356.15371 \nL 931.055567 356.080851 \nL 919.76002 356.044421 \nL 919.76002 356.007991 \nL 931.055567 355.898702 \nL 922.583907 355.862272 \nL 922.583907 355.752983 \nL 939.527227 355.607264 \nL 939.527227 355.570834 \nL 931.055567 355.534405 \nL 939.527227 355.461545 \nL 931.055567 355.388686 \nL 936.70334 355.352256 \nL 936.70334 355.133677 \nL 939.527227 355.024388 \nL 914.112247 354.915099 \nL 939.527227 354.76938 \nL 939.527227 354.73295 \nL 936.70334 354.660091 \nL 939.527227 354.623661 \nL 939.527227 354.587231 \nL 933.879453 354.550801 \nL 936.70334 354.477942 \nL 936.70334 354.295793 \nL 928.23168 354.259363 \nL 936.70334 354.186504 \nL 936.70334 354.150074 \nL 919.76002 354.077215 \nL 939.527227 353.931496 \nL 939.527227 353.858636 \nL 933.879453 353.676488 \nL 933.879453 353.603628 \nL 928.23168 353.567198 \nL 933.879453 353.494339 \nL 933.879453 353.31219 \nL 931.055567 353.27576 \nL 936.70334 353.239331 \nL 936.70334 353.130041 \nL 933.879453 352.984322 \nL 933.879453 352.947893 \nL 919.76002 352.875033 \nL 939.527227 352.729314 \nL 939.527227 352.656455 \nL 933.879453 352.474306 \nL 936.70334 352.401446 \nL 933.879453 352.365017 \nL 933.879453 352.328587 \nL 936.70334 352.182868 \nL 933.879453 352.037149 \nL 933.879453 351.89143 \nL 939.527227 351.745711 \nL 939.527227 351.672852 \nL 936.70334 351.636422 \nL 939.527227 351.563562 \nL 939.527227 351.527133 \nL 933.879453 351.381414 \nL 936.70334 351.235695 \nL 933.879453 351.089976 \nL 933.879453 351.053546 \nL 936.70334 350.944257 \nL 933.879453 350.798538 \nL 939.527227 350.652819 \nL 939.527227 350.579959 \nL 933.879453 350.43424 \nL 936.70334 350.288521 \nL 936.70334 350.252092 \nL 905.640587 350.215662 \nL 936.70334 350.142802 \nL 936.70334 350.033513 \nL 939.527227 349.997083 \nL 928.23168 349.960654 \nL 939.527227 349.887794 \nL 939.527227 349.742075 \nL 936.70334 349.705645 \nL 939.527227 349.632786 \nL 939.527227 349.596356 \nL 931.055567 349.559926 \nL 936.70334 349.487067 \nL 936.70334 348.685613 \nL 939.527227 348.539894 \nL 939.527227 348.467034 \nL 936.70334 348.430604 \nL 939.527227 348.357745 \nL 939.527227 348.284885 \nL 931.055567 348.248456 \nL 933.879453 348.175596 \nL 939.527227 348.102737 \nL 936.70334 348.066307 \nL 936.70334 348.029877 \nL 939.527227 347.920588 \nL 936.70334 347.811299 \nL 939.527227 347.66558 \nL 939.527227 347.62915 \nL 928.23168 347.374142 \nL 939.527227 347.301282 \nL 933.879453 347.264852 \nL 928.23168 347.155563 \nL 933.879453 347.009844 \nL 933.879453 346.973415 \nL 936.70334 346.827696 \nL 936.70334 346.791266 \nL 931.055567 346.681977 \nL 936.70334 346.645547 \nL 933.879453 346.609117 \nL 919.76002 346.499828 \nL 939.527227 346.426968 \nL 936.70334 346.390539 \nL 933.879453 346.354109 \nL 939.527227 346.317679 \nL 939.527227 346.20839 \nL 925.407794 346.13553 \nL 933.879453 346.099101 \nL 931.055567 346.026241 \nL 936.70334 345.953382 \nL 933.879453 345.880522 \nL 936.70334 345.844092 \nL 936.70334 345.625514 \nL 928.23168 345.479795 \nL 928.23168 345.443365 \nL 939.527227 345.334076 \nL 936.70334 345.297646 \nL 939.527227 345.224787 \nL 939.527227 345.042638 \nL 933.879453 344.969779 \nL 936.70334 344.933349 \nL 936.70334 344.82406 \nL 933.879453 344.71477 \nL 939.527227 344.569051 \nL 939.527227 344.496192 \nL 933.879453 344.350473 \nL 933.879453 344.241184 \nL 928.23168 344.168324 \nL 911.28836 344.059035 \nL 939.527227 344.022605 \nL 931.055567 343.949746 \nL 931.055567 343.913316 \nL 928.23168 343.840456 \nL 931.055567 343.804027 \nL 931.055567 343.767597 \nL 919.76002 343.694737 \nL 939.527227 343.585448 \nL 936.70334 343.512589 \nL 939.527227 343.476159 \nL 939.527227 343.36687 \nL 931.055567 343.184721 \nL 939.527227 343.075432 \nL 931.055567 342.929713 \nL 936.70334 342.856853 \nL 922.583907 342.820424 \nL 939.527227 342.783994 \nL 939.527227 342.674705 \nL 919.76002 342.638275 \nL 939.527227 342.565415 \nL 939.527227 342.419696 \nL 931.055567 342.346837 \nL 939.527227 342.310407 \nL 939.527227 342.237548 \nL 919.76002 342.128258 \nL 936.70334 341.982539 \nL 936.70334 341.94611 \nL 928.23168 341.87325 \nL 936.70334 341.83682 \nL 936.70334 341.763961 \nL 933.879453 341.727531 \nL 939.527227 341.691102 \nL 939.527227 341.618242 \nL 931.055567 341.581812 \nL 939.527227 341.508953 \nL 939.527227 341.363234 \nL 936.70334 341.326804 \nL 939.527227 341.253945 \nL 939.527227 341.181085 \nL 933.879453 341.144655 \nL 936.70334 341.071796 \nL 936.70334 340.998936 \nL 939.527227 340.853217 \nL 939.527227 340.780358 \nL 931.055567 340.707498 \nL 919.76002 340.671069 \nL 933.879453 340.634639 \nL 925.407794 340.598209 \nL 939.527227 340.45249 \nL 939.527227 340.343201 \nL 928.23168 340.270341 \nL 939.527227 340.233912 \nL 925.407794 340.088193 \nL 936.70334 340.015333 \nL 928.23168 339.978904 \nL 939.527227 339.796755 \nL 936.70334 339.723895 \nL 916.936134 339.687466 \nL 939.527227 339.651036 \nL 936.70334 339.614606 \nL 936.70334 339.396028 \nL 933.879453 339.359598 \nL 939.527227 339.323168 \nL 939.527227 339.250309 \nL 936.70334 339.10459 \nL 936.70334 338.958871 \nL 939.527227 338.886011 \nL 931.055567 338.813152 \nL 933.879453 338.776722 \nL 936.70334 338.631003 \nL 936.70334 338.594573 \nL 931.055567 338.448854 \nL 931.055567 338.157416 \nL 939.527227 338.011697 \nL 939.527227 337.865978 \nL 933.879453 337.756689 \nL 939.527227 337.61097 \nL 936.70334 337.57454 \nL 922.583907 337.465251 \nL 939.527227 337.319532 \nL 931.055567 337.283102 \nL 936.70334 337.210243 \nL 936.70334 337.100954 \nL 933.879453 337.064524 \nL 939.527227 337.028094 \nL 939.527227 336.809516 \nL 931.055567 336.627367 \nL 933.879453 336.518078 \nL 925.407794 336.445218 \nL 933.879453 336.408789 \nL 933.879453 336.26307 \nL 931.055567 336.22664 \nL 933.879453 336.15378 \nL 933.879453 336.117351 \nL 936.70334 336.008061 \nL 919.76002 335.825913 \nL 936.70334 335.789483 \nL 933.879453 335.716623 \nL 933.879453 335.680194 \nL 939.527227 335.534475 \nL 939.527227 335.498045 \nL 928.23168 335.461615 \nL 936.70334 335.388756 \nL 936.70334 335.206607 \nL 933.879453 335.170177 \nL 939.527227 335.133747 \nL 939.527227 334.80588 \nL 933.879453 334.76945 \nL 936.70334 334.696591 \nL 936.70334 334.550872 \nL 922.583907 334.514442 \nL 936.70334 334.441582 \nL 936.70334 334.368723 \nL 933.879453 334.332293 \nL 939.527227 334.295863 \nL 939.527227 334.077285 \nL 931.055567 333.858706 \nL 931.055567 333.749417 \nL 939.527227 333.603698 \nL 928.23168 333.530839 \nL 936.70334 333.494409 \nL 936.70334 333.457979 \nL 931.055567 333.27583 \nL 931.055567 333.239401 \nL 939.527227 333.093682 \nL 939.527227 333.020822 \nL 922.583907 332.911533 \nL 933.879453 332.875103 \nL 933.879453 332.802244 \nL 939.527227 332.692955 \nL 933.879453 332.583665 \nL 939.527227 332.547236 \nL 925.407794 332.510806 \nL 936.70334 332.437946 \nL 936.70334 332.255798 \nL 919.76002 332.219368 \nL 936.70334 332.146508 \nL 936.70334 332.110079 \nL 933.879453 332.073649 \nL 939.527227 332.037219 \nL 939.527227 331.782211 \nL 922.583907 331.709351 \nL 925.407794 331.672922 \nL 936.70334 331.527203 \nL 939.527227 331.417913 \nL 936.70334 331.345054 \nL 939.527227 331.308624 \nL 939.527227 331.272194 \nL 922.583907 331.235765 \nL 925.407794 331.162905 \nL 939.527227 330.980757 \nL 931.055567 330.944327 \nL 939.527227 330.871467 \nL 939.527227 330.835038 \nL 933.879453 330.798608 \nL 936.70334 330.725748 \nL 939.527227 330.580029 \nL 939.527227 330.50717 \nL 902.8167 330.325021 \nL 939.527227 330.179302 \nL 936.70334 330.142872 \nL 939.527227 330.070013 \nL 939.527227 329.851434 \nL 919.76002 329.742145 \nL 936.70334 329.596426 \nL 936.70334 329.487137 \nL 933.879453 329.450707 \nL 939.527227 329.414278 \nL 939.527227 329.268559 \nL 931.055567 329.232129 \nL 936.70334 329.159269 \nL 939.527227 329.08641 \nL 936.70334 329.04998 \nL 936.70334 328.940691 \nL 931.055567 328.794972 \nL 931.055567 328.722112 \nL 922.583907 328.649253 \nL 939.527227 328.503534 \nL 939.527227 328.467104 \nL 936.70334 328.430674 \nL 939.527227 328.357815 \nL 939.527227 328.139236 \nL 933.879453 328.066377 \nL 936.70334 328.029947 \nL 936.70334 327.957088 \nL 939.527227 327.811369 \nL 936.70334 327.738509 \nL 939.527227 327.702079 \nL 939.527227 327.66565 \nL 933.879453 327.62922 \nL 936.70334 327.556361 \nL 936.70334 327.447071 \nL 925.407794 327.374212 \nL 939.527227 327.228493 \nL 939.527227 326.864195 \nL 936.70334 326.718476 \nL 936.70334 326.390609 \nL 939.527227 326.24489 \nL 936.70334 326.20846 \nL 939.527227 326.1356 \nL 939.527227 326.062741 \nL 933.879453 325.989881 \nL 936.70334 325.953452 \nL 936.70334 325.880592 \nL 939.527227 325.807733 \nL 933.879453 325.771303 \nL 936.70334 325.698444 \nL 936.70334 325.662014 \nL 931.055567 325.516295 \nL 936.70334 325.334146 \nL 933.879453 325.297716 \nL 939.527227 325.261287 \nL 939.527227 325.224857 \nL 936.70334 325.188427 \nL 939.527227 325.115568 \nL 939.527227 325.042708 \nL 931.055567 325.006278 \nL 936.70334 324.933419 \nL 936.70334 324.860559 \nL 939.527227 324.71484 \nL 928.23168 324.678411 \nL 931.055567 324.605551 \nL 931.055567 324.569121 \nL 939.527227 324.459832 \nL 931.055567 324.423402 \nL 939.527227 324.350543 \nL 933.879453 324.168394 \nL 936.70334 324.131965 \nL 922.583907 324.095535 \nL 925.407794 324.022675 \nL 925.407794 323.949816 \nL 914.112247 323.913386 \nL 916.936134 323.840527 \nL 925.407794 323.767667 \nL 914.112247 323.731237 \nL 925.407794 323.658378 \nL 925.407794 323.621948 \nL 939.527227 323.476229 \nL 933.879453 323.439799 \nL 939.527227 323.36694 \nL 939.527227 323.29408 \nL 936.70334 323.257651 \nL 939.527227 323.184791 \nL 939.527227 322.893353 \nL 933.879453 322.856923 \nL 936.70334 322.784064 \nL 936.70334 322.711204 \nL 933.879453 322.674775 \nL 939.527227 322.638345 \nL 939.527227 322.565485 \nL 925.407794 322.310477 \nL 928.23168 322.164758 \nL 928.23168 321.98261 \nL 919.76002 321.90975 \nL 922.583907 321.800461 \nL 925.407794 321.764031 \nL 922.583907 321.691172 \nL 922.583907 321.618312 \nL 925.407794 321.472593 \nL 922.583907 321.436163 \nL 925.407794 321.363304 \nL 925.407794 321.254015 \nL 911.28836 321.217585 \nL 939.527227 321.181155 \nL 939.527227 320.889717 \nL 931.055567 320.853287 \nL 939.527227 320.780428 \nL 939.527227 320.634709 \nL 931.055567 320.48899 \nL 931.055567 320.45256 \nL 936.70334 320.379701 \nL 922.583907 320.343271 \nL 933.879453 320.270412 \nL 933.879453 320.233982 \nL 936.70334 320.088263 \nL 933.879453 320.051833 \nL 939.527227 320.015403 \nL 936.70334 319.978974 \nL 936.70334 319.906114 \nL 931.055567 319.833255 \nL 939.527227 319.796825 \nL 928.23168 319.760395 \nL 928.23168 319.687536 \nL 939.527227 319.578246 \nL 936.70334 319.541817 \nL 939.527227 319.432527 \nL 931.055567 319.323238 \nL 939.527227 319.286808 \nL 936.70334 319.213949 \nL 925.407794 319.177519 \nL 936.70334 319.10466 \nL 936.70334 318.703933 \nL 939.527227 318.558214 \nL 939.527227 318.376065 \nL 933.879453 318.339635 \nL 936.70334 318.266776 \nL 936.70334 318.157486 \nL 939.527227 318.048197 \nL 931.055567 318.011767 \nL 933.879453 317.938908 \nL 933.879453 317.902478 \nL 939.527227 317.793189 \nL 936.70334 317.756759 \nL 936.70334 317.720329 \nL 928.23168 317.61104 \nL 931.055567 317.538181 \nL 931.055567 317.319602 \nL 928.23168 317.283172 \nL 931.055567 317.210313 \nL 931.055567 317.173883 \nL 916.936134 317.101024 \nL 922.583907 317.028164 \nL 925.407794 316.955305 \nL 914.112247 316.918875 \nL 931.055567 316.882445 \nL 931.055567 316.809586 \nL 933.879453 316.700297 \nL 931.055567 316.627437 \nL 936.70334 316.518148 \nL 922.583907 316.372429 \nL 939.527227 316.22671 \nL 939.527227 316.15385 \nL 936.70334 316.008131 \nL 939.527227 315.862412 \nL 939.527227 315.825983 \nL 931.055567 315.789553 \nL 936.70334 315.716693 \nL 936.70334 315.643834 \nL 933.879453 315.534545 \nL 939.527227 315.388826 \nL 939.527227 315.352396 \nL 936.70334 315.315966 \nL 939.527227 315.243107 \nL 939.527227 315.170247 \nL 928.23168 315.133818 \nL 936.70334 315.060958 \nL 936.70334 315.024528 \nL 933.879453 314.988099 \nL 936.70334 314.915239 \nL 936.70334 314.878809 \nL 939.527227 314.73309 \nL 939.527227 314.514512 \nL 928.23168 314.441652 \nL 936.70334 314.405223 \nL 936.70334 314.368793 \nL 933.879453 314.295933 \nL 936.70334 314.259504 \nL 936.70334 314.186644 \nL 931.055567 314.004495 \nL 931.055567 313.931636 \nL 933.879453 313.858776 \nL 922.583907 313.822347 \nL 939.527227 313.785917 \nL 933.879453 313.749487 \nL 933.879453 313.713057 \nL 936.70334 313.603768 \nL 933.879453 313.567339 \nL 939.527227 313.530909 \nL 939.527227 313.458049 \nL 933.879453 313.42162 \nL 939.527227 313.34876 \nL 939.527227 313.275901 \nL 928.23168 313.239471 \nL 936.70334 313.166611 \nL 936.70334 313.093752 \nL 933.879453 313.020892 \nL 939.527227 312.875173 \nL 939.527227 312.838744 \nL 936.70334 312.765884 \nL 916.936134 312.729454 \nL 939.527227 312.693025 \nL 939.527227 312.547306 \nL 928.23168 312.401587 \nL 931.055567 312.328727 \nL 919.76002 312.292297 \nL 931.055567 312.219438 \nL 931.055567 312.183008 \nL 922.583907 312.146578 \nL 931.055567 312.110149 \nL 939.527227 311.96443 \nL 933.879453 311.782281 \nL 933.879453 311.709422 \nL 936.70334 311.563703 \nL 936.70334 311.527273 \nL 933.879453 311.454413 \nL 939.527227 311.345124 \nL 914.112247 311.090116 \nL 939.527227 310.944397 \nL 939.527227 310.798678 \nL 936.70334 310.652959 \nL 939.527227 310.54367 \nL 936.70334 310.50724 \nL 939.527227 310.43438 \nL 939.527227 310.179372 \nL 933.879453 310.142942 \nL 936.70334 310.070083 \nL 936.70334 310.033653 \nL 933.879453 309.887934 \nL 936.70334 309.742215 \nL 936.70334 309.523637 \nL 933.879453 309.377918 \nL 939.527227 309.232199 \nL 939.527227 309.159339 \nL 936.70334 309.08648 \nL 939.527227 309.05005 \nL 939.527227 309.01362 \nL 931.055567 308.867901 \nL 936.70334 308.795042 \nL 933.879453 308.758612 \nL 933.879453 308.722182 \nL 939.527227 308.576463 \nL 939.527227 308.503604 \nL 936.70334 308.430744 \nL 939.527227 308.394315 \nL 939.527227 308.357885 \nL 933.879453 308.175736 \nL 933.879453 308.139307 \nL 939.527227 307.957158 \nL 939.527227 307.811439 \nL 933.879453 307.775009 \nL 936.70334 307.70215 \nL 936.70334 307.66572 \nL 928.23168 307.59286 \nL 939.527227 307.447141 \nL 939.527227 307.082844 \nL 936.70334 307.046414 \nL 939.527227 306.973555 \nL 939.527227 306.609257 \nL 933.879453 306.499968 \nL 936.70334 306.427109 \nL 933.879453 306.390679 \nL 933.879453 306.354249 \nL 936.70334 306.20853 \nL 936.70334 306.099241 \nL 933.879453 305.953522 \nL 933.879453 305.880662 \nL 939.527227 305.734943 \nL 939.527227 305.552795 \nL 936.70334 305.479935 \nL 939.527227 305.443505 \nL 939.527227 305.297786 \nL 922.583907 305.188497 \nL 939.527227 305.042778 \nL 931.055567 304.897059 \nL 936.70334 304.75134 \nL 933.879453 304.678481 \nL 939.527227 304.532762 \nL 933.879453 304.459902 \nL 936.70334 304.387043 \nL 936.70334 304.314183 \nL 933.879453 304.204894 \nL 936.70334 304.132035 \nL 933.879453 304.095605 \nL 933.879453 304.059175 \nL 936.70334 304.022745 \nL 925.407794 303.986316 \nL 933.879453 303.913456 \nL 933.879453 303.877026 \nL 939.527227 303.804167 \nL 936.70334 303.767737 \nL 931.055567 303.731307 \nL 936.70334 303.658448 \nL 936.70334 303.512729 \nL 939.527227 303.40344 \nL 936.70334 303.29415 \nL 939.527227 303.148431 \nL 933.879453 303.075572 \nL 936.70334 303.002713 \nL 936.70334 302.966283 \nL 939.527227 302.929853 \nL 936.70334 302.893423 \nL 931.055567 302.747704 \nL 933.879453 302.601985 \nL 933.879453 302.565556 \nL 939.527227 302.383407 \nL 939.527227 302.274118 \nL 931.055567 302.201258 \nL 933.879453 302.128399 \nL 939.527227 301.98268 \nL 939.527227 301.94625 \nL 936.70334 301.90982 \nL 939.527227 301.836961 \nL 939.527227 301.727671 \nL 933.879453 301.691242 \nL 936.70334 301.618382 \nL 936.70334 301.545523 \nL 933.879453 301.399804 \nL 936.70334 301.254085 \nL 936.70334 301.108366 \nL 939.527227 301.071936 \nL 936.70334 301.035506 \nL 931.055567 300.999077 \nL 936.70334 300.926217 \nL 936.70334 300.816928 \nL 939.527227 300.671209 \nL 939.527227 300.52549 \nL 931.055567 300.379771 \nL 936.70334 300.343341 \nL 911.28836 300.270482 \nL 936.70334 300.234052 \nL 919.76002 300.124763 \nL 922.583907 300.088333 \nL 922.583907 300.015473 \nL 928.23168 299.869754 \nL 925.407794 299.833325 \nL 931.055567 299.796895 \nL 928.23168 299.760465 \nL 933.879453 299.687606 \nL 916.936134 299.651176 \nL 936.70334 299.614746 \nL 936.70334 299.469027 \nL 939.527227 299.432598 \nL 936.70334 299.359738 \nL 936.70334 299.286879 \nL 939.527227 299.214019 \nL 936.70334 299.177589 \nL 936.70334 299.14116 \nL 939.527227 299.03187 \nL 933.879453 298.886151 \nL 936.70334 298.740432 \nL 936.70334 298.704003 \nL 933.879453 298.667573 \nL 936.70334 298.594713 \nL 936.70334 298.303275 \nL 925.407794 298.266846 \nL 939.527227 298.230416 \nL 933.879453 298.193986 \nL 939.527227 298.084697 \nL 936.70334 297.938978 \nL 936.70334 297.866118 \nL 931.055567 297.793259 \nL 936.70334 297.756829 \nL 933.879453 297.7204 \nL 939.527227 297.68397 \nL 939.527227 297.574681 \nL 925.407794 297.538251 \nL 928.23168 297.465391 \nL 928.23168 297.392532 \nL 936.70334 297.246813 \nL 936.70334 297.137524 \nL 931.055567 296.991805 \nL 939.527227 296.846086 \nL 933.879453 296.773226 \nL 936.70334 296.700367 \nL 936.70334 296.663937 \nL 939.527227 296.518218 \nL 939.527227 296.299639 \nL 936.70334 296.15392 \nL 936.70334 296.044631 \nL 933.879453 295.898912 \nL 933.879453 295.862483 \nL 939.527227 295.680334 \nL 939.527227 295.643904 \nL 931.055567 295.607474 \nL 939.527227 295.534615 \nL 939.527227 295.279607 \nL 936.70334 295.133888 \nL 936.70334 294.988169 \nL 933.879453 294.951739 \nL 939.527227 294.915309 \nL 939.527227 294.84245 \nL 936.70334 294.73316 \nL 914.112247 294.696731 \nL 922.583907 294.623871 \nL 925.407794 294.478152 \nL 925.407794 294.441722 \nL 922.583907 294.405293 \nL 928.23168 294.368863 \nL 925.407794 294.332433 \nL 925.407794 294.186714 \nL 914.112247 294.113855 \nL 916.936134 294.040995 \nL 925.407794 293.895276 \nL 925.407794 293.822417 \nL 939.527227 293.676698 \nL 939.527227 293.603838 \nL 931.055567 293.567409 \nL 936.70334 293.494549 \nL 933.879453 293.458119 \nL 936.70334 293.38526 \nL 936.70334 293.3124 \nL 939.527227 293.166681 \nL 939.527227 293.130252 \nL 919.76002 293.020962 \nL 939.527227 292.875243 \nL 939.527227 292.765954 \nL 931.055567 292.620235 \nL 939.527227 292.474516 \nL 939.527227 292.328797 \nL 933.879453 292.146649 \nL 936.70334 292.037359 \nL 931.055567 291.9645 \nL 936.70334 291.92807 \nL 936.70334 291.600202 \nL 939.527227 291.490913 \nL 933.879453 291.454483 \nL 936.70334 291.381624 \nL 936.70334 291.272335 \nL 939.527227 291.126616 \nL 939.527227 291.090186 \nL 933.879453 290.908037 \nL 933.879453 290.871607 \nL 928.23168 290.835178 \nL 936.70334 290.798748 \nL 936.70334 290.762318 \nL 922.583907 290.689459 \nL 928.23168 290.58017 \nL 933.879453 290.50731 \nL 925.407794 290.434451 \nL 928.23168 290.398021 \nL 928.23168 290.325161 \nL 933.879453 290.252302 \nL 931.055567 290.215872 \nL 931.055567 290.179442 \nL 933.879453 290.106583 \nL 922.583907 290.070153 \nL 925.407794 289.997294 \nL 925.407794 289.924434 \nL 931.055567 289.851575 \nL 919.76002 289.778715 \nL 933.879453 289.705856 \nL 928.23168 289.669426 \nL 922.583907 289.596566 \nL 931.055567 289.450847 \nL 919.76002 289.377988 \nL 931.055567 289.341558 \nL 931.055567 289.305128 \nL 919.76002 289.159409 \nL 931.055567 289.05012 \nL 922.583907 289.01369 \nL 936.70334 288.977261 \nL 936.70334 288.904401 \nL 914.112247 288.612963 \nL 936.70334 288.467244 \nL 936.70334 288.321525 \nL 931.055567 288.175806 \nL 931.055567 288.139377 \nL 936.70334 287.993658 \nL 936.70334 287.884368 \nL 931.055567 287.847939 \nL 939.527227 287.811509 \nL 939.527227 287.483641 \nL 931.055567 287.374352 \nL 936.70334 287.337922 \nL 936.70334 287.265063 \nL 933.879453 287.228633 \nL 936.70334 287.192203 \nL 939.527227 287.046484 \nL 939.527227 287.010055 \nL 933.879453 286.973625 \nL 936.70334 286.900765 \nL 936.70334 285.953592 \nL 928.23168 285.807873 \nL 928.23168 285.370716 \nL 931.055567 285.224997 \nL 931.055567 285.079278 \nL 933.879453 285.042848 \nL 931.055567 284.969989 \nL 931.055567 284.933559 \nL 925.407794 284.897129 \nL 939.527227 284.82427 \nL 933.879453 284.78784 \nL 933.879453 284.642121 \nL 931.055567 284.605691 \nL 933.879453 284.532832 \nL 936.70334 284.387113 \nL 936.70334 284.277824 \nL 928.23168 284.132105 \nL 931.055567 284.095675 \nL 933.879453 284.059245 \nL 916.936134 283.986386 \nL 933.879453 283.949956 \nL 933.879453 283.913526 \nL 931.055567 283.877096 \nL 936.70334 283.840667 \nL 939.527227 283.767807 \nL 931.055567 283.694948 \nL 936.70334 283.658518 \nL 936.70334 283.622088 \nL 919.76002 283.476369 \nL 939.527227 283.33065 \nL 939.527227 282.966353 \nL 925.407794 282.820634 \nL 939.527227 282.674915 \nL 939.527227 282.638485 \nL 933.879453 282.565626 \nL 936.70334 282.492766 \nL 936.70334 282.201328 \nL 916.936134 282.055609 \nL 916.936134 281.94632 \nL 925.407794 281.800601 \nL 925.407794 281.764171 \nL 922.583907 281.691312 \nL 928.23168 281.545593 \nL 922.583907 281.472733 \nL 925.407794 281.436304 \nL 925.407794 281.399874 \nL 933.879453 281.254155 \nL 933.879453 281.181295 \nL 939.527227 281.035576 \nL 939.527227 280.853428 \nL 936.70334 280.707709 \nL 936.70334 280.56199 \nL 931.055567 280.52556 \nL 936.70334 280.4527 \nL 936.70334 280.416271 \nL 925.407794 280.306981 \nL 939.527227 280.161263 \nL 936.70334 280.015544 \nL 936.70334 279.906254 \nL 939.527227 279.760535 \nL 931.055567 279.651246 \nL 933.879453 279.614816 \nL 936.70334 279.578387 \nL 933.879453 279.541957 \nL 931.055567 279.505527 \nL 933.879453 279.432668 \nL 933.879453 279.396238 \nL 922.583907 279.286949 \nL 936.70334 279.14123 \nL 939.527227 278.995511 \nL 933.879453 278.959081 \nL 939.527227 278.886221 \nL 939.527227 278.558354 \nL 933.879453 278.376205 \nL 939.527227 278.266916 \nL 933.879453 278.157627 \nL 936.70334 278.121197 \nL 939.527227 278.084767 \nL 936.70334 278.011908 \nL 936.70334 277.975478 \nL 939.527227 277.829759 \nL 939.527227 277.793329 \nL 933.879453 277.72047 \nL 936.70334 277.68404 \nL 936.70334 277.538321 \nL 931.055567 277.429032 \nL 936.70334 277.283313 \nL 936.70334 277.210453 \nL 931.055567 277.174023 \nL 936.70334 277.101164 \nL 936.70334 276.991875 \nL 931.055567 276.955445 \nL 936.70334 276.882585 \nL 936.70334 276.846156 \nL 933.879453 276.773296 \nL 936.70334 276.736866 \nL 936.70334 276.481858 \nL 933.879453 276.445429 \nL 936.70334 276.408999 \nL 939.527227 276.26328 \nL 931.055567 276.117561 \nL 936.70334 276.081131 \nL 933.879453 276.044701 \nL 908.464474 276.008272 \nL 914.112247 275.935412 \nL 939.527227 275.789693 \nL 939.527227 275.643974 \nL 925.407794 275.498255 \nL 936.70334 275.388966 \nL 925.407794 275.352536 \nL 928.23168 275.279677 \nL 928.23168 275.243247 \nL 939.527227 275.097528 \nL 939.527227 274.988239 \nL 933.879453 274.80609 \nL 933.879453 274.76966 \nL 939.527227 274.623941 \nL 936.70334 274.587512 \nL 939.527227 274.514652 \nL 939.527227 274.405363 \nL 933.879453 274.259644 \nL 939.527227 274.113925 \nL 936.70334 274.077495 \nL 922.583907 274.041065 \nL 936.70334 273.968206 \nL 936.70334 273.858917 \nL 933.879453 273.713198 \nL 936.70334 273.676768 \nL 933.879453 273.603908 \nL 933.879453 273.531049 \nL 939.527227 273.38533 \nL 939.527227 273.3489 \nL 933.879453 273.166751 \nL 936.70334 273.130322 \nL 931.055567 273.093892 \nL 931.055567 272.911743 \nL 922.583907 272.838884 \nL 925.407794 272.802454 \nL 933.879453 272.766024 \nL 931.055567 272.729595 \nL 919.76002 272.656735 \nL 931.055567 272.620305 \nL 922.583907 272.583876 \nL 939.527227 272.547446 \nL 939.527227 272.438157 \nL 931.055567 272.401727 \nL 939.527227 272.328867 \nL 939.527227 272.256008 \nL 933.879453 272.219578 \nL 936.70334 272.146719 \nL 936.70334 272.110289 \nL 939.527227 272.001 \nL 933.879453 271.855281 \nL 939.527227 271.673132 \nL 928.23168 271.527413 \nL 931.055567 271.490983 \nL 939.527227 271.308835 \nL 933.879453 271.272405 \nL 939.527227 271.199545 \nL 931.055567 271.053826 \nL 914.112247 270.980967 \nL 939.527227 270.835248 \nL 933.879453 270.762388 \nL 936.70334 270.689529 \nL 936.70334 270.653099 \nL 939.527227 270.616669 \nL 933.879453 270.58024 \nL 936.70334 270.54381 \nL 936.70334 270.361661 \nL 939.527227 270.288802 \nL 936.70334 270.252372 \nL 933.879453 270.143083 \nL 939.527227 270.106653 \nL 931.055567 270.070223 \nL 936.70334 270.033793 \nL 936.70334 269.924504 \nL 933.879453 269.888074 \nL 939.527227 269.851645 \nL 939.527227 269.669496 \nL 933.879453 269.560207 \nL 936.70334 269.523777 \nL 936.70334 269.414488 \nL 939.527227 269.341628 \nL 922.583907 269.305199 \nL 925.407794 269.232339 \nL 925.407794 269.195909 \nL 919.76002 269.08662 \nL 925.407794 268.940901 \nL 925.407794 268.831612 \nL 922.583907 268.795182 \nL 939.527227 268.649463 \nL 939.527227 268.613033 \nL 933.879453 268.540174 \nL 936.70334 268.467314 \nL 936.70334 268.321595 \nL 933.879453 268.285166 \nL 936.70334 268.212306 \nL 936.70334 268.139447 \nL 939.527227 268.103017 \nL 933.879453 268.066587 \nL 936.70334 268.030157 \nL 931.055567 267.993728 \nL 933.879453 267.957298 \nL 897.168927 267.920868 \nL 916.936134 267.848009 \nL 925.407794 267.775149 \nL 922.583907 267.73872 \nL 914.112247 267.62943 \nL 916.936134 267.593001 \nL 925.407794 267.374422 \nL 925.407794 267.301563 \nL 936.70334 267.155844 \nL 936.70334 266.937265 \nL 925.407794 266.827976 \nL 931.055567 266.791546 \nL 936.70334 266.609397 \nL 928.23168 266.572968 \nL 936.70334 266.500108 \nL 939.527227 266.354389 \nL 939.527227 266.317959 \nL 933.879453 266.20867 \nL 936.70334 266.135811 \nL 922.583907 266.099381 \nL 933.879453 266.062951 \nL 939.527227 265.990092 \nL 936.70334 265.953662 \nL 936.70334 265.917232 \nL 939.527227 265.771513 \nL 939.527227 265.552935 \nL 936.70334 265.407216 \nL 936.70334 265.225067 \nL 939.527227 265.079348 \nL 939.527227 265.042918 \nL 936.70334 264.970059 \nL 939.527227 264.933629 \nL 939.527227 264.715051 \nL 919.76002 264.569332 \nL 939.527227 264.423613 \nL 939.527227 264.314324 \nL 931.055567 264.277894 \nL 939.527227 264.205034 \nL 939.527227 263.913596 \nL 936.70334 263.767877 \nL 936.70334 263.512869 \nL 933.879453 263.476439 \nL 939.527227 263.44001 \nL 939.527227 263.36715 \nL 936.70334 263.221431 \nL 939.527227 263.185001 \nL 925.407794 263.075712 \nL 936.70334 262.820704 \nL 931.055567 262.674985 \nL 931.055567 262.638555 \nL 939.527227 262.492836 \nL 939.527227 262.055679 \nL 925.407794 261.98282 \nL 919.76002 261.837101 \nL 919.76002 261.764241 \nL 916.936134 261.727812 \nL 928.23168 261.691382 \nL 922.583907 261.618522 \nL 922.583907 261.582093 \nL 919.76002 261.545663 \nL 925.407794 261.509233 \nL 931.055567 261.327084 \nL 931.055567 261.217795 \nL 936.70334 261.144936 \nL 933.879453 261.072076 \nL 933.879453 261.035646 \nL 931.055567 260.889927 \nL 939.527227 260.853498 \nL 936.70334 260.780638 \nL 936.70334 260.59849 \nL 933.879453 260.52563 \nL 939.527227 260.452771 \nL 928.23168 260.416341 \nL 936.70334 260.343481 \nL 933.879453 260.307052 \nL 936.70334 260.234192 \nL 936.70334 260.161333 \nL 933.879453 260.124903 \nL 936.70334 260.052043 \nL 936.70334 259.869895 \nL 933.879453 259.833465 \nL 936.70334 259.760605 \nL 936.70334 259.651316 \nL 931.055567 259.578457 \nL 933.879453 259.542027 \nL 939.527227 259.432738 \nL 931.055567 259.396308 \nL 939.527227 259.323448 \nL 939.527227 259.250589 \nL 931.055567 259.177729 \nL 936.70334 259.1413 \nL 936.70334 259.06844 \nL 933.879453 259.032011 \nL 939.527227 258.995581 \nL 936.70334 258.959151 \nL 939.527227 258.813432 \nL 939.527227 258.704143 \nL 936.70334 258.558424 \nL 936.70334 258.521994 \nL 939.527227 258.485564 \nL 933.879453 258.449135 \nL 933.879453 258.412705 \nL 939.527227 258.339845 \nL 936.70334 258.303416 \nL 925.407794 258.230556 \nL 933.879453 258.194126 \nL 936.70334 258.084837 \nL 933.879453 258.048407 \nL 939.527227 258.011978 \nL 939.527227 257.975548 \nL 936.70334 257.939118 \nL 939.527227 257.866259 \nL 939.527227 257.72054 \nL 928.23168 257.68411 \nL 933.879453 257.61125 \nL 933.879453 257.574821 \nL 939.527227 257.392672 \nL 939.527227 257.356242 \nL 928.23168 257.283383 \nL 931.055567 257.246953 \nL 933.879453 257.137664 \nL 911.28836 257.028375 \nL 931.055567 256.919085 \nL 928.23168 256.882656 \nL 931.055567 256.809796 \nL 928.23168 256.773366 \nL 928.23168 256.736937 \nL 939.527227 256.591218 \nL 931.055567 256.481928 \nL 933.879453 256.445499 \nL 936.70334 256.29978 \nL 933.879453 256.26335 \nL 939.527227 256.22692 \nL 939.527227 256.117631 \nL 936.70334 256.044771 \nL 939.527227 256.008342 \nL 939.527227 255.899052 \nL 933.879453 255.789763 \nL 936.70334 255.644044 \nL 936.70334 255.607614 \nL 933.879453 255.534755 \nL 939.527227 255.425466 \nL 928.23168 255.243317 \nL 931.055567 255.206887 \nL 931.055567 255.170458 \nL 939.527227 255.024739 \nL 939.527227 254.87902 \nL 931.055567 254.80616 \nL 936.70334 254.76973 \nL 936.70334 254.587582 \nL 939.527227 254.441863 \nL 939.527227 254.405433 \nL 936.70334 254.332573 \nL 939.527227 254.296144 \nL 939.527227 254.004706 \nL 933.879453 253.968276 \nL 936.70334 253.895416 \nL 936.70334 253.858987 \nL 939.527227 253.713268 \nL 922.583907 253.603979 \nL 936.70334 253.567549 \nL 936.70334 253.45826 \nL 939.527227 253.42183 \nL 931.055567 253.3854 \nL 936.70334 253.312541 \nL 939.527227 253.166822 \nL 939.527227 252.875384 \nL 936.70334 252.729665 \nL 936.70334 252.656805 \nL 922.583907 252.620375 \nL 936.70334 252.547516 \nL 936.70334 252.474656 \nL 931.055567 252.438227 \nL 936.70334 252.401797 \nL 939.527227 252.365367 \nL 936.70334 252.292508 \nL 936.70334 252.183218 \nL 933.879453 252.146789 \nL 939.527227 252.110359 \nL 939.527227 252.037499 \nL 931.055567 252.00107 \nL 936.70334 251.92821 \nL 936.70334 251.891781 \nL 939.527227 251.818921 \nL 936.70334 251.782491 \nL 936.70334 251.491053 \nL 933.879453 251.454624 \nL 939.527227 251.418194 \nL 939.527227 251.272475 \nL 933.879453 251.163186 \nL 939.527227 251.126756 \nL 933.879453 251.053896 \nL 939.527227 250.871748 \nL 939.527227 250.54388 \nL 931.055567 250.47102 \nL 936.70334 250.434591 \nL 936.70334 250.398161 \nL 928.23168 250.361731 \nL 933.879453 250.288872 \nL 933.879453 250.252442 \nL 939.527227 250.106723 \nL 939.527227 249.997434 \nL 922.583907 249.815285 \nL 939.527227 249.669566 \nL 939.527227 249.487417 \nL 928.23168 249.305269 \nL 928.23168 249.268839 \nL 933.879453 249.08669 \nL 933.879453 249.05026 \nL 939.527227 248.940971 \nL 931.055567 248.904541 \nL 939.527227 248.831682 \nL 939.527227 248.649533 \nL 933.879453 248.576674 \nL 936.70334 248.503814 \nL 936.70334 248.467385 \nL 933.879453 248.358095 \nL 939.527227 248.212376 \nL 939.527227 248.103087 \nL 928.23168 247.957368 \nL 936.70334 247.848079 \nL 922.583907 247.775219 \nL 933.879453 247.73879 \nL 931.055567 247.66593 \nL 939.527227 247.593071 \nL 939.527227 247.520211 \nL 936.70334 247.483781 \nL 939.527227 247.410922 \nL 939.527227 247.301633 \nL 936.70334 247.192343 \nL 939.527227 247.046624 \nL 939.527227 246.755186 \nL 916.936134 246.718757 \nL 936.70334 246.645897 \nL 936.70334 246.573038 \nL 933.879453 246.536608 \nL 936.70334 246.463749 \nL 936.70334 246.390889 \nL 928.23168 246.2816 \nL 936.70334 246.135881 \nL 936.70334 246.026592 \nL 931.055567 245.844443 \nL 931.055567 245.808013 \nL 936.70334 245.625864 \nL 936.70334 245.589435 \nL 922.583907 245.516575 \nL 925.407794 245.480145 \nL 939.527227 245.334426 \nL 939.527227 245.115848 \nL 936.70334 245.006559 \nL 939.527227 244.970129 \nL 936.70334 244.89727 \nL 931.055567 244.86084 \nL 936.70334 244.78798 \nL 931.055567 244.715121 \nL 939.527227 244.605832 \nL 922.583907 244.496542 \nL 933.879453 244.423683 \nL 939.527227 244.277964 \nL 939.527227 244.168675 \nL 936.70334 244.132245 \nL 939.527227 244.059385 \nL 939.527227 244.022956 \nL 936.70334 243.950096 \nL 939.527227 243.913666 \nL 939.527227 243.622228 \nL 931.055567 243.585799 \nL 936.70334 243.512939 \nL 936.70334 243.44008 \nL 933.879453 243.40365 \nL 936.70334 243.33079 \nL 936.70334 243.294361 \nL 933.879453 243.185072 \nL 936.70334 243.075782 \nL 933.879453 243.002923 \nL 939.527227 242.893634 \nL 931.055567 242.820774 \nL 939.527227 242.784344 \nL 939.527227 242.747915 \nL 936.70334 242.602196 \nL 936.70334 242.565766 \nL 933.879453 242.529336 \nL 939.527227 242.492906 \nL 939.527227 242.201468 \nL 936.70334 242.128609 \nL 939.527227 242.092179 \nL 939.527227 241.91003 \nL 933.879453 241.873601 \nL 936.70334 241.800741 \nL 936.70334 241.691452 \nL 933.879453 241.545733 \nL 933.879453 241.472873 \nL 928.23168 241.436444 \nL 939.527227 241.400014 \nL 939.527227 241.327155 \nL 905.640587 241.290725 \nL 936.70334 241.217865 \nL 936.70334 241.145006 \nL 939.527227 241.035717 \nL 919.76002 240.999287 \nL 933.879453 240.926427 \nL 922.583907 240.744279 \nL 939.527227 240.5257 \nL 939.527227 240.379981 \nL 925.407794 240.234262 \nL 931.055567 240.124973 \nL 925.407794 240.088543 \nL 928.23168 240.052113 \nL 939.527227 239.906394 \nL 939.527227 239.687816 \nL 933.879453 239.651386 \nL 936.70334 239.578527 \nL 936.70334 239.542097 \nL 939.527227 239.396378 \nL 939.527227 239.250659 \nL 928.23168 239.14137 \nL 939.527227 238.995651 \nL 939.527227 238.922791 \nL 936.70334 238.886362 \nL 939.527227 238.813502 \nL 939.527227 238.777072 \nL 936.70334 238.704213 \nL 939.527227 238.667783 \nL 939.527227 238.631353 \nL 928.23168 238.558494 \nL 939.527227 238.522064 \nL 939.527227 238.084907 \nL 933.879453 238.048477 \nL 936.70334 237.975618 \nL 936.70334 237.502031 \nL 911.28836 237.465602 \nL 936.70334 237.429172 \nL 939.527227 237.283453 \nL 939.527227 237.174164 \nL 933.879453 237.101304 \nL 939.527227 237.064874 \nL 939.527227 236.955585 \nL 933.879453 236.882726 \nL 936.70334 236.846296 \nL 936.70334 236.664147 \nL 939.527227 236.554858 \nL 925.407794 236.409139 \nL 928.23168 236.29985 \nL 928.23168 236.22699 \nL 936.70334 236.081271 \nL 936.70334 235.971982 \nL 933.879453 235.935552 \nL 939.527227 235.899123 \nL 939.527227 235.862693 \nL 936.70334 235.716974 \nL 939.527227 235.680544 \nL 933.879453 235.644114 \nL 936.70334 235.607685 \nL 922.583907 235.461966 \nL 939.527227 235.279817 \nL 939.527227 235.061238 \nL 933.879453 234.87909 \nL 936.70334 234.733371 \nL 936.70334 234.587652 \nL 911.28836 234.551222 \nL 931.055567 234.478362 \nL 931.055567 234.332644 \nL 928.23168 234.296214 \nL 931.055567 234.223354 \nL 931.055567 234.041206 \nL 928.23168 233.968346 \nL 931.055567 233.931916 \nL 931.055567 233.895487 \nL 919.76002 233.713338 \nL 936.70334 233.567619 \nL 928.23168 233.531189 \nL 931.055567 233.45833 \nL 931.055567 233.4219 \nL 936.70334 233.276181 \nL 936.70334 233.203321 \nL 939.527227 233.057602 \nL 939.527227 233.021173 \nL 936.70334 232.984743 \nL 939.527227 232.911883 \nL 939.527227 232.584016 \nL 936.70334 232.547586 \nL 939.527227 232.474727 \nL 939.527227 232.401867 \nL 931.055567 232.329008 \nL 936.70334 232.292578 \nL 936.70334 232.146859 \nL 908.464474 232.03757 \nL 939.527227 231.891851 \nL 939.527227 231.636842 \nL 931.055567 231.600413 \nL 939.527227 231.527553 \nL 939.527227 231.491123 \nL 933.879453 231.454694 \nL 936.70334 231.381834 \nL 936.70334 231.272545 \nL 933.879453 231.236115 \nL 936.70334 231.163256 \nL 936.70334 230.981107 \nL 939.527227 230.871818 \nL 919.76002 230.762529 \nL 933.879453 230.726099 \nL 933.879453 230.689669 \nL 936.70334 230.54395 \nL 936.70334 230.471091 \nL 939.527227 230.325372 \nL 939.527227 230.252512 \nL 928.23168 230.070363 \nL 939.527227 229.924644 \nL 933.879453 229.851785 \nL 936.70334 229.815355 \nL 914.112247 229.706066 \nL 939.527227 229.596777 \nL 919.76002 229.560347 \nL 925.407794 229.487487 \nL 928.23168 229.451058 \nL 911.28836 229.414628 \nL 916.936134 229.341768 \nL 916.936134 229.305339 \nL 919.76002 229.268909 \nL 939.527227 229.12319 \nL 933.879453 229.050331 \nL 936.70334 229.013901 \nL 936.70334 228.977471 \nL 939.527227 228.868182 \nL 919.76002 228.722463 \nL 939.527227 228.576744 \nL 939.527227 228.540314 \nL 931.055567 228.503884 \nL 933.879453 228.431025 \nL 936.70334 228.394595 \nL 928.23168 228.358165 \nL 933.879453 228.285306 \nL 939.527227 228.139587 \nL 914.112247 228.103157 \nL 939.527227 228.030298 \nL 939.527227 227.957438 \nL 936.70334 227.921008 \nL 939.527227 227.848149 \nL 939.527227 227.62957 \nL 933.879453 227.593141 \nL 936.70334 227.520281 \nL 936.70334 227.483851 \nL 922.583907 227.447422 \nL 936.70334 227.410992 \nL 939.527227 227.265273 \nL 928.23168 227.155984 \nL 931.055567 227.119554 \nL 931.055567 227.010265 \nL 919.76002 226.864546 \nL 931.055567 226.718827 \nL 925.407794 226.682397 \nL 922.583907 226.536678 \nL 922.583907 226.500248 \nL 936.70334 226.354529 \nL 936.70334 226.24524 \nL 928.23168 226.20881 \nL 931.055567 226.135951 \nL 931.055567 226.063091 \nL 939.527227 225.844513 \nL 939.527227 225.808083 \nL 933.879453 225.735224 \nL 936.70334 225.662364 \nL 936.70334 225.589505 \nL 931.055567 225.443786 \nL 931.055567 225.370926 \nL 914.112247 225.334497 \nL 931.055567 225.261637 \nL 931.055567 225.225207 \nL 939.527227 225.079488 \nL 939.527227 224.89734 \nL 933.879453 224.86091 \nL 936.70334 224.78805 \nL 939.527227 224.642331 \nL 939.527227 224.569472 \nL 933.879453 224.423753 \nL 939.527227 224.278034 \nL 939.527227 224.241604 \nL 933.879453 224.168745 \nL 936.70334 224.095885 \nL 936.70334 223.913736 \nL 939.527227 223.804447 \nL 933.879453 223.768018 \nL 939.527227 223.695158 \nL 939.527227 223.513009 \nL 933.879453 223.47658 \nL 936.70334 223.40372 \nL 936.70334 222.857274 \nL 933.879453 222.820844 \nL 936.70334 222.747985 \nL 936.70334 222.638695 \nL 939.527227 222.492976 \nL 939.527227 222.347257 \nL 928.23168 222.310828 \nL 936.70334 222.237968 \nL 936.70334 222.201538 \nL 931.055567 222.128679 \nL 939.527227 221.98296 \nL 933.879453 221.800811 \nL 933.879453 221.727952 \nL 908.464474 221.691522 \nL 939.527227 221.655092 \nL 939.527227 221.545803 \nL 933.879453 221.400084 \nL 933.879453 221.327225 \nL 936.70334 221.181506 \nL 936.70334 221.108646 \nL 933.879453 220.962927 \nL 933.879453 220.817208 \nL 936.70334 220.780778 \nL 931.055567 220.744349 \nL 905.640587 220.707919 \nL 939.527227 220.671489 \nL 939.527227 220.59863 \nL 931.055567 220.452911 \nL 936.70334 220.307192 \nL 936.70334 220.270762 \nL 931.055567 220.234332 \nL 933.879453 220.161473 \nL 939.527227 220.088613 \nL 936.70334 220.015754 \nL 919.76002 219.979324 \nL 939.527227 219.942894 \nL 939.527227 219.833605 \nL 936.70334 219.797175 \nL 939.527227 219.724316 \nL 939.527227 219.250729 \nL 936.70334 219.10501 \nL 936.70334 219.06858 \nL 925.407794 219.032151 \nL 939.527227 218.995721 \nL 939.527227 218.959291 \nL 936.70334 218.922861 \nL 939.527227 218.850002 \nL 939.527227 218.813572 \nL 931.055567 218.777142 \nL 939.527227 218.704283 \nL 931.055567 218.594994 \nL 939.527227 218.558564 \nL 936.70334 218.485705 \nL 933.879453 218.449275 \nL 936.70334 218.376415 \nL 936.70334 218.339986 \nL 925.407794 218.267126 \nL 931.055567 218.230696 \nL 931.055567 218.194267 \nL 936.70334 218.121407 \nL 925.407794 218.084977 \nL 936.70334 218.012118 \nL 939.527227 217.975688 \nL 936.70334 217.902829 \nL 931.055567 217.829969 \nL 936.70334 217.793539 \nL 939.527227 217.68425 \nL 931.055567 217.64782 \nL 936.70334 217.574961 \nL 933.879453 217.538531 \nL 936.70334 217.465672 \nL 939.527227 217.319953 \nL 939.527227 217.283523 \nL 936.70334 217.247093 \nL 939.527227 217.174234 \nL 939.527227 216.955655 \nL 933.879453 216.846366 \nL 936.70334 216.737077 \nL 933.879453 216.700647 \nL 939.527227 216.664217 \nL 939.527227 216.554928 \nL 936.70334 216.518498 \nL 939.527227 216.445639 \nL 939.527227 216.29992 \nL 936.70334 216.26349 \nL 939.527227 216.190631 \nL 939.527227 216.154201 \nL 931.055567 216.117771 \nL 936.70334 216.044912 \nL 936.70334 215.972052 \nL 939.527227 215.935622 \nL 922.583907 215.753474 \nL 922.583907 215.097738 \nL 925.407794 214.952019 \nL 916.936134 214.87916 \nL 922.583907 214.84273 \nL 925.407794 214.697011 \nL 925.407794 214.660581 \nL 931.055567 214.624152 \nL 928.23168 214.551292 \nL 922.583907 214.442003 \nL 925.407794 214.405573 \nL 925.407794 214.332714 \nL 922.583907 214.296284 \nL 939.527227 214.150565 \nL 939.527227 214.004846 \nL 933.879453 213.968416 \nL 936.70334 213.895557 \nL 936.70334 213.822697 \nL 931.055567 213.749838 \nL 936.70334 213.713408 \nL 939.527227 213.567689 \nL 931.055567 213.38554 \nL 939.527227 213.276251 \nL 931.055567 213.203392 \nL 933.879453 213.166962 \nL 933.879453 213.057673 \nL 931.055567 213.021243 \nL 939.527227 212.875524 \nL 939.527227 212.656945 \nL 936.70334 212.511226 \nL 936.70334 212.146929 \nL 939.527227 212.00121 \nL 939.527227 211.819061 \nL 933.879453 211.782631 \nL 936.70334 211.709772 \nL 936.70334 211.673342 \nL 931.055567 211.636912 \nL 936.70334 211.564053 \nL 939.527227 211.418334 \nL 939.527227 211.345475 \nL 933.879453 211.309045 \nL 936.70334 211.236185 \nL 936.70334 211.163326 \nL 931.055567 211.017607 \nL 939.527227 210.981177 \nL 936.70334 210.908318 \nL 936.70334 210.871888 \nL 939.527227 210.726169 \nL 939.527227 210.54402 \nL 933.879453 210.50759 \nL 936.70334 210.434731 \nL 936.70334 210.361871 \nL 939.527227 210.325442 \nL 936.70334 210.252582 \nL 922.583907 210.106863 \nL 925.407794 210.070433 \nL 919.76002 209.997574 \nL 922.583907 209.961144 \nL 925.407794 209.888285 \nL 922.583907 209.851855 \nL 922.583907 209.742566 \nL 939.527227 209.633277 \nL 933.879453 209.523987 \nL 928.23168 209.487558 \nL 933.879453 209.414698 \nL 939.527227 209.305409 \nL 936.70334 209.268979 \nL 936.70334 209.232549 \nL 933.879453 209.15969 \nL 939.527227 209.013971 \nL 939.527227 208.941111 \nL 928.23168 208.868252 \nL 933.879453 208.758963 \nL 933.879453 208.686103 \nL 928.23168 208.540384 \nL 939.527227 208.358235 \nL 936.70334 208.212516 \nL 936.70334 208.139657 \nL 933.879453 208.103227 \nL 936.70334 208.066797 \nL 939.527227 208.030368 \nL 931.055567 207.993938 \nL 939.527227 207.921079 \nL 931.055567 207.77536 \nL 933.879453 207.73893 \nL 936.70334 207.66607 \nL 933.879453 207.629641 \nL 931.055567 207.483922 \nL 931.055567 207.338203 \nL 933.879453 207.192484 \nL 933.879453 207.156054 \nL 914.112247 207.119624 \nL 919.76002 207.046765 \nL 939.527227 206.901046 \nL 939.527227 206.828186 \nL 922.583907 206.718897 \nL 931.055567 206.609608 \nL 931.055567 206.573178 \nL 939.527227 206.500318 \nL 936.70334 206.463889 \nL 931.055567 206.31817 \nL 931.055567 206.24531 \nL 939.527227 206.099591 \nL 939.527227 206.063162 \nL 931.055567 206.026732 \nL 936.70334 205.953872 \nL 939.527227 205.917443 \nL 936.70334 205.844583 \nL 936.70334 205.771724 \nL 939.527227 205.626005 \nL 939.527227 205.589575 \nL 922.583907 205.443856 \nL 939.527227 205.298137 \nL 939.527227 205.115988 \nL 919.76002 205.079558 \nL 936.70334 205.006699 \nL 933.879453 204.970269 \nL 936.70334 204.89741 \nL 939.527227 204.751691 \nL 933.879453 204.642401 \nL 936.70334 204.605972 \nL 936.70334 204.496682 \nL 925.407794 204.278104 \nL 939.527227 204.168815 \nL 933.879453 204.132385 \nL 939.527227 204.059526 \nL 939.527227 204.023096 \nL 933.879453 203.986666 \nL 936.70334 203.913807 \nL 936.70334 203.804517 \nL 939.527227 203.658798 \nL 939.527227 203.549509 \nL 928.23168 203.513079 \nL 939.527227 203.44022 \nL 931.055567 203.40379 \nL 936.70334 203.330931 \nL 936.70334 203.221641 \nL 925.407794 203.112352 \nL 936.70334 203.039493 \nL 908.464474 203.003063 \nL 936.70334 202.930203 \nL 925.407794 202.893774 \nL 936.70334 202.820914 \nL 936.70334 202.784484 \nL 939.527227 202.748055 \nL 936.70334 202.711625 \nL 931.055567 202.638766 \nL 936.70334 202.602336 \nL 936.70334 202.565906 \nL 939.527227 202.420187 \nL 919.76002 202.347328 \nL 939.527227 202.310898 \nL 939.527227 202.201609 \nL 925.407794 202.165179 \nL 928.23168 202.092319 \nL 928.23168 201.9466 \nL 939.527227 201.800881 \nL 931.055567 201.728022 \nL 933.879453 201.655162 \nL 933.879453 201.618733 \nL 939.527227 201.436584 \nL 933.879453 201.327295 \nL 939.527227 201.181576 \nL 939.527227 201.145146 \nL 928.23168 201.108716 \nL 936.70334 201.035857 \nL 936.70334 200.999427 \nL 939.527227 200.853708 \nL 922.583907 200.63513 \nL 928.23168 200.5987 \nL 939.527227 200.52584 \nL 933.879453 200.489411 \nL 936.70334 200.452981 \nL 928.23168 200.416551 \nL 936.70334 200.343692 \nL 916.936134 200.197973 \nL 939.527227 200.052254 \nL 939.527227 199.906535 \nL 936.70334 199.760816 \nL 936.70334 199.505807 \nL 933.879453 199.469378 \nL 936.70334 199.396518 \nL 936.70334 199.068651 \nL 939.527227 198.922932 \nL 939.527227 198.850072 \nL 936.70334 198.813642 \nL 939.527227 198.740783 \nL 939.527227 198.595064 \nL 933.879453 198.558634 \nL 936.70334 198.485775 \nL 936.70334 198.449345 \nL 939.527227 198.303626 \nL 939.527227 198.230766 \nL 933.879453 198.194337 \nL 936.70334 198.121477 \nL 936.70334 197.866469 \nL 939.527227 197.75718 \nL 931.055567 197.611461 \nL 931.055567 197.575031 \nL 939.527227 197.465742 \nL 933.879453 197.429312 \nL 936.70334 197.356453 \nL 936.70334 197.283593 \nL 939.527227 197.137874 \nL 939.527227 196.955725 \nL 931.055567 196.919296 \nL 936.70334 196.846436 \nL 936.70334 196.810006 \nL 922.583907 196.773577 \nL 933.879453 196.700717 \nL 936.70334 196.664287 \nL 933.879453 196.591428 \nL 925.407794 196.554998 \nL 936.70334 196.518568 \nL 939.527227 196.445709 \nL 933.879453 196.372849 \nL 936.70334 196.33642 \nL 936.70334 196.22713 \nL 933.879453 196.190701 \nL 936.70334 196.117841 \nL 936.70334 196.044982 \nL 925.407794 195.789973 \nL 928.23168 195.644255 \nL 928.23168 195.571395 \nL 908.464474 195.462106 \nL 916.936134 195.389246 \nL 916.936134 195.279957 \nL 914.112247 195.243527 \nL 916.936134 195.207098 \nL 925.407794 195.061379 \nL 925.407794 194.91566 \nL 914.112247 194.769941 \nL 925.407794 194.624222 \nL 925.407794 194.405643 \nL 939.527227 194.259924 \nL 933.879453 194.187065 \nL 936.70334 194.114205 \nL 936.70334 194.077775 \nL 933.879453 193.932056 \nL 939.527227 193.895627 \nL 928.23168 193.859197 \nL 936.70334 193.822767 \nL 936.70334 193.749908 \nL 933.879453 193.713478 \nL 939.527227 193.677048 \nL 936.70334 193.640619 \nL 936.70334 193.567759 \nL 931.055567 193.4949 \nL 933.879453 193.45847 \nL 939.527227 193.312751 \nL 931.055567 193.276321 \nL 936.70334 193.203462 \nL 936.70334 193.130602 \nL 933.879453 193.094172 \nL 936.70334 193.021313 \nL 939.527227 192.984883 \nL 931.055567 192.875594 \nL 939.527227 192.766305 \nL 928.23168 192.620586 \nL 939.527227 192.438437 \nL 939.527227 192.402007 \nL 936.70334 192.365577 \nL 939.527227 192.292718 \nL 939.527227 192.183429 \nL 936.70334 192.146999 \nL 939.527227 192.07414 \nL 939.527227 191.819131 \nL 931.055567 191.600553 \nL 931.055567 191.454834 \nL 928.23168 191.418404 \nL 931.055567 191.345545 \nL 936.70334 191.236255 \nL 919.76002 191.199826 \nL 939.527227 191.163396 \nL 939.527227 191.017677 \nL 931.055567 190.944817 \nL 939.527227 190.908388 \nL 939.527227 190.871958 \nL 931.055567 190.762669 \nL 936.70334 190.726239 \nL 936.70334 190.61695 \nL 925.407794 190.398371 \nL 936.70334 190.289082 \nL 933.879453 190.252652 \nL 933.879453 190.216223 \nL 939.527227 190.070504 \nL 939.527227 189.961214 \nL 922.583907 189.851925 \nL 936.70334 189.815495 \nL 939.527227 189.669776 \nL 939.527227 189.596917 \nL 933.879453 189.560487 \nL 939.527227 189.487628 \nL 939.527227 189.378338 \nL 919.76002 189.305479 \nL 939.527227 189.269049 \nL 939.527227 189.232619 \nL 928.23168 189.12333 \nL 936.70334 189.0869 \nL 914.112247 189.050471 \nL 936.70334 188.977611 \nL 936.70334 188.904752 \nL 922.583907 188.868322 \nL 931.055567 188.795462 \nL 933.879453 188.759033 \nL 931.055567 188.686173 \nL 931.055567 188.649744 \nL 933.879453 188.540454 \nL 931.055567 188.504025 \nL 933.879453 188.467595 \nL 936.70334 188.431165 \nL 933.879453 188.394735 \nL 925.407794 188.358306 \nL 931.055567 188.285446 \nL 936.70334 188.249016 \nL 931.055567 188.176157 \nL 939.527227 188.066868 \nL 922.583907 188.030438 \nL 928.23168 187.957578 \nL 925.407794 187.884719 \nL 928.23168 187.848289 \nL 928.23168 187.77543 \nL 922.583907 187.70257 \nL 925.407794 187.66614 \nL 925.407794 187.629711 \nL 922.583907 187.556851 \nL 925.407794 187.520421 \nL 925.407794 187.411132 \nL 939.527227 187.301843 \nL 936.70334 187.265413 \nL 939.527227 187.119694 \nL 939.527227 187.010405 \nL 933.879453 186.937545 \nL 936.70334 186.864686 \nL 939.527227 186.828256 \nL 931.055567 186.718967 \nL 939.527227 186.573248 \nL 931.055567 186.427529 \nL 925.407794 186.35467 \nL 939.527227 186.28181 \nL 939.527227 185.917513 \nL 931.055567 185.808223 \nL 936.70334 185.662504 \nL 936.70334 185.626075 \nL 939.527227 185.480356 \nL 939.527227 185.443926 \nL 936.70334 185.407496 \nL 939.527227 185.334637 \nL 939.527227 185.298207 \nL 936.70334 185.188918 \nL 939.527227 185.079629 \nL 919.76002 185.043199 \nL 936.70334 184.970339 \nL 939.527227 184.82462 \nL 939.527227 184.533182 \nL 925.407794 184.496753 \nL 936.70334 184.423893 \nL 936.70334 184.351034 \nL 939.527227 184.205315 \nL 939.527227 184.132455 \nL 933.879453 183.950306 \nL 939.527227 183.804587 \nL 933.879453 183.658868 \nL 931.055567 183.586009 \nL 939.527227 183.47672 \nL 939.527227 183.367431 \nL 933.879453 183.294571 \nL 936.70334 183.221712 \nL 936.70334 183.075993 \nL 933.879453 183.003133 \nL 936.70334 182.966703 \nL 936.70334 182.930274 \nL 933.879453 182.893844 \nL 939.527227 182.857414 \nL 939.527227 182.711695 \nL 922.583907 182.638836 \nL 925.407794 182.602406 \nL 925.407794 182.420257 \nL 922.583907 182.274538 \nL 936.70334 181.9831 \nL 936.70334 181.94667 \nL 916.936134 181.800951 \nL 933.879453 181.655232 \nL 939.527227 181.509514 \nL 931.055567 181.363795 \nL 939.527227 181.290935 \nL 933.879453 181.254505 \nL 936.70334 181.218076 \nL 931.055567 181.181646 \nL 933.879453 181.145216 \nL 933.879453 181.108786 \nL 939.527227 180.999497 \nL 919.76002 180.708059 \nL 922.583907 180.671629 \nL 922.583907 180.6352 \nL 919.76002 180.489481 \nL 919.76002 180.307332 \nL 925.407794 180.161613 \nL 922.583907 180.125183 \nL 925.407794 180.052324 \nL 925.407794 179.760886 \nL 922.583907 179.615167 \nL 925.407794 179.469448 \nL 925.407794 179.396588 \nL 911.28836 179.323729 \nL 939.527227 179.17801 \nL 939.527227 178.886572 \nL 933.879453 178.704423 \nL 936.70334 178.558704 \nL 931.055567 178.485845 \nL 936.70334 178.449415 \nL 933.879453 178.376555 \nL 939.527227 178.230836 \nL 939.527227 178.085118 \nL 922.583907 177.902969 \nL 931.055567 177.866539 \nL 931.055567 177.830109 \nL 936.70334 177.75725 \nL 922.583907 177.72082 \nL 936.70334 177.647961 \nL 936.70334 177.575101 \nL 939.527227 177.538671 \nL 936.70334 177.465812 \nL 928.23168 177.320093 \nL 928.23168 177.283663 \nL 931.055567 177.174374 \nL 928.23168 177.137944 \nL 931.055567 177.065085 \nL 931.055567 176.992225 \nL 928.23168 176.919366 \nL 931.055567 176.882936 \nL 936.70334 176.700787 \nL 936.70334 176.664357 \nL 922.583907 176.627928 \nL 931.055567 176.555068 \nL 928.23168 176.409349 \nL 936.70334 176.26363 \nL 936.70334 176.154341 \nL 939.527227 176.081482 \nL 936.70334 176.045052 \nL 936.70334 176.008622 \nL 919.76002 175.972192 \nL 933.879453 175.935763 \nL 939.527227 175.790044 \nL 933.879453 175.680754 \nL 939.527227 175.607895 \nL 933.879453 175.571465 \nL 936.70334 175.425746 \nL 936.70334 175.316457 \nL 939.527227 175.170738 \nL 939.527227 175.097878 \nL 931.055567 174.988589 \nL 936.70334 174.84287 \nL 928.23168 174.733581 \nL 936.70334 174.624292 \nL 933.879453 174.587862 \nL 936.70334 174.515003 \nL 936.70334 174.478573 \nL 919.76002 174.405713 \nL 928.23168 174.369284 \nL 916.936134 174.223565 \nL 939.527227 174.041416 \nL 939.527227 173.932127 \nL 928.23168 173.822837 \nL 939.527227 173.677118 \nL 939.527227 173.640689 \nL 931.055567 173.604259 \nL 936.70334 173.531399 \nL 936.70334 173.312821 \nL 925.407794 173.276391 \nL 933.879453 173.203532 \nL 936.70334 173.130672 \nL 928.23168 173.094242 \nL 931.055567 173.021383 \nL 931.055567 172.948523 \nL 939.527227 172.839234 \nL 925.407794 172.729945 \nL 928.23168 172.693515 \nL 922.583907 172.584226 \nL 928.23168 172.511367 \nL 905.640587 172.438507 \nL 939.527227 172.365648 \nL 933.879453 172.329218 \nL 936.70334 172.183499 \nL 936.70334 171.928491 \nL 931.055567 171.892061 \nL 939.527227 171.855631 \nL 939.527227 171.709912 \nL 928.23168 171.454904 \nL 939.527227 171.199896 \nL 939.527227 171.017747 \nL 933.879453 170.908458 \nL 936.70334 170.872028 \nL 936.70334 170.835598 \nL 939.527227 170.726309 \nL 936.70334 170.689879 \nL 939.527227 170.61702 \nL 939.527227 170.58059 \nL 936.70334 170.434871 \nL 936.70334 170.398441 \nL 933.879453 170.362012 \nL 939.527227 170.325582 \nL 939.527227 170.216293 \nL 936.70334 170.070574 \nL 936.70334 169.961284 \nL 933.879453 169.924855 \nL 936.70334 169.851995 \nL 936.70334 169.815565 \nL 939.527227 169.779136 \nL 936.70334 169.706276 \nL 936.70334 169.560557 \nL 933.879453 169.524127 \nL 936.70334 169.487698 \nL 939.527227 169.414838 \nL 933.879453 169.378408 \nL 939.527227 169.305549 \nL 939.527227 169.269119 \nL 931.055567 169.1234 \nL 933.879453 169.086971 \nL 936.70334 169.014111 \nL 928.23168 168.941252 \nL 936.70334 168.904822 \nL 936.70334 168.831962 \nL 939.527227 168.686243 \nL 939.527227 168.504095 \nL 931.055567 168.431235 \nL 939.527227 168.394805 \nL 939.527227 168.285516 \nL 936.70334 168.176227 \nL 939.527227 168.030508 \nL 939.527227 167.957648 \nL 931.055567 167.7755 \nL 936.70334 167.593351 \nL 936.70334 167.520492 \nL 928.23168 167.484062 \nL 931.055567 167.411202 \nL 939.527227 167.265483 \nL 939.527227 167.192624 \nL 928.23168 167.119764 \nL 939.527227 167.083335 \nL 939.527227 167.046905 \nL 931.055567 166.974045 \nL 939.527227 166.937616 \nL 939.527227 166.719037 \nL 925.407794 166.682607 \nL 928.23168 166.609748 \nL 939.527227 166.464029 \nL 939.527227 166.427599 \nL 933.879453 166.35474 \nL 936.70334 166.28188 \nL 936.70334 166.172591 \nL 939.527227 166.136161 \nL 936.70334 166.063302 \nL 936.70334 165.917583 \nL 933.879453 165.881153 \nL 936.70334 165.808293 \nL 936.70334 165.225418 \nL 928.23168 165.079699 \nL 928.23168 164.970409 \nL 922.583907 164.93398 \nL 939.527227 164.788261 \nL 933.879453 164.751831 \nL 936.70334 164.678971 \nL 936.70334 164.642542 \nL 928.23168 164.496823 \nL 928.23168 164.460393 \nL 925.407794 164.423963 \nL 939.527227 164.278244 \nL 919.76002 164.241814 \nL 936.70334 164.168955 \nL 936.70334 164.132525 \nL 928.23168 164.059666 \nL 933.879453 164.023236 \nL 939.527227 163.877517 \nL 939.527227 163.768228 \nL 933.879453 163.622509 \nL 933.879453 163.586079 \nL 936.70334 163.44036 \nL 933.879453 163.40393 \nL 936.70334 163.367501 \nL 939.527227 163.294641 \nL 936.70334 163.258211 \nL 936.70334 163.148922 \nL 925.407794 163.112492 \nL 931.055567 163.039633 \nL 928.23168 163.003203 \nL 931.055567 162.930344 \nL 936.70334 162.784625 \nL 936.70334 162.711765 \nL 919.76002 162.675335 \nL 928.23168 162.602476 \nL 925.407794 162.529616 \nL 928.23168 162.493187 \nL 928.23168 162.456757 \nL 925.407794 162.347468 \nL 928.23168 162.201749 \nL 925.407794 162.09246 \nL 936.70334 161.946741 \nL 936.70334 161.873881 \nL 919.76002 161.764592 \nL 939.527227 161.618873 \nL 939.527227 161.546013 \nL 933.879453 161.400294 \nL 936.70334 161.254575 \nL 936.70334 161.218146 \nL 933.879453 161.181716 \nL 936.70334 161.108856 \nL 936.70334 161.072427 \nL 939.527227 160.926708 \nL 936.70334 160.890278 \nL 939.527227 160.817418 \nL 939.527227 160.708129 \nL 931.055567 160.63527 \nL 916.936134 160.56241 \nL 939.527227 160.416691 \nL 922.583907 160.234543 \nL 939.527227 160.088824 \nL 939.527227 159.870245 \nL 936.70334 159.724526 \nL 939.527227 159.651667 \nL 936.70334 159.615237 \nL 936.70334 159.542377 \nL 931.055567 159.396658 \nL 936.70334 159.250939 \nL 936.70334 158.595204 \nL 922.583907 158.522345 \nL 936.70334 158.485915 \nL 936.70334 158.413055 \nL 919.76002 158.230907 \nL 914.112247 158.194477 \nL 939.527227 158.121617 \nL 933.879453 158.048758 \nL 922.583907 157.975898 \nL 919.76002 157.903039 \nL 936.70334 157.830179 \nL 919.76002 157.648031 \nL 939.527227 157.611601 \nL 933.879453 157.538741 \nL 933.879453 157.502312 \nL 936.70334 157.465882 \nL 922.583907 157.429452 \nL 931.055567 157.356593 \nL 933.879453 157.210874 \nL 933.879453 157.174444 \nL 931.055567 157.138014 \nL 933.879453 157.101584 \nL 936.70334 157.065155 \nL 933.879453 156.992295 \nL 933.879453 156.955866 \nL 936.70334 156.846576 \nL 931.055567 156.810147 \nL 933.879453 156.737287 \nL 936.70334 156.700857 \nL 933.879453 156.664428 \nL 925.407794 156.627998 \nL 928.23168 156.555138 \nL 928.23168 156.445849 \nL 936.70334 156.227271 \nL 936.70334 156.190841 \nL 916.936134 156.008692 \nL 939.527227 155.899403 \nL 916.936134 155.680824 \nL 939.527227 155.535105 \nL 939.527227 155.462246 \nL 928.23168 155.352957 \nL 939.527227 155.280097 \nL 936.70334 155.243667 \nL 936.70334 155.170808 \nL 925.407794 155.134378 \nL 928.23168 155.061519 \nL 931.055567 154.9158 \nL 931.055567 154.87937 \nL 925.407794 154.806511 \nL 939.527227 154.733651 \nL 933.879453 154.697221 \nL 933.879453 154.660792 \nL 925.407794 154.587932 \nL 936.70334 154.551502 \nL 928.23168 154.478643 \nL 922.583907 154.442213 \nL 933.879453 154.405783 \nL 933.879453 154.369354 \nL 928.23168 154.187205 \nL 939.527227 154.077916 \nL 928.23168 154.041486 \nL 933.879453 153.968626 \nL 931.055567 153.932197 \nL 936.70334 153.895767 \nL 936.70334 153.750048 \nL 925.407794 153.713618 \nL 939.527227 153.677188 \nL 939.527227 153.567899 \nL 933.879453 153.49504 \nL 936.70334 153.45861 \nL 939.527227 153.42218 \nL 936.70334 153.349321 \nL 936.70334 153.130742 \nL 916.936134 152.985023 \nL 931.055567 152.948594 \nL 931.055567 152.912164 \nL 939.527227 152.839304 \nL 933.879453 152.766445 \nL 933.879453 152.730015 \nL 936.70334 152.620726 \nL 933.879453 152.547866 \nL 939.527227 152.402147 \nL 939.527227 152.292858 \nL 931.055567 152.07428 \nL 931.055567 151.892131 \nL 939.527227 151.746412 \nL 928.23168 151.709982 \nL 939.527227 151.637123 \nL 939.527227 151.600693 \nL 936.70334 151.564263 \nL 939.527227 151.491404 \nL 939.527227 151.382115 \nL 933.879453 151.309255 \nL 936.70334 151.272825 \nL 936.70334 151.163536 \nL 933.879453 151.127106 \nL 936.70334 151.054247 \nL 936.70334 151.017817 \nL 928.23168 150.981387 \nL 939.527227 150.944958 \nL 939.527227 150.726379 \nL 933.879453 150.65352 \nL 936.70334 150.58066 \nL 936.70334 150.434941 \nL 939.527227 150.289222 \nL 939.527227 150.216363 \nL 936.70334 150.143503 \nL 939.527227 150.107073 \nL 939.527227 149.997784 \nL 931.055567 149.852065 \nL 931.055567 149.815636 \nL 925.407794 149.779206 \nL 931.055567 149.706346 \nL 931.055567 149.669917 \nL 939.527227 149.451338 \nL 939.527227 149.342049 \nL 931.055567 149.305619 \nL 939.527227 149.23276 \nL 939.527227 149.087041 \nL 933.879453 149.050611 \nL 936.70334 148.977751 \nL 936.70334 148.941322 \nL 928.23168 148.904892 \nL 931.055567 148.832032 \nL 931.055567 148.613454 \nL 928.23168 148.504165 \nL 939.527227 148.249156 \nL 931.055567 148.212727 \nL 939.527227 148.139867 \nL 939.527227 147.957719 \nL 933.879453 147.921289 \nL 936.70334 147.848429 \nL 936.70334 147.374843 \nL 933.879453 147.338413 \nL 939.527227 147.301983 \nL 939.527227 147.229124 \nL 931.055567 147.119834 \nL 933.879453 147.083405 \nL 939.527227 147.010545 \nL 931.055567 146.974115 \nL 936.70334 146.901256 \nL 936.70334 146.719107 \nL 939.527227 146.682677 \nL 933.879453 146.646248 \nL 936.70334 146.609818 \nL 931.055567 146.573388 \nL 939.527227 146.536958 \nL 939.527227 146.464099 \nL 928.23168 146.28195 \nL 939.527227 146.136231 \nL 928.23168 146.099802 \nL 939.527227 146.026942 \nL 939.527227 145.990512 \nL 931.055567 145.881223 \nL 933.879453 145.844793 \nL 925.407794 145.771934 \nL 936.70334 145.699074 \nL 933.879453 145.662645 \nL 933.879453 145.626215 \nL 939.527227 145.444066 \nL 939.527227 145.261917 \nL 922.583907 145.152628 \nL 936.70334 145.116198 \nL 936.70334 145.079769 \nL 933.879453 145.043339 \nL 939.527227 145.006909 \nL 939.527227 144.82476 \nL 936.70334 144.679041 \nL 936.70334 144.169025 \nL 928.23168 144.023306 \nL 931.055567 143.877587 \nL 931.055567 143.768298 \nL 916.936134 143.731868 \nL 931.055567 143.659009 \nL 931.055567 143.622579 \nL 939.527227 143.404 \nL 939.527227 143.331141 \nL 928.23168 143.258281 \nL 936.70334 143.221852 \nL 939.527227 143.148992 \nL 936.70334 143.112562 \nL 933.879453 143.076133 \nL 936.70334 143.039703 \nL 939.527227 143.003273 \nL 936.70334 142.930414 \nL 936.70334 142.893984 \nL 939.527227 142.784695 \nL 925.407794 142.748265 \nL 936.70334 142.675406 \nL 936.70334 142.347538 \nL 908.464474 142.311108 \nL 939.527227 142.274678 \nL 939.527227 141.946811 \nL 931.055567 141.910381 \nL 936.70334 141.837521 \nL 936.70334 141.618943 \nL 928.23168 141.436794 \nL 928.23168 141.436794 \n\" style=\"fill:none;stroke:#404040;stroke-linecap:square;stroke-width:1.5;\"/>\n   </g>\n   <g id=\"line2d_2\">\n    <defs>\n     <path d=\"M 0 2.5 \nC 0.663008 2.5 1.29895 2.236584 1.767767 1.767767 \nC 2.236584 1.29895 2.5 0.663008 2.5 0 \nC 2.5 -0.663008 2.236584 -1.29895 1.767767 -1.767767 \nC 1.29895 -2.236584 0.663008 -2.5 0 -2.5 \nC -0.663008 -2.5 -1.29895 -2.236584 -1.767767 -1.767767 \nC -2.236584 -1.29895 -2.5 -0.663008 -2.5 0 \nC -2.5 0.663008 -2.236584 1.29895 -1.767767 1.767767 \nC -1.29895 2.236584 -0.663008 2.5 0 2.5 \nz\n\" id=\"m30f27785b2\" style=\"stroke:#404040;\"/>\n    </defs>\n    <g clip-path=\"url(#pb8920da5ed)\">\n     <use style=\"fill:#404040;stroke:#404040;\" x=\"897.168927\" xlink:href=\"#m30f27785b2\" y=\"267.920868\"/>\n    </g>\n   </g>\n   <g id=\"line2d_3\">\n    <g clip-path=\"url(#pb8920da5ed)\">\n     <use style=\"fill:#404040;stroke:#404040;\" x=\"939.527227\" xlink:href=\"#m30f27785b2\" y=\"473.639637\"/>\n    </g>\n   </g>\n   <g id=\"text_1\">\n    <!-- 32 -->\n    <g transform=\"translate(945.175 476.399012)scale(0.1 -0.1)\">\n     <defs>\n      <path d=\"M 40.578125 39.3125 \nQ 47.65625 37.796875 51.625 33 \nQ 55.609375 28.21875 55.609375 21.1875 \nQ 55.609375 10.40625 48.1875 4.484375 \nQ 40.765625 -1.421875 27.09375 -1.421875 \nQ 22.515625 -1.421875 17.65625 -0.515625 \nQ 12.796875 0.390625 7.625 2.203125 \nL 7.625 11.71875 \nQ 11.71875 9.328125 16.59375 8.109375 \nQ 21.484375 6.890625 26.8125 6.890625 \nQ 36.078125 6.890625 40.9375 10.546875 \nQ 45.796875 14.203125 45.796875 21.1875 \nQ 45.796875 27.640625 41.28125 31.265625 \nQ 36.765625 34.90625 28.71875 34.90625 \nL 20.21875 34.90625 \nL 20.21875 43.015625 \nL 29.109375 43.015625 \nQ 36.375 43.015625 40.234375 45.921875 \nQ 44.09375 48.828125 44.09375 54.296875 \nQ 44.09375 59.90625 40.109375 62.90625 \nQ 36.140625 65.921875 28.71875 65.921875 \nQ 24.65625 65.921875 20.015625 65.03125 \nQ 15.375 64.15625 9.8125 62.3125 \nL 9.8125 71.09375 \nQ 15.4375 72.65625 20.34375 73.4375 \nQ 25.25 74.21875 29.59375 74.21875 \nQ 40.828125 74.21875 47.359375 69.109375 \nQ 53.90625 64.015625 53.90625 55.328125 \nQ 53.90625 49.265625 50.4375 45.09375 \nQ 46.96875 40.921875 40.578125 39.3125 \nz\n\" id=\"DejaVuSans-51\"/>\n      <path d=\"M 19.1875 8.296875 \nL 53.609375 8.296875 \nL 53.609375 0 \nL 7.328125 0 \nL 7.328125 8.296875 \nQ 12.9375 14.109375 22.625 23.890625 \nQ 32.328125 33.6875 34.8125 36.53125 \nQ 39.546875 41.84375 41.421875 45.53125 \nQ 43.3125 49.21875 43.3125 52.78125 \nQ 43.3125 58.59375 39.234375 62.25 \nQ 35.15625 65.921875 28.609375 65.921875 \nQ 23.96875 65.921875 18.8125 64.3125 \nQ 13.671875 62.703125 7.8125 59.421875 \nL 7.8125 69.390625 \nQ 13.765625 71.78125 18.9375 73 \nQ 24.125 74.21875 28.421875 74.21875 \nQ 39.75 74.21875 46.484375 68.546875 \nQ 53.21875 62.890625 53.21875 53.421875 \nQ 53.21875 48.921875 51.53125 44.890625 \nQ 49.859375 40.875 45.40625 35.40625 \nQ 44.1875 33.984375 37.640625 27.21875 \nQ 31.109375 20.453125 19.1875 8.296875 \nz\n\" id=\"DejaVuSans-50\"/>\n     </defs>\n     <use xlink:href=\"#DejaVuSans-51\"/>\n     <use x=\"63.623047\" xlink:href=\"#DejaVuSans-50\"/>\n    </g>\n   </g>\n   <g id=\"text_2\">\n    <!-- 17 -->\n    <g transform=\"translate(878.796154 270.680243)scale(0.1 -0.1)\">\n     <defs>\n      <path d=\"M 12.40625 8.296875 \nL 28.515625 8.296875 \nL 28.515625 63.921875 \nL 10.984375 60.40625 \nL 10.984375 69.390625 \nL 28.421875 72.90625 \nL 38.28125 72.90625 \nL 38.28125 8.296875 \nL 54.390625 8.296875 \nL 54.390625 0 \nL 12.40625 0 \nz\n\" id=\"DejaVuSans-49\"/>\n      <path d=\"M 8.203125 72.90625 \nL 55.078125 72.90625 \nL 55.078125 68.703125 \nL 28.609375 0 \nL 18.3125 0 \nL 43.21875 64.59375 \nL 8.203125 64.59375 \nz\n\" id=\"DejaVuSans-55\"/>\n     </defs>\n     <use xlink:href=\"#DejaVuSans-49\"/>\n     <use x=\"63.623047\" xlink:href=\"#DejaVuSans-55\"/>\n    </g>\n   </g>\n  </g>\n  <g id=\"axes_2\">\n   <g id=\"patch_3\">\n    <path d=\"M 52.375 474.076794 \nL 857.182692 474.076794 \nL 857.182692 141.436794 \nL 52.375 141.436794 \nz\n\" style=\"fill:#ffffff;\"/>\n   </g>\n   <g clip-path=\"url(#pb730f2c8a4)\">\n    <image height=\"9132\" id=\"imagefa17bd266d\" style=\"image-rendering:crisp-edges;image-rendering:pixelated\" transform=\"matrix(25.15625 0 0 0.036465 52.375 141.076794)\" width=\"32\" xlink:href=\"data:image/png;base64,\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\"/>\n   </g>\n   <g id=\"matplotlib.axis_3\">\n    <g id=\"xtick_1\">\n     <g id=\"text_3\">\n      <!-- Date -->\n      <g transform=\"translate(71.397608 132.672121)rotate(-45)scale(0.12 -0.12)\">\n       <defs>\n        <path d=\"M 19.671875 64.796875 \nL 19.671875 8.109375 \nL 31.59375 8.109375 \nQ 46.6875 8.109375 53.6875 14.9375 \nQ 60.6875 21.78125 60.6875 36.53125 \nQ 60.6875 51.171875 53.6875 57.984375 \nQ 46.6875 64.796875 31.59375 64.796875 \nz\nM 9.8125 72.90625 \nL 30.078125 72.90625 \nQ 51.265625 72.90625 61.171875 64.09375 \nQ 71.09375 55.28125 71.09375 36.53125 \nQ 71.09375 17.671875 61.125 8.828125 \nQ 51.171875 0 30.078125 0 \nL 9.8125 0 \nz\n\" id=\"DejaVuSans-68\"/>\n        <path d=\"M 34.28125 27.484375 \nQ 23.390625 27.484375 19.1875 25 \nQ 14.984375 22.515625 14.984375 16.5 \nQ 14.984375 11.71875 18.140625 8.90625 \nQ 21.296875 6.109375 26.703125 6.109375 \nQ 34.1875 6.109375 38.703125 11.40625 \nQ 43.21875 16.703125 43.21875 25.484375 \nL 43.21875 27.484375 \nz\nM 52.203125 31.203125 \nL 52.203125 0 \nL 43.21875 0 \nL 43.21875 8.296875 \nQ 40.140625 3.328125 35.546875 0.953125 \nQ 30.953125 -1.421875 24.3125 -1.421875 \nQ 15.921875 -1.421875 10.953125 3.296875 \nQ 6 8.015625 6 15.921875 \nQ 6 25.140625 12.171875 29.828125 \nQ 18.359375 34.515625 30.609375 34.515625 \nL 43.21875 34.515625 \nL 43.21875 35.40625 \nQ 43.21875 41.609375 39.140625 45 \nQ 35.0625 48.390625 27.6875 48.390625 \nQ 23 48.390625 18.546875 47.265625 \nQ 14.109375 46.140625 10.015625 43.890625 \nL 10.015625 52.203125 \nQ 14.9375 54.109375 19.578125 55.046875 \nQ 24.21875 56 28.609375 56 \nQ 40.484375 56 46.34375 49.84375 \nQ 52.203125 43.703125 52.203125 31.203125 \nz\n\" id=\"DejaVuSans-97\"/>\n        <path d=\"M 18.3125 70.21875 \nL 18.3125 54.6875 \nL 36.8125 54.6875 \nL 36.8125 47.703125 \nL 18.3125 47.703125 \nL 18.3125 18.015625 \nQ 18.3125 11.328125 20.140625 9.421875 \nQ 21.96875 7.515625 27.59375 7.515625 \nL 36.8125 7.515625 \nL 36.8125 0 \nL 27.59375 0 \nQ 17.1875 0 13.234375 3.875 \nQ 9.28125 7.765625 9.28125 18.015625 \nL 9.28125 47.703125 \nL 2.6875 47.703125 \nL 2.6875 54.6875 \nL 9.28125 54.6875 \nL 9.28125 70.21875 \nz\n\" id=\"DejaVuSans-116\"/>\n        <path d=\"M 56.203125 29.59375 \nL 56.203125 25.203125 \nL 14.890625 25.203125 \nQ 15.484375 15.921875 20.484375 11.0625 \nQ 25.484375 6.203125 34.421875 6.203125 \nQ 39.59375 6.203125 44.453125 7.46875 \nQ 49.3125 8.734375 54.109375 11.28125 \nL 54.109375 2.78125 \nQ 49.265625 0.734375 44.1875 -0.34375 \nQ 39.109375 -1.421875 33.890625 -1.421875 \nQ 20.796875 -1.421875 13.15625 6.1875 \nQ 5.515625 13.8125 5.515625 26.8125 \nQ 5.515625 40.234375 12.765625 48.109375 \nQ 20.015625 56 32.328125 56 \nQ 43.359375 56 49.78125 48.890625 \nQ 56.203125 41.796875 56.203125 29.59375 \nz\nM 47.21875 32.234375 \nQ 47.125 39.59375 43.09375 43.984375 \nQ 39.0625 48.390625 32.421875 48.390625 \nQ 24.90625 48.390625 20.390625 44.140625 \nQ 15.875 39.890625 15.1875 32.171875 \nz\n\" id=\"DejaVuSans-101\"/>\n       </defs>\n       <use xlink:href=\"#DejaVuSans-68\"/>\n       <use x=\"77.001953\" xlink:href=\"#DejaVuSans-97\"/>\n       <use x=\"138.28125\" xlink:href=\"#DejaVuSans-116\"/>\n       <use x=\"177.490234\" xlink:href=\"#DejaVuSans-101\"/>\n      </g>\n     </g>\n    </g>\n    <g id=\"xtick_2\">\n     <g id=\"text_4\">\n      <!-- Ticker -->\n      <g transform=\"translate(96.547849 132.672121)rotate(-45)scale(0.12 -0.12)\">\n       <defs>\n        <path d=\"M -0.296875 72.90625 \nL 61.375 72.90625 \nL 61.375 64.59375 \nL 35.5 64.59375 \nL 35.5 0 \nL 25.59375 0 \nL 25.59375 64.59375 \nL -0.296875 64.59375 \nz\n\" id=\"DejaVuSans-84\"/>\n        <path d=\"M 9.421875 54.6875 \nL 18.40625 54.6875 \nL 18.40625 0 \nL 9.421875 0 \nz\nM 9.421875 75.984375 \nL 18.40625 75.984375 \nL 18.40625 64.59375 \nL 9.421875 64.59375 \nz\n\" id=\"DejaVuSans-105\"/>\n        <path d=\"M 48.78125 52.59375 \nL 48.78125 44.1875 \nQ 44.96875 46.296875 41.140625 47.34375 \nQ 37.3125 48.390625 33.40625 48.390625 \nQ 24.65625 48.390625 19.8125 42.84375 \nQ 14.984375 37.3125 14.984375 27.296875 \nQ 14.984375 17.28125 19.8125 11.734375 \nQ 24.65625 6.203125 33.40625 6.203125 \nQ 37.3125 6.203125 41.140625 7.25 \nQ 44.96875 8.296875 48.78125 10.40625 \nL 48.78125 2.09375 \nQ 45.015625 0.34375 40.984375 -0.53125 \nQ 36.96875 -1.421875 32.421875 -1.421875 \nQ 20.0625 -1.421875 12.78125 6.34375 \nQ 5.515625 14.109375 5.515625 27.296875 \nQ 5.515625 40.671875 12.859375 48.328125 \nQ 20.21875 56 33.015625 56 \nQ 37.15625 56 41.109375 55.140625 \nQ 45.0625 54.296875 48.78125 52.59375 \nz\n\" id=\"DejaVuSans-99\"/>\n        <path d=\"M 9.078125 75.984375 \nL 18.109375 75.984375 \nL 18.109375 31.109375 \nL 44.921875 54.6875 \nL 56.390625 54.6875 \nL 27.390625 29.109375 \nL 57.625 0 \nL 45.90625 0 \nL 18.109375 26.703125 \nL 18.109375 0 \nL 9.078125 0 \nz\n\" id=\"DejaVuSans-107\"/>\n        <path d=\"M 41.109375 46.296875 \nQ 39.59375 47.171875 37.8125 47.578125 \nQ 36.03125 48 33.890625 48 \nQ 26.265625 48 22.1875 43.046875 \nQ 18.109375 38.09375 18.109375 28.8125 \nL 18.109375 0 \nL 9.078125 0 \nL 9.078125 54.6875 \nL 18.109375 54.6875 \nL 18.109375 46.1875 \nQ 20.953125 51.171875 25.484375 53.578125 \nQ 30.03125 56 36.53125 56 \nQ 37.453125 56 38.578125 55.875 \nQ 39.703125 55.765625 41.0625 55.515625 \nz\n\" id=\"DejaVuSans-114\"/>\n       </defs>\n       <use xlink:href=\"#DejaVuSans-84\"/>\n       <use x=\"57.958984\" xlink:href=\"#DejaVuSans-105\"/>\n       <use x=\"85.742188\" xlink:href=\"#DejaVuSans-99\"/>\n       <use x=\"140.722656\" xlink:href=\"#DejaVuSans-107\"/>\n       <use x=\"195.007812\" xlink:href=\"#DejaVuSans-101\"/>\n       <use x=\"256.53125\" xlink:href=\"#DejaVuSans-114\"/>\n      </g>\n     </g>\n    </g>\n    <g id=\"xtick_3\">\n     <g id=\"text_5\">\n      <!-- Price -->\n      <g transform=\"translate(121.698089 132.672121)rotate(-45)scale(0.12 -0.12)\">\n       <defs>\n        <path d=\"M 19.671875 64.796875 \nL 19.671875 37.40625 \nL 32.078125 37.40625 \nQ 38.96875 37.40625 42.71875 40.96875 \nQ 46.484375 44.53125 46.484375 51.125 \nQ 46.484375 57.671875 42.71875 61.234375 \nQ 38.96875 64.796875 32.078125 64.796875 \nz\nM 9.8125 72.90625 \nL 32.078125 72.90625 \nQ 44.34375 72.90625 50.609375 67.359375 \nQ 56.890625 61.8125 56.890625 51.125 \nQ 56.890625 40.328125 50.609375 34.8125 \nQ 44.34375 29.296875 32.078125 29.296875 \nL 19.671875 29.296875 \nL 19.671875 0 \nL 9.8125 0 \nz\n\" id=\"DejaVuSans-80\"/>\n       </defs>\n       <use xlink:href=\"#DejaVuSans-80\"/>\n       <use x=\"58.552734\" xlink:href=\"#DejaVuSans-114\"/>\n       <use x=\"99.666016\" xlink:href=\"#DejaVuSans-105\"/>\n       <use x=\"127.449219\" xlink:href=\"#DejaVuSans-99\"/>\n       <use x=\"182.429688\" xlink:href=\"#DejaVuSans-101\"/>\n      </g>\n     </g>\n    </g>\n    <g id=\"xtick_4\">\n     <g id=\"text_6\">\n      <!-- DE Ratio -->\n      <g transform=\"translate(146.848329 132.672121)rotate(-45)scale(0.12 -0.12)\">\n       <defs>\n        <path d=\"M 9.8125 72.90625 \nL 55.90625 72.90625 \nL 55.90625 64.59375 \nL 19.671875 64.59375 \nL 19.671875 43.015625 \nL 54.390625 43.015625 \nL 54.390625 34.71875 \nL 19.671875 34.71875 \nL 19.671875 8.296875 \nL 56.78125 8.296875 \nL 56.78125 0 \nL 9.8125 0 \nz\n\" id=\"DejaVuSans-69\"/>\n        <path id=\"DejaVuSans-32\"/>\n        <path d=\"M 44.390625 34.1875 \nQ 47.5625 33.109375 50.5625 29.59375 \nQ 53.5625 26.078125 56.59375 19.921875 \nL 66.609375 0 \nL 56 0 \nL 46.6875 18.703125 \nQ 43.0625 26.03125 39.671875 28.421875 \nQ 36.28125 30.8125 30.421875 30.8125 \nL 19.671875 30.8125 \nL 19.671875 0 \nL 9.8125 0 \nL 9.8125 72.90625 \nL 32.078125 72.90625 \nQ 44.578125 72.90625 50.734375 67.671875 \nQ 56.890625 62.453125 56.890625 51.90625 \nQ 56.890625 45.015625 53.6875 40.46875 \nQ 50.484375 35.9375 44.390625 34.1875 \nz\nM 19.671875 64.796875 \nL 19.671875 38.921875 \nL 32.078125 38.921875 \nQ 39.203125 38.921875 42.84375 42.21875 \nQ 46.484375 45.515625 46.484375 51.90625 \nQ 46.484375 58.296875 42.84375 61.546875 \nQ 39.203125 64.796875 32.078125 64.796875 \nz\n\" id=\"DejaVuSans-82\"/>\n        <path d=\"M 30.609375 48.390625 \nQ 23.390625 48.390625 19.1875 42.75 \nQ 14.984375 37.109375 14.984375 27.296875 \nQ 14.984375 17.484375 19.15625 11.84375 \nQ 23.34375 6.203125 30.609375 6.203125 \nQ 37.796875 6.203125 41.984375 11.859375 \nQ 46.1875 17.53125 46.1875 27.296875 \nQ 46.1875 37.015625 41.984375 42.703125 \nQ 37.796875 48.390625 30.609375 48.390625 \nz\nM 30.609375 56 \nQ 42.328125 56 49.015625 48.375 \nQ 55.71875 40.765625 55.71875 27.296875 \nQ 55.71875 13.875 49.015625 6.21875 \nQ 42.328125 -1.421875 30.609375 -1.421875 \nQ 18.84375 -1.421875 12.171875 6.21875 \nQ 5.515625 13.875 5.515625 27.296875 \nQ 5.515625 40.765625 12.171875 48.375 \nQ 18.84375 56 30.609375 56 \nz\n\" id=\"DejaVuSans-111\"/>\n       </defs>\n       <use xlink:href=\"#DejaVuSans-68\"/>\n       <use x=\"77.001953\" xlink:href=\"#DejaVuSans-69\"/>\n       <use x=\"140.185547\" xlink:href=\"#DejaVuSans-32\"/>\n       <use x=\"171.972656\" xlink:href=\"#DejaVuSans-82\"/>\n       <use x=\"239.205078\" xlink:href=\"#DejaVuSans-97\"/>\n       <use x=\"300.484375\" xlink:href=\"#DejaVuSans-116\"/>\n       <use x=\"339.693359\" xlink:href=\"#DejaVuSans-105\"/>\n       <use x=\"367.476562\" xlink:href=\"#DejaVuSans-111\"/>\n      </g>\n     </g>\n    </g>\n    <g id=\"xtick_5\">\n     <g id=\"text_7\">\n      <!-- Trailing P/E -->\n      <g transform=\"translate(171.99857 132.672121)rotate(-45)scale(0.12 -0.12)\">\n       <defs>\n        <path d=\"M 9.421875 75.984375 \nL 18.40625 75.984375 \nL 18.40625 0 \nL 9.421875 0 \nz\n\" id=\"DejaVuSans-108\"/>\n        <path d=\"M 54.890625 33.015625 \nL 54.890625 0 \nL 45.90625 0 \nL 45.90625 32.71875 \nQ 45.90625 40.484375 42.875 44.328125 \nQ 39.84375 48.1875 33.796875 48.1875 \nQ 26.515625 48.1875 22.3125 43.546875 \nQ 18.109375 38.921875 18.109375 30.90625 \nL 18.109375 0 \nL 9.078125 0 \nL 9.078125 54.6875 \nL 18.109375 54.6875 \nL 18.109375 46.1875 \nQ 21.34375 51.125 25.703125 53.5625 \nQ 30.078125 56 35.796875 56 \nQ 45.21875 56 50.046875 50.171875 \nQ 54.890625 44.34375 54.890625 33.015625 \nz\n\" id=\"DejaVuSans-110\"/>\n        <path d=\"M 45.40625 27.984375 \nQ 45.40625 37.75 41.375 43.109375 \nQ 37.359375 48.484375 30.078125 48.484375 \nQ 22.859375 48.484375 18.828125 43.109375 \nQ 14.796875 37.75 14.796875 27.984375 \nQ 14.796875 18.265625 18.828125 12.890625 \nQ 22.859375 7.515625 30.078125 7.515625 \nQ 37.359375 7.515625 41.375 12.890625 \nQ 45.40625 18.265625 45.40625 27.984375 \nz\nM 54.390625 6.78125 \nQ 54.390625 -7.171875 48.1875 -13.984375 \nQ 42 -20.796875 29.203125 -20.796875 \nQ 24.46875 -20.796875 20.265625 -20.09375 \nQ 16.0625 -19.390625 12.109375 -17.921875 \nL 12.109375 -9.1875 \nQ 16.0625 -11.328125 19.921875 -12.34375 \nQ 23.78125 -13.375 27.78125 -13.375 \nQ 36.625 -13.375 41.015625 -8.765625 \nQ 45.40625 -4.15625 45.40625 5.171875 \nL 45.40625 9.625 \nQ 42.625 4.78125 38.28125 2.390625 \nQ 33.9375 0 27.875 0 \nQ 17.828125 0 11.671875 7.65625 \nQ 5.515625 15.328125 5.515625 27.984375 \nQ 5.515625 40.671875 11.671875 48.328125 \nQ 17.828125 56 27.875 56 \nQ 33.9375 56 38.28125 53.609375 \nQ 42.625 51.21875 45.40625 46.390625 \nL 45.40625 54.6875 \nL 54.390625 54.6875 \nz\n\" id=\"DejaVuSans-103\"/>\n        <path d=\"M 25.390625 72.90625 \nL 33.6875 72.90625 \nL 8.296875 -9.28125 \nL 0 -9.28125 \nz\n\" id=\"DejaVuSans-47\"/>\n       </defs>\n       <use xlink:href=\"#DejaVuSans-84\"/>\n       <use x=\"46.333984\" xlink:href=\"#DejaVuSans-114\"/>\n       <use x=\"87.447266\" xlink:href=\"#DejaVuSans-97\"/>\n       <use x=\"148.726562\" xlink:href=\"#DejaVuSans-105\"/>\n       <use x=\"176.509766\" xlink:href=\"#DejaVuSans-108\"/>\n       <use x=\"204.292969\" xlink:href=\"#DejaVuSans-105\"/>\n       <use x=\"232.076172\" xlink:href=\"#DejaVuSans-110\"/>\n       <use x=\"295.455078\" xlink:href=\"#DejaVuSans-103\"/>\n       <use x=\"358.931641\" xlink:href=\"#DejaVuSans-32\"/>\n       <use x=\"390.71875\" xlink:href=\"#DejaVuSans-80\"/>\n       <use x=\"451.021484\" xlink:href=\"#DejaVuSans-47\"/>\n       <use x=\"484.712891\" xlink:href=\"#DejaVuSans-69\"/>\n      </g>\n     </g>\n    </g>\n    <g id=\"xtick_6\">\n     <g id=\"text_8\">\n      <!-- Price/Sales -->\n      <g transform=\"translate(197.14881 132.672121)rotate(-45)scale(0.12 -0.12)\">\n       <defs>\n        <path d=\"M 53.515625 70.515625 \nL 53.515625 60.890625 \nQ 47.90625 63.578125 42.921875 64.890625 \nQ 37.9375 66.21875 33.296875 66.21875 \nQ 25.25 66.21875 20.875 63.09375 \nQ 16.5 59.96875 16.5 54.203125 \nQ 16.5 49.359375 19.40625 46.890625 \nQ 22.3125 44.4375 30.421875 42.921875 \nL 36.375 41.703125 \nQ 47.40625 39.59375 52.65625 34.296875 \nQ 57.90625 29 57.90625 20.125 \nQ 57.90625 9.515625 50.796875 4.046875 \nQ 43.703125 -1.421875 29.984375 -1.421875 \nQ 24.8125 -1.421875 18.96875 -0.25 \nQ 13.140625 0.921875 6.890625 3.21875 \nL 6.890625 13.375 \nQ 12.890625 10.015625 18.65625 8.296875 \nQ 24.421875 6.59375 29.984375 6.59375 \nQ 38.421875 6.59375 43.015625 9.90625 \nQ 47.609375 13.234375 47.609375 19.390625 \nQ 47.609375 24.75 44.3125 27.78125 \nQ 41.015625 30.8125 33.5 32.328125 \nL 27.484375 33.5 \nQ 16.453125 35.6875 11.515625 40.375 \nQ 6.59375 45.0625 6.59375 53.421875 \nQ 6.59375 63.09375 13.40625 68.65625 \nQ 20.21875 74.21875 32.171875 74.21875 \nQ 37.3125 74.21875 42.625 73.28125 \nQ 47.953125 72.359375 53.515625 70.515625 \nz\n\" id=\"DejaVuSans-83\"/>\n        <path d=\"M 44.28125 53.078125 \nL 44.28125 44.578125 \nQ 40.484375 46.53125 36.375 47.5 \nQ 32.28125 48.484375 27.875 48.484375 \nQ 21.1875 48.484375 17.84375 46.4375 \nQ 14.5 44.390625 14.5 40.28125 \nQ 14.5 37.15625 16.890625 35.375 \nQ 19.28125 33.59375 26.515625 31.984375 \nL 29.59375 31.296875 \nQ 39.15625 29.25 43.1875 25.515625 \nQ 47.21875 21.78125 47.21875 15.09375 \nQ 47.21875 7.46875 41.1875 3.015625 \nQ 35.15625 -1.421875 24.609375 -1.421875 \nQ 20.21875 -1.421875 15.453125 -0.5625 \nQ 10.6875 0.296875 5.421875 2 \nL 5.421875 11.28125 \nQ 10.40625 8.6875 15.234375 7.390625 \nQ 20.0625 6.109375 24.8125 6.109375 \nQ 31.15625 6.109375 34.5625 8.28125 \nQ 37.984375 10.453125 37.984375 14.40625 \nQ 37.984375 18.0625 35.515625 20.015625 \nQ 33.0625 21.96875 24.703125 23.78125 \nL 21.578125 24.515625 \nQ 13.234375 26.265625 9.515625 29.90625 \nQ 5.8125 33.546875 5.8125 39.890625 \nQ 5.8125 47.609375 11.28125 51.796875 \nQ 16.75 56 26.8125 56 \nQ 31.78125 56 36.171875 55.265625 \nQ 40.578125 54.546875 44.28125 53.078125 \nz\n\" id=\"DejaVuSans-115\"/>\n       </defs>\n       <use xlink:href=\"#DejaVuSans-80\"/>\n       <use x=\"58.552734\" xlink:href=\"#DejaVuSans-114\"/>\n       <use x=\"99.666016\" xlink:href=\"#DejaVuSans-105\"/>\n       <use x=\"127.449219\" xlink:href=\"#DejaVuSans-99\"/>\n       <use x=\"182.429688\" xlink:href=\"#DejaVuSans-101\"/>\n       <use x=\"243.953125\" xlink:href=\"#DejaVuSans-47\"/>\n       <use x=\"277.644531\" xlink:href=\"#DejaVuSans-83\"/>\n       <use x=\"341.121094\" xlink:href=\"#DejaVuSans-97\"/>\n       <use x=\"402.400391\" xlink:href=\"#DejaVuSans-108\"/>\n       <use x=\"430.183594\" xlink:href=\"#DejaVuSans-101\"/>\n       <use x=\"491.707031\" xlink:href=\"#DejaVuSans-115\"/>\n      </g>\n     </g>\n    </g>\n    <g id=\"xtick_7\">\n     <g id=\"text_9\">\n      <!-- Price/Book -->\n      <g transform=\"translate(222.299051 132.672121)rotate(-45)scale(0.12 -0.12)\">\n       <defs>\n        <path d=\"M 19.671875 34.8125 \nL 19.671875 8.109375 \nL 35.5 8.109375 \nQ 43.453125 8.109375 47.28125 11.40625 \nQ 51.125 14.703125 51.125 21.484375 \nQ 51.125 28.328125 47.28125 31.5625 \nQ 43.453125 34.8125 35.5 34.8125 \nz\nM 19.671875 64.796875 \nL 19.671875 42.828125 \nL 34.28125 42.828125 \nQ 41.5 42.828125 45.03125 45.53125 \nQ 48.578125 48.25 48.578125 53.8125 \nQ 48.578125 59.328125 45.03125 62.0625 \nQ 41.5 64.796875 34.28125 64.796875 \nz\nM 9.8125 72.90625 \nL 35.015625 72.90625 \nQ 46.296875 72.90625 52.390625 68.21875 \nQ 58.5 63.53125 58.5 54.890625 \nQ 58.5 48.1875 55.375 44.234375 \nQ 52.25 40.28125 46.1875 39.3125 \nQ 53.46875 37.75 57.5 32.78125 \nQ 61.53125 27.828125 61.53125 20.40625 \nQ 61.53125 10.640625 54.890625 5.3125 \nQ 48.25 0 35.984375 0 \nL 9.8125 0 \nz\n\" id=\"DejaVuSans-66\"/>\n       </defs>\n       <use xlink:href=\"#DejaVuSans-80\"/>\n       <use x=\"58.552734\" xlink:href=\"#DejaVuSans-114\"/>\n       <use x=\"99.666016\" xlink:href=\"#DejaVuSans-105\"/>\n       <use x=\"127.449219\" xlink:href=\"#DejaVuSans-99\"/>\n       <use x=\"182.429688\" xlink:href=\"#DejaVuSans-101\"/>\n       <use x=\"243.953125\" xlink:href=\"#DejaVuSans-47\"/>\n       <use x=\"277.644531\" xlink:href=\"#DejaVuSans-66\"/>\n       <use x=\"346.248047\" xlink:href=\"#DejaVuSans-111\"/>\n       <use x=\"407.429688\" xlink:href=\"#DejaVuSans-111\"/>\n       <use x=\"468.611328\" xlink:href=\"#DejaVuSans-107\"/>\n      </g>\n     </g>\n    </g>\n    <g id=\"xtick_8\">\n     <g id=\"text_10\">\n      <!-- Profit Margin -->\n      <g transform=\"translate(247.449291 132.672121)rotate(-45)scale(0.12 -0.12)\">\n       <defs>\n        <path d=\"M 37.109375 75.984375 \nL 37.109375 68.5 \nL 28.515625 68.5 \nQ 23.6875 68.5 21.796875 66.546875 \nQ 19.921875 64.59375 19.921875 59.515625 \nL 19.921875 54.6875 \nL 34.71875 54.6875 \nL 34.71875 47.703125 \nL 19.921875 47.703125 \nL 19.921875 0 \nL 10.890625 0 \nL 10.890625 47.703125 \nL 2.296875 47.703125 \nL 2.296875 54.6875 \nL 10.890625 54.6875 \nL 10.890625 58.5 \nQ 10.890625 67.625 15.140625 71.796875 \nQ 19.390625 75.984375 28.609375 75.984375 \nz\n\" id=\"DejaVuSans-102\"/>\n        <path d=\"M 9.8125 72.90625 \nL 24.515625 72.90625 \nL 43.109375 23.296875 \nL 61.8125 72.90625 \nL 76.515625 72.90625 \nL 76.515625 0 \nL 66.890625 0 \nL 66.890625 64.015625 \nL 48.09375 14.015625 \nL 38.1875 14.015625 \nL 19.390625 64.015625 \nL 19.390625 0 \nL 9.8125 0 \nz\n\" id=\"DejaVuSans-77\"/>\n       </defs>\n       <use xlink:href=\"#DejaVuSans-80\"/>\n       <use x=\"58.552734\" xlink:href=\"#DejaVuSans-114\"/>\n       <use x=\"97.416016\" xlink:href=\"#DejaVuSans-111\"/>\n       <use x=\"158.597656\" xlink:href=\"#DejaVuSans-102\"/>\n       <use x=\"193.802734\" xlink:href=\"#DejaVuSans-105\"/>\n       <use x=\"221.585938\" xlink:href=\"#DejaVuSans-116\"/>\n       <use x=\"260.794922\" xlink:href=\"#DejaVuSans-32\"/>\n       <use x=\"292.582031\" xlink:href=\"#DejaVuSans-77\"/>\n       <use x=\"378.861328\" xlink:href=\"#DejaVuSans-97\"/>\n       <use x=\"440.140625\" xlink:href=\"#DejaVuSans-114\"/>\n       <use x=\"479.503906\" xlink:href=\"#DejaVuSans-103\"/>\n       <use x=\"542.980469\" xlink:href=\"#DejaVuSans-105\"/>\n       <use x=\"570.763672\" xlink:href=\"#DejaVuSans-110\"/>\n      </g>\n     </g>\n    </g>\n    <g id=\"xtick_9\">\n     <g id=\"text_11\">\n      <!-- Operating Margin -->\n      <g transform=\"translate(272.599531 132.672121)rotate(-45)scale(0.12 -0.12)\">\n       <defs>\n        <path d=\"M 39.40625 66.21875 \nQ 28.65625 66.21875 22.328125 58.203125 \nQ 16.015625 50.203125 16.015625 36.375 \nQ 16.015625 22.609375 22.328125 14.59375 \nQ 28.65625 6.59375 39.40625 6.59375 \nQ 50.140625 6.59375 56.421875 14.59375 \nQ 62.703125 22.609375 62.703125 36.375 \nQ 62.703125 50.203125 56.421875 58.203125 \nQ 50.140625 66.21875 39.40625 66.21875 \nz\nM 39.40625 74.21875 \nQ 54.734375 74.21875 63.90625 63.9375 \nQ 73.09375 53.65625 73.09375 36.375 \nQ 73.09375 19.140625 63.90625 8.859375 \nQ 54.734375 -1.421875 39.40625 -1.421875 \nQ 24.03125 -1.421875 14.8125 8.828125 \nQ 5.609375 19.09375 5.609375 36.375 \nQ 5.609375 53.65625 14.8125 63.9375 \nQ 24.03125 74.21875 39.40625 74.21875 \nz\n\" id=\"DejaVuSans-79\"/>\n        <path d=\"M 18.109375 8.203125 \nL 18.109375 -20.796875 \nL 9.078125 -20.796875 \nL 9.078125 54.6875 \nL 18.109375 54.6875 \nL 18.109375 46.390625 \nQ 20.953125 51.265625 25.265625 53.625 \nQ 29.59375 56 35.59375 56 \nQ 45.5625 56 51.78125 48.09375 \nQ 58.015625 40.1875 58.015625 27.296875 \nQ 58.015625 14.40625 51.78125 6.484375 \nQ 45.5625 -1.421875 35.59375 -1.421875 \nQ 29.59375 -1.421875 25.265625 0.953125 \nQ 20.953125 3.328125 18.109375 8.203125 \nz\nM 48.6875 27.296875 \nQ 48.6875 37.203125 44.609375 42.84375 \nQ 40.53125 48.484375 33.40625 48.484375 \nQ 26.265625 48.484375 22.1875 42.84375 \nQ 18.109375 37.203125 18.109375 27.296875 \nQ 18.109375 17.390625 22.1875 11.75 \nQ 26.265625 6.109375 33.40625 6.109375 \nQ 40.53125 6.109375 44.609375 11.75 \nQ 48.6875 17.390625 48.6875 27.296875 \nz\n\" id=\"DejaVuSans-112\"/>\n       </defs>\n       <use xlink:href=\"#DejaVuSans-79\"/>\n       <use x=\"78.710938\" xlink:href=\"#DejaVuSans-112\"/>\n       <use x=\"142.1875\" xlink:href=\"#DejaVuSans-101\"/>\n       <use x=\"203.710938\" xlink:href=\"#DejaVuSans-114\"/>\n       <use x=\"244.824219\" xlink:href=\"#DejaVuSans-97\"/>\n       <use x=\"306.103516\" xlink:href=\"#DejaVuSans-116\"/>\n       <use x=\"345.3125\" xlink:href=\"#DejaVuSans-105\"/>\n       <use x=\"373.095703\" xlink:href=\"#DejaVuSans-110\"/>\n       <use x=\"436.474609\" xlink:href=\"#DejaVuSans-103\"/>\n       <use x=\"499.951172\" xlink:href=\"#DejaVuSans-32\"/>\n       <use x=\"531.738281\" xlink:href=\"#DejaVuSans-77\"/>\n       <use x=\"618.017578\" xlink:href=\"#DejaVuSans-97\"/>\n       <use x=\"679.296875\" xlink:href=\"#DejaVuSans-114\"/>\n       <use x=\"718.660156\" xlink:href=\"#DejaVuSans-103\"/>\n       <use x=\"782.136719\" xlink:href=\"#DejaVuSans-105\"/>\n       <use x=\"809.919922\" xlink:href=\"#DejaVuSans-110\"/>\n      </g>\n     </g>\n    </g>\n    <g id=\"xtick_10\">\n     <g id=\"text_12\">\n      <!-- Return on Assets -->\n      <g transform=\"translate(297.749772 132.672121)rotate(-45)scale(0.12 -0.12)\">\n       <defs>\n        <path d=\"M 8.5 21.578125 \nL 8.5 54.6875 \nL 17.484375 54.6875 \nL 17.484375 21.921875 \nQ 17.484375 14.15625 20.5 10.265625 \nQ 23.53125 6.390625 29.59375 6.390625 \nQ 36.859375 6.390625 41.078125 11.03125 \nQ 45.3125 15.671875 45.3125 23.6875 \nL 45.3125 54.6875 \nL 54.296875 54.6875 \nL 54.296875 0 \nL 45.3125 0 \nL 45.3125 8.40625 \nQ 42.046875 3.421875 37.71875 1 \nQ 33.40625 -1.421875 27.6875 -1.421875 \nQ 18.265625 -1.421875 13.375 4.4375 \nQ 8.5 10.296875 8.5 21.578125 \nz\nM 31.109375 56 \nz\n\" id=\"DejaVuSans-117\"/>\n        <path d=\"M 34.1875 63.1875 \nL 20.796875 26.90625 \nL 47.609375 26.90625 \nz\nM 28.609375 72.90625 \nL 39.796875 72.90625 \nL 67.578125 0 \nL 57.328125 0 \nL 50.6875 18.703125 \nL 17.828125 18.703125 \nL 11.1875 0 \nL 0.78125 0 \nz\n\" id=\"DejaVuSans-65\"/>\n       </defs>\n       <use xlink:href=\"#DejaVuSans-82\"/>\n       <use x=\"64.982422\" xlink:href=\"#DejaVuSans-101\"/>\n       <use x=\"126.505859\" xlink:href=\"#DejaVuSans-116\"/>\n       <use x=\"165.714844\" xlink:href=\"#DejaVuSans-117\"/>\n       <use x=\"229.09375\" xlink:href=\"#DejaVuSans-114\"/>\n       <use x=\"268.457031\" xlink:href=\"#DejaVuSans-110\"/>\n       <use x=\"331.835938\" xlink:href=\"#DejaVuSans-32\"/>\n       <use x=\"363.623047\" xlink:href=\"#DejaVuSans-111\"/>\n       <use x=\"424.804688\" xlink:href=\"#DejaVuSans-110\"/>\n       <use x=\"488.183594\" xlink:href=\"#DejaVuSans-32\"/>\n       <use x=\"519.970703\" xlink:href=\"#DejaVuSans-65\"/>\n       <use x=\"588.378906\" xlink:href=\"#DejaVuSans-115\"/>\n       <use x=\"640.478516\" xlink:href=\"#DejaVuSans-115\"/>\n       <use x=\"692.578125\" xlink:href=\"#DejaVuSans-101\"/>\n       <use x=\"754.101562\" xlink:href=\"#DejaVuSans-116\"/>\n       <use x=\"793.310547\" xlink:href=\"#DejaVuSans-115\"/>\n      </g>\n     </g>\n    </g>\n    <g id=\"xtick_11\">\n     <g id=\"text_13\">\n      <!-- Return on Equity -->\n      <g transform=\"translate(322.900012 132.672121)rotate(-45)scale(0.12 -0.12)\">\n       <defs>\n        <path d=\"M 14.796875 27.296875 \nQ 14.796875 17.390625 18.875 11.75 \nQ 22.953125 6.109375 30.078125 6.109375 \nQ 37.203125 6.109375 41.296875 11.75 \nQ 45.40625 17.390625 45.40625 27.296875 \nQ 45.40625 37.203125 41.296875 42.84375 \nQ 37.203125 48.484375 30.078125 48.484375 \nQ 22.953125 48.484375 18.875 42.84375 \nQ 14.796875 37.203125 14.796875 27.296875 \nz\nM 45.40625 8.203125 \nQ 42.578125 3.328125 38.25 0.953125 \nQ 33.9375 -1.421875 27.875 -1.421875 \nQ 17.96875 -1.421875 11.734375 6.484375 \nQ 5.515625 14.40625 5.515625 27.296875 \nQ 5.515625 40.1875 11.734375 48.09375 \nQ 17.96875 56 27.875 56 \nQ 33.9375 56 38.25 53.625 \nQ 42.578125 51.265625 45.40625 46.390625 \nL 45.40625 54.6875 \nL 54.390625 54.6875 \nL 54.390625 -20.796875 \nL 45.40625 -20.796875 \nz\n\" id=\"DejaVuSans-113\"/>\n        <path d=\"M 32.171875 -5.078125 \nQ 28.375 -14.84375 24.75 -17.8125 \nQ 21.140625 -20.796875 15.09375 -20.796875 \nL 7.90625 -20.796875 \nL 7.90625 -13.28125 \nL 13.1875 -13.28125 \nQ 16.890625 -13.28125 18.9375 -11.515625 \nQ 21 -9.765625 23.484375 -3.21875 \nL 25.09375 0.875 \nL 2.984375 54.6875 \nL 12.5 54.6875 \nL 29.59375 11.921875 \nL 46.6875 54.6875 \nL 56.203125 54.6875 \nz\n\" id=\"DejaVuSans-121\"/>\n       </defs>\n       <use xlink:href=\"#DejaVuSans-82\"/>\n       <use x=\"64.982422\" xlink:href=\"#DejaVuSans-101\"/>\n       <use x=\"126.505859\" xlink:href=\"#DejaVuSans-116\"/>\n       <use x=\"165.714844\" xlink:href=\"#DejaVuSans-117\"/>\n       <use x=\"229.09375\" xlink:href=\"#DejaVuSans-114\"/>\n       <use x=\"268.457031\" xlink:href=\"#DejaVuSans-110\"/>\n       <use x=\"331.835938\" xlink:href=\"#DejaVuSans-32\"/>\n       <use x=\"363.623047\" xlink:href=\"#DejaVuSans-111\"/>\n       <use x=\"424.804688\" xlink:href=\"#DejaVuSans-110\"/>\n       <use x=\"488.183594\" xlink:href=\"#DejaVuSans-32\"/>\n       <use x=\"519.970703\" xlink:href=\"#DejaVuSans-69\"/>\n       <use x=\"583.154297\" xlink:href=\"#DejaVuSans-113\"/>\n       <use x=\"646.630859\" xlink:href=\"#DejaVuSans-117\"/>\n       <use x=\"710.009766\" xlink:href=\"#DejaVuSans-105\"/>\n       <use x=\"737.792969\" xlink:href=\"#DejaVuSans-116\"/>\n       <use x=\"777.001953\" xlink:href=\"#DejaVuSans-121\"/>\n      </g>\n     </g>\n    </g>\n    <g id=\"xtick_12\">\n     <g id=\"text_14\">\n      <!-- Revenue Per Share -->\n      <g transform=\"translate(348.050252 132.672121)rotate(-45)scale(0.12 -0.12)\">\n       <defs>\n        <path d=\"M 2.984375 54.6875 \nL 12.5 54.6875 \nL 29.59375 8.796875 \nL 46.6875 54.6875 \nL 56.203125 54.6875 \nL 35.6875 0 \nL 23.484375 0 \nz\n\" id=\"DejaVuSans-118\"/>\n        <path d=\"M 54.890625 33.015625 \nL 54.890625 0 \nL 45.90625 0 \nL 45.90625 32.71875 \nQ 45.90625 40.484375 42.875 44.328125 \nQ 39.84375 48.1875 33.796875 48.1875 \nQ 26.515625 48.1875 22.3125 43.546875 \nQ 18.109375 38.921875 18.109375 30.90625 \nL 18.109375 0 \nL 9.078125 0 \nL 9.078125 75.984375 \nL 18.109375 75.984375 \nL 18.109375 46.1875 \nQ 21.34375 51.125 25.703125 53.5625 \nQ 30.078125 56 35.796875 56 \nQ 45.21875 56 50.046875 50.171875 \nQ 54.890625 44.34375 54.890625 33.015625 \nz\n\" id=\"DejaVuSans-104\"/>\n       </defs>\n       <use xlink:href=\"#DejaVuSans-82\"/>\n       <use x=\"64.982422\" xlink:href=\"#DejaVuSans-101\"/>\n       <use x=\"126.505859\" xlink:href=\"#DejaVuSans-118\"/>\n       <use x=\"185.685547\" xlink:href=\"#DejaVuSans-101\"/>\n       <use x=\"247.208984\" xlink:href=\"#DejaVuSans-110\"/>\n       <use x=\"310.587891\" xlink:href=\"#DejaVuSans-117\"/>\n       <use x=\"373.966797\" xlink:href=\"#DejaVuSans-101\"/>\n       <use x=\"435.490234\" xlink:href=\"#DejaVuSans-32\"/>\n       <use x=\"467.277344\" xlink:href=\"#DejaVuSans-80\"/>\n       <use x=\"523.955078\" xlink:href=\"#DejaVuSans-101\"/>\n       <use x=\"585.478516\" xlink:href=\"#DejaVuSans-114\"/>\n       <use x=\"626.591797\" xlink:href=\"#DejaVuSans-32\"/>\n       <use x=\"658.378906\" xlink:href=\"#DejaVuSans-83\"/>\n       <use x=\"721.855469\" xlink:href=\"#DejaVuSans-104\"/>\n       <use x=\"785.234375\" xlink:href=\"#DejaVuSans-97\"/>\n       <use x=\"846.513672\" xlink:href=\"#DejaVuSans-114\"/>\n       <use x=\"885.376953\" xlink:href=\"#DejaVuSans-101\"/>\n      </g>\n     </g>\n    </g>\n    <g id=\"xtick_13\">\n     <g id=\"text_15\">\n      <!-- Market Cap -->\n      <g transform=\"translate(373.200493 132.672121)rotate(-45)scale(0.12 -0.12)\">\n       <defs>\n        <path d=\"M 64.40625 67.28125 \nL 64.40625 56.890625 \nQ 59.421875 61.53125 53.78125 63.8125 \nQ 48.140625 66.109375 41.796875 66.109375 \nQ 29.296875 66.109375 22.65625 58.46875 \nQ 16.015625 50.828125 16.015625 36.375 \nQ 16.015625 21.96875 22.65625 14.328125 \nQ 29.296875 6.6875 41.796875 6.6875 \nQ 48.140625 6.6875 53.78125 8.984375 \nQ 59.421875 11.28125 64.40625 15.921875 \nL 64.40625 5.609375 \nQ 59.234375 2.09375 53.4375 0.328125 \nQ 47.65625 -1.421875 41.21875 -1.421875 \nQ 24.65625 -1.421875 15.125 8.703125 \nQ 5.609375 18.84375 5.609375 36.375 \nQ 5.609375 53.953125 15.125 64.078125 \nQ 24.65625 74.21875 41.21875 74.21875 \nQ 47.75 74.21875 53.53125 72.484375 \nQ 59.328125 70.75 64.40625 67.28125 \nz\n\" id=\"DejaVuSans-67\"/>\n       </defs>\n       <use xlink:href=\"#DejaVuSans-77\"/>\n       <use x=\"86.279297\" xlink:href=\"#DejaVuSans-97\"/>\n       <use x=\"147.558594\" xlink:href=\"#DejaVuSans-114\"/>\n       <use x=\"188.671875\" xlink:href=\"#DejaVuSans-107\"/>\n       <use x=\"242.957031\" xlink:href=\"#DejaVuSans-101\"/>\n       <use x=\"304.480469\" xlink:href=\"#DejaVuSans-116\"/>\n       <use x=\"343.689453\" xlink:href=\"#DejaVuSans-32\"/>\n       <use x=\"375.476562\" xlink:href=\"#DejaVuSans-67\"/>\n       <use x=\"445.300781\" xlink:href=\"#DejaVuSans-97\"/>\n       <use x=\"506.580078\" xlink:href=\"#DejaVuSans-112\"/>\n      </g>\n     </g>\n    </g>\n    <g id=\"xtick_14\">\n     <g id=\"text_16\">\n      <!-- Enterprise Value -->\n      <g transform=\"translate(398.350733 132.672121)rotate(-45)scale(0.12 -0.12)\">\n       <defs>\n        <path d=\"M 28.609375 0 \nL 0.78125 72.90625 \nL 11.078125 72.90625 \nL 34.1875 11.53125 \nL 57.328125 72.90625 \nL 67.578125 72.90625 \nL 39.796875 0 \nz\n\" id=\"DejaVuSans-86\"/>\n       </defs>\n       <use xlink:href=\"#DejaVuSans-69\"/>\n       <use x=\"63.183594\" xlink:href=\"#DejaVuSans-110\"/>\n       <use x=\"126.5625\" xlink:href=\"#DejaVuSans-116\"/>\n       <use x=\"165.771484\" xlink:href=\"#DejaVuSans-101\"/>\n       <use x=\"227.294922\" xlink:href=\"#DejaVuSans-114\"/>\n       <use x=\"268.408203\" xlink:href=\"#DejaVuSans-112\"/>\n       <use x=\"331.884766\" xlink:href=\"#DejaVuSans-114\"/>\n       <use x=\"372.998047\" xlink:href=\"#DejaVuSans-105\"/>\n       <use x=\"400.78125\" xlink:href=\"#DejaVuSans-115\"/>\n       <use x=\"452.880859\" xlink:href=\"#DejaVuSans-101\"/>\n       <use x=\"514.404297\" xlink:href=\"#DejaVuSans-32\"/>\n       <use x=\"546.191406\" xlink:href=\"#DejaVuSans-86\"/>\n       <use x=\"606.849609\" xlink:href=\"#DejaVuSans-97\"/>\n       <use x=\"668.128906\" xlink:href=\"#DejaVuSans-108\"/>\n       <use x=\"695.912109\" xlink:href=\"#DejaVuSans-117\"/>\n       <use x=\"759.291016\" xlink:href=\"#DejaVuSans-101\"/>\n      </g>\n     </g>\n    </g>\n    <g id=\"xtick_15\">\n     <g id=\"text_17\">\n      <!-- Forward P/E -->\n      <g transform=\"translate(423.500974 132.672121)rotate(-45)scale(0.12 -0.12)\">\n       <defs>\n        <path d=\"M 9.8125 72.90625 \nL 51.703125 72.90625 \nL 51.703125 64.59375 \nL 19.671875 64.59375 \nL 19.671875 43.109375 \nL 48.578125 43.109375 \nL 48.578125 34.8125 \nL 19.671875 34.8125 \nL 19.671875 0 \nL 9.8125 0 \nz\n\" id=\"DejaVuSans-70\"/>\n        <path d=\"M 4.203125 54.6875 \nL 13.1875 54.6875 \nL 24.421875 12.015625 \nL 35.59375 54.6875 \nL 46.1875 54.6875 \nL 57.421875 12.015625 \nL 68.609375 54.6875 \nL 77.59375 54.6875 \nL 63.28125 0 \nL 52.6875 0 \nL 40.921875 44.828125 \nL 29.109375 0 \nL 18.5 0 \nz\n\" id=\"DejaVuSans-119\"/>\n        <path d=\"M 45.40625 46.390625 \nL 45.40625 75.984375 \nL 54.390625 75.984375 \nL 54.390625 0 \nL 45.40625 0 \nL 45.40625 8.203125 \nQ 42.578125 3.328125 38.25 0.953125 \nQ 33.9375 -1.421875 27.875 -1.421875 \nQ 17.96875 -1.421875 11.734375 6.484375 \nQ 5.515625 14.40625 5.515625 27.296875 \nQ 5.515625 40.1875 11.734375 48.09375 \nQ 17.96875 56 27.875 56 \nQ 33.9375 56 38.25 53.625 \nQ 42.578125 51.265625 45.40625 46.390625 \nz\nM 14.796875 27.296875 \nQ 14.796875 17.390625 18.875 11.75 \nQ 22.953125 6.109375 30.078125 6.109375 \nQ 37.203125 6.109375 41.296875 11.75 \nQ 45.40625 17.390625 45.40625 27.296875 \nQ 45.40625 37.203125 41.296875 42.84375 \nQ 37.203125 48.484375 30.078125 48.484375 \nQ 22.953125 48.484375 18.875 42.84375 \nQ 14.796875 37.203125 14.796875 27.296875 \nz\n\" id=\"DejaVuSans-100\"/>\n       </defs>\n       <use xlink:href=\"#DejaVuSans-70\"/>\n       <use x=\"53.894531\" xlink:href=\"#DejaVuSans-111\"/>\n       <use x=\"115.076172\" xlink:href=\"#DejaVuSans-114\"/>\n       <use x=\"156.189453\" xlink:href=\"#DejaVuSans-119\"/>\n       <use x=\"237.976562\" xlink:href=\"#DejaVuSans-97\"/>\n       <use x=\"299.255859\" xlink:href=\"#DejaVuSans-114\"/>\n       <use x=\"338.619141\" xlink:href=\"#DejaVuSans-100\"/>\n       <use x=\"402.095703\" xlink:href=\"#DejaVuSans-32\"/>\n       <use x=\"433.882812\" xlink:href=\"#DejaVuSans-80\"/>\n       <use x=\"494.185547\" xlink:href=\"#DejaVuSans-47\"/>\n       <use x=\"527.876953\" xlink:href=\"#DejaVuSans-69\"/>\n      </g>\n     </g>\n    </g>\n    <g id=\"xtick_16\">\n     <g id=\"text_18\">\n      <!-- PEG Ratio -->\n      <g transform=\"translate(448.651214 132.672121)rotate(-45)scale(0.12 -0.12)\">\n       <defs>\n        <path d=\"M 59.515625 10.40625 \nL 59.515625 29.984375 \nL 43.40625 29.984375 \nL 43.40625 38.09375 \nL 69.28125 38.09375 \nL 69.28125 6.78125 \nQ 63.578125 2.734375 56.6875 0.65625 \nQ 49.8125 -1.421875 42 -1.421875 \nQ 24.90625 -1.421875 15.25 8.5625 \nQ 5.609375 18.5625 5.609375 36.375 \nQ 5.609375 54.25 15.25 64.234375 \nQ 24.90625 74.21875 42 74.21875 \nQ 49.125 74.21875 55.546875 72.453125 \nQ 61.96875 70.703125 67.390625 67.28125 \nL 67.390625 56.78125 \nQ 61.921875 61.421875 55.765625 63.765625 \nQ 49.609375 66.109375 42.828125 66.109375 \nQ 29.4375 66.109375 22.71875 58.640625 \nQ 16.015625 51.171875 16.015625 36.375 \nQ 16.015625 21.625 22.71875 14.15625 \nQ 29.4375 6.6875 42.828125 6.6875 \nQ 48.046875 6.6875 52.140625 7.59375 \nQ 56.25 8.5 59.515625 10.40625 \nz\n\" id=\"DejaVuSans-71\"/>\n       </defs>\n       <use xlink:href=\"#DejaVuSans-80\"/>\n       <use x=\"60.302734\" xlink:href=\"#DejaVuSans-69\"/>\n       <use x=\"123.486328\" xlink:href=\"#DejaVuSans-71\"/>\n       <use x=\"200.976562\" xlink:href=\"#DejaVuSans-32\"/>\n       <use x=\"232.763672\" xlink:href=\"#DejaVuSans-82\"/>\n       <use x=\"299.996094\" xlink:href=\"#DejaVuSans-97\"/>\n       <use x=\"361.275391\" xlink:href=\"#DejaVuSans-116\"/>\n       <use x=\"400.484375\" xlink:href=\"#DejaVuSans-105\"/>\n       <use x=\"428.267578\" xlink:href=\"#DejaVuSans-111\"/>\n      </g>\n     </g>\n    </g>\n    <g id=\"xtick_17\">\n     <g id=\"text_19\">\n      <!-- Enterprise Value/Revenue -->\n      <g transform=\"translate(473.801454 132.672121)rotate(-45)scale(0.12 -0.12)\">\n       <use xlink:href=\"#DejaVuSans-69\"/>\n       <use x=\"63.183594\" xlink:href=\"#DejaVuSans-110\"/>\n       <use x=\"126.5625\" xlink:href=\"#DejaVuSans-116\"/>\n       <use x=\"165.771484\" xlink:href=\"#DejaVuSans-101\"/>\n       <use x=\"227.294922\" xlink:href=\"#DejaVuSans-114\"/>\n       <use x=\"268.408203\" xlink:href=\"#DejaVuSans-112\"/>\n       <use x=\"331.884766\" xlink:href=\"#DejaVuSans-114\"/>\n       <use x=\"372.998047\" xlink:href=\"#DejaVuSans-105\"/>\n       <use x=\"400.78125\" xlink:href=\"#DejaVuSans-115\"/>\n       <use x=\"452.880859\" xlink:href=\"#DejaVuSans-101\"/>\n       <use x=\"514.404297\" xlink:href=\"#DejaVuSans-32\"/>\n       <use x=\"546.191406\" xlink:href=\"#DejaVuSans-86\"/>\n       <use x=\"606.849609\" xlink:href=\"#DejaVuSans-97\"/>\n       <use x=\"668.128906\" xlink:href=\"#DejaVuSans-108\"/>\n       <use x=\"695.912109\" xlink:href=\"#DejaVuSans-117\"/>\n       <use x=\"759.291016\" xlink:href=\"#DejaVuSans-101\"/>\n       <use x=\"820.814453\" xlink:href=\"#DejaVuSans-47\"/>\n       <use x=\"854.505859\" xlink:href=\"#DejaVuSans-82\"/>\n       <use x=\"919.488281\" xlink:href=\"#DejaVuSans-101\"/>\n       <use x=\"981.011719\" xlink:href=\"#DejaVuSans-118\"/>\n       <use x=\"1040.191406\" xlink:href=\"#DejaVuSans-101\"/>\n       <use x=\"1101.714844\" xlink:href=\"#DejaVuSans-110\"/>\n       <use x=\"1165.09375\" xlink:href=\"#DejaVuSans-117\"/>\n       <use x=\"1228.472656\" xlink:href=\"#DejaVuSans-101\"/>\n      </g>\n     </g>\n    </g>\n    <g id=\"xtick_18\">\n     <g id=\"text_20\">\n      <!-- Enterprise Value/EBITDA -->\n      <g transform=\"translate(498.951695 132.672121)rotate(-45)scale(0.12 -0.12)\">\n       <defs>\n        <path d=\"M 9.8125 72.90625 \nL 19.671875 72.90625 \nL 19.671875 0 \nL 9.8125 0 \nz\n\" id=\"DejaVuSans-73\"/>\n       </defs>\n       <use xlink:href=\"#DejaVuSans-69\"/>\n       <use x=\"63.183594\" xlink:href=\"#DejaVuSans-110\"/>\n       <use x=\"126.5625\" xlink:href=\"#DejaVuSans-116\"/>\n       <use x=\"165.771484\" xlink:href=\"#DejaVuSans-101\"/>\n       <use x=\"227.294922\" xlink:href=\"#DejaVuSans-114\"/>\n       <use x=\"268.408203\" xlink:href=\"#DejaVuSans-112\"/>\n       <use x=\"331.884766\" xlink:href=\"#DejaVuSans-114\"/>\n       <use x=\"372.998047\" xlink:href=\"#DejaVuSans-105\"/>\n       <use x=\"400.78125\" xlink:href=\"#DejaVuSans-115\"/>\n       <use x=\"452.880859\" xlink:href=\"#DejaVuSans-101\"/>\n       <use x=\"514.404297\" xlink:href=\"#DejaVuSans-32\"/>\n       <use x=\"546.191406\" xlink:href=\"#DejaVuSans-86\"/>\n       <use x=\"606.849609\" xlink:href=\"#DejaVuSans-97\"/>\n       <use x=\"668.128906\" xlink:href=\"#DejaVuSans-108\"/>\n       <use x=\"695.912109\" xlink:href=\"#DejaVuSans-117\"/>\n       <use x=\"759.291016\" xlink:href=\"#DejaVuSans-101\"/>\n       <use x=\"820.814453\" xlink:href=\"#DejaVuSans-47\"/>\n       <use x=\"854.505859\" xlink:href=\"#DejaVuSans-69\"/>\n       <use x=\"917.689453\" xlink:href=\"#DejaVuSans-66\"/>\n       <use x=\"986.292969\" xlink:href=\"#DejaVuSans-73\"/>\n       <use x=\"1015.785156\" xlink:href=\"#DejaVuSans-84\"/>\n       <use x=\"1076.869141\" xlink:href=\"#DejaVuSans-68\"/>\n       <use x=\"1152.121094\" xlink:href=\"#DejaVuSans-65\"/>\n      </g>\n     </g>\n    </g>\n    <g id=\"xtick_19\">\n     <g id=\"text_21\">\n      <!-- Revenue -->\n      <g transform=\"translate(524.101935 132.672121)rotate(-45)scale(0.12 -0.12)\">\n       <use xlink:href=\"#DejaVuSans-82\"/>\n       <use x=\"64.982422\" xlink:href=\"#DejaVuSans-101\"/>\n       <use x=\"126.505859\" xlink:href=\"#DejaVuSans-118\"/>\n       <use x=\"185.685547\" xlink:href=\"#DejaVuSans-101\"/>\n       <use x=\"247.208984\" xlink:href=\"#DejaVuSans-110\"/>\n       <use x=\"310.587891\" xlink:href=\"#DejaVuSans-117\"/>\n       <use x=\"373.966797\" xlink:href=\"#DejaVuSans-101\"/>\n      </g>\n     </g>\n    </g>\n    <g id=\"xtick_20\">\n     <g id=\"text_22\">\n      <!-- Gross Profit -->\n      <g transform=\"translate(549.252176 132.672121)rotate(-45)scale(0.12 -0.12)\">\n       <use xlink:href=\"#DejaVuSans-71\"/>\n       <use x=\"77.490234\" xlink:href=\"#DejaVuSans-114\"/>\n       <use x=\"116.353516\" xlink:href=\"#DejaVuSans-111\"/>\n       <use x=\"177.535156\" xlink:href=\"#DejaVuSans-115\"/>\n       <use x=\"229.634766\" xlink:href=\"#DejaVuSans-115\"/>\n       <use x=\"281.734375\" xlink:href=\"#DejaVuSans-32\"/>\n       <use x=\"313.521484\" xlink:href=\"#DejaVuSans-80\"/>\n       <use x=\"372.074219\" xlink:href=\"#DejaVuSans-114\"/>\n       <use x=\"410.9375\" xlink:href=\"#DejaVuSans-111\"/>\n       <use x=\"472.119141\" xlink:href=\"#DejaVuSans-102\"/>\n       <use x=\"507.324219\" xlink:href=\"#DejaVuSans-105\"/>\n       <use x=\"535.107422\" xlink:href=\"#DejaVuSans-116\"/>\n      </g>\n     </g>\n    </g>\n    <g id=\"xtick_21\">\n     <g id=\"text_23\">\n      <!-- EBITDA -->\n      <g transform=\"translate(574.402416 132.672121)rotate(-45)scale(0.12 -0.12)\">\n       <use xlink:href=\"#DejaVuSans-69\"/>\n       <use x=\"63.183594\" xlink:href=\"#DejaVuSans-66\"/>\n       <use x=\"131.787109\" xlink:href=\"#DejaVuSans-73\"/>\n       <use x=\"161.279297\" xlink:href=\"#DejaVuSans-84\"/>\n       <use x=\"222.363281\" xlink:href=\"#DejaVuSans-68\"/>\n       <use x=\"297.615234\" xlink:href=\"#DejaVuSans-65\"/>\n      </g>\n     </g>\n    </g>\n    <g id=\"xtick_22\">\n     <g id=\"text_24\">\n      <!-- Net Income Avl to Common  -->\n      <g transform=\"translate(599.552656 132.672121)rotate(-45)scale(0.12 -0.12)\">\n       <defs>\n        <path d=\"M 9.8125 72.90625 \nL 23.09375 72.90625 \nL 55.421875 11.921875 \nL 55.421875 72.90625 \nL 64.984375 72.90625 \nL 64.984375 0 \nL 51.703125 0 \nL 19.390625 60.984375 \nL 19.390625 0 \nL 9.8125 0 \nz\n\" id=\"DejaVuSans-78\"/>\n        <path d=\"M 52 44.1875 \nQ 55.375 50.25 60.0625 53.125 \nQ 64.75 56 71.09375 56 \nQ 79.640625 56 84.28125 50.015625 \nQ 88.921875 44.046875 88.921875 33.015625 \nL 88.921875 0 \nL 79.890625 0 \nL 79.890625 32.71875 \nQ 79.890625 40.578125 77.09375 44.375 \nQ 74.3125 48.1875 68.609375 48.1875 \nQ 61.625 48.1875 57.5625 43.546875 \nQ 53.515625 38.921875 53.515625 30.90625 \nL 53.515625 0 \nL 44.484375 0 \nL 44.484375 32.71875 \nQ 44.484375 40.625 41.703125 44.40625 \nQ 38.921875 48.1875 33.109375 48.1875 \nQ 26.21875 48.1875 22.15625 43.53125 \nQ 18.109375 38.875 18.109375 30.90625 \nL 18.109375 0 \nL 9.078125 0 \nL 9.078125 54.6875 \nL 18.109375 54.6875 \nL 18.109375 46.1875 \nQ 21.1875 51.21875 25.484375 53.609375 \nQ 29.78125 56 35.6875 56 \nQ 41.65625 56 45.828125 52.96875 \nQ 50 49.953125 52 44.1875 \nz\n\" id=\"DejaVuSans-109\"/>\n       </defs>\n       <use xlink:href=\"#DejaVuSans-78\"/>\n       <use x=\"74.804688\" xlink:href=\"#DejaVuSans-101\"/>\n       <use x=\"136.328125\" xlink:href=\"#DejaVuSans-116\"/>\n       <use x=\"175.537109\" xlink:href=\"#DejaVuSans-32\"/>\n       <use x=\"207.324219\" xlink:href=\"#DejaVuSans-73\"/>\n       <use x=\"236.816406\" xlink:href=\"#DejaVuSans-110\"/>\n       <use x=\"300.195312\" xlink:href=\"#DejaVuSans-99\"/>\n       <use x=\"355.175781\" xlink:href=\"#DejaVuSans-111\"/>\n       <use x=\"416.357422\" xlink:href=\"#DejaVuSans-109\"/>\n       <use x=\"513.769531\" xlink:href=\"#DejaVuSans-101\"/>\n       <use x=\"575.292969\" xlink:href=\"#DejaVuSans-32\"/>\n       <use x=\"607.080078\" xlink:href=\"#DejaVuSans-65\"/>\n       <use x=\"669.613281\" xlink:href=\"#DejaVuSans-118\"/>\n       <use x=\"728.792969\" xlink:href=\"#DejaVuSans-108\"/>\n       <use x=\"756.576172\" xlink:href=\"#DejaVuSans-32\"/>\n       <use x=\"788.363281\" xlink:href=\"#DejaVuSans-116\"/>\n       <use x=\"827.572266\" xlink:href=\"#DejaVuSans-111\"/>\n       <use x=\"888.753906\" xlink:href=\"#DejaVuSans-32\"/>\n       <use x=\"920.541016\" xlink:href=\"#DejaVuSans-67\"/>\n       <use x=\"990.365234\" xlink:href=\"#DejaVuSans-111\"/>\n       <use x=\"1051.546875\" xlink:href=\"#DejaVuSans-109\"/>\n       <use x=\"1148.958984\" xlink:href=\"#DejaVuSans-109\"/>\n       <use x=\"1246.371094\" xlink:href=\"#DejaVuSans-111\"/>\n       <use x=\"1307.552734\" xlink:href=\"#DejaVuSans-110\"/>\n       <use x=\"1370.931641\" xlink:href=\"#DejaVuSans-32\"/>\n      </g>\n     </g>\n    </g>\n    <g id=\"xtick_23\">\n     <g id=\"text_25\">\n      <!-- Diluted EPS -->\n      <g transform=\"translate(624.702897 132.672121)rotate(-45)scale(0.12 -0.12)\">\n       <use xlink:href=\"#DejaVuSans-68\"/>\n       <use x=\"77.001953\" xlink:href=\"#DejaVuSans-105\"/>\n       <use x=\"104.785156\" xlink:href=\"#DejaVuSans-108\"/>\n       <use x=\"132.568359\" xlink:href=\"#DejaVuSans-117\"/>\n       <use x=\"195.947266\" xlink:href=\"#DejaVuSans-116\"/>\n       <use x=\"235.15625\" xlink:href=\"#DejaVuSans-101\"/>\n       <use x=\"296.679688\" xlink:href=\"#DejaVuSans-100\"/>\n       <use x=\"360.15625\" xlink:href=\"#DejaVuSans-32\"/>\n       <use x=\"391.943359\" xlink:href=\"#DejaVuSans-69\"/>\n       <use x=\"455.126953\" xlink:href=\"#DejaVuSans-80\"/>\n       <use x=\"515.429688\" xlink:href=\"#DejaVuSans-83\"/>\n      </g>\n     </g>\n    </g>\n    <g id=\"xtick_24\">\n     <g id=\"text_26\">\n      <!-- Earnings Growth -->\n      <g transform=\"translate(649.853137 132.672121)rotate(-45)scale(0.12 -0.12)\">\n       <use xlink:href=\"#DejaVuSans-69\"/>\n       <use x=\"63.183594\" xlink:href=\"#DejaVuSans-97\"/>\n       <use x=\"124.462891\" xlink:href=\"#DejaVuSans-114\"/>\n       <use x=\"163.826172\" xlink:href=\"#DejaVuSans-110\"/>\n       <use x=\"227.205078\" xlink:href=\"#DejaVuSans-105\"/>\n       <use x=\"254.988281\" xlink:href=\"#DejaVuSans-110\"/>\n       <use x=\"318.367188\" xlink:href=\"#DejaVuSans-103\"/>\n       <use x=\"381.84375\" xlink:href=\"#DejaVuSans-115\"/>\n       <use x=\"433.943359\" xlink:href=\"#DejaVuSans-32\"/>\n       <use x=\"465.730469\" xlink:href=\"#DejaVuSans-71\"/>\n       <use x=\"543.220703\" xlink:href=\"#DejaVuSans-114\"/>\n       <use x=\"582.083984\" xlink:href=\"#DejaVuSans-111\"/>\n       <use x=\"643.265625\" xlink:href=\"#DejaVuSans-119\"/>\n       <use x=\"725.052734\" xlink:href=\"#DejaVuSans-116\"/>\n       <use x=\"764.261719\" xlink:href=\"#DejaVuSans-104\"/>\n      </g>\n     </g>\n    </g>\n    <g id=\"xtick_25\">\n     <g id=\"text_27\">\n      <!-- Revenue Growth -->\n      <g transform=\"translate(675.003377 132.672121)rotate(-45)scale(0.12 -0.12)\">\n       <use xlink:href=\"#DejaVuSans-82\"/>\n       <use x=\"64.982422\" xlink:href=\"#DejaVuSans-101\"/>\n       <use x=\"126.505859\" xlink:href=\"#DejaVuSans-118\"/>\n       <use x=\"185.685547\" xlink:href=\"#DejaVuSans-101\"/>\n       <use x=\"247.208984\" xlink:href=\"#DejaVuSans-110\"/>\n       <use x=\"310.587891\" xlink:href=\"#DejaVuSans-117\"/>\n       <use x=\"373.966797\" xlink:href=\"#DejaVuSans-101\"/>\n       <use x=\"435.490234\" xlink:href=\"#DejaVuSans-32\"/>\n       <use x=\"467.277344\" xlink:href=\"#DejaVuSans-71\"/>\n       <use x=\"544.767578\" xlink:href=\"#DejaVuSans-114\"/>\n       <use x=\"583.630859\" xlink:href=\"#DejaVuSans-111\"/>\n       <use x=\"644.8125\" xlink:href=\"#DejaVuSans-119\"/>\n       <use x=\"726.599609\" xlink:href=\"#DejaVuSans-116\"/>\n       <use x=\"765.808594\" xlink:href=\"#DejaVuSans-104\"/>\n      </g>\n     </g>\n    </g>\n    <g id=\"xtick_26\">\n     <g id=\"text_28\">\n      <!-- Total Cash -->\n      <g transform=\"translate(700.153618 132.672121)rotate(-45)scale(0.12 -0.12)\">\n       <use xlink:href=\"#DejaVuSans-84\"/>\n       <use x=\"44.083984\" xlink:href=\"#DejaVuSans-111\"/>\n       <use x=\"105.265625\" xlink:href=\"#DejaVuSans-116\"/>\n       <use x=\"144.474609\" xlink:href=\"#DejaVuSans-97\"/>\n       <use x=\"205.753906\" xlink:href=\"#DejaVuSans-108\"/>\n       <use x=\"233.537109\" xlink:href=\"#DejaVuSans-32\"/>\n       <use x=\"265.324219\" xlink:href=\"#DejaVuSans-67\"/>\n       <use x=\"335.148438\" xlink:href=\"#DejaVuSans-97\"/>\n       <use x=\"396.427734\" xlink:href=\"#DejaVuSans-115\"/>\n       <use x=\"448.527344\" xlink:href=\"#DejaVuSans-104\"/>\n      </g>\n     </g>\n    </g>\n    <g id=\"xtick_27\">\n     <g id=\"text_29\">\n      <!-- Total Cash Per Share -->\n      <g transform=\"translate(725.303858 132.672121)rotate(-45)scale(0.12 -0.12)\">\n       <use xlink:href=\"#DejaVuSans-84\"/>\n       <use x=\"44.083984\" xlink:href=\"#DejaVuSans-111\"/>\n       <use x=\"105.265625\" xlink:href=\"#DejaVuSans-116\"/>\n       <use x=\"144.474609\" xlink:href=\"#DejaVuSans-97\"/>\n       <use x=\"205.753906\" xlink:href=\"#DejaVuSans-108\"/>\n       <use x=\"233.537109\" xlink:href=\"#DejaVuSans-32\"/>\n       <use x=\"265.324219\" xlink:href=\"#DejaVuSans-67\"/>\n       <use x=\"335.148438\" xlink:href=\"#DejaVuSans-97\"/>\n       <use x=\"396.427734\" xlink:href=\"#DejaVuSans-115\"/>\n       <use x=\"448.527344\" xlink:href=\"#DejaVuSans-104\"/>\n       <use x=\"511.90625\" xlink:href=\"#DejaVuSans-32\"/>\n       <use x=\"543.693359\" xlink:href=\"#DejaVuSans-80\"/>\n       <use x=\"600.371094\" xlink:href=\"#DejaVuSans-101\"/>\n       <use x=\"661.894531\" xlink:href=\"#DejaVuSans-114\"/>\n       <use x=\"703.007812\" xlink:href=\"#DejaVuSans-32\"/>\n       <use x=\"734.794922\" xlink:href=\"#DejaVuSans-83\"/>\n       <use x=\"798.271484\" xlink:href=\"#DejaVuSans-104\"/>\n       <use x=\"861.650391\" xlink:href=\"#DejaVuSans-97\"/>\n       <use x=\"922.929688\" xlink:href=\"#DejaVuSans-114\"/>\n       <use x=\"961.792969\" xlink:href=\"#DejaVuSans-101\"/>\n      </g>\n     </g>\n    </g>\n    <g id=\"xtick_28\">\n     <g id=\"text_30\">\n      <!-- Total Debt -->\n      <g transform=\"translate(750.454099 132.672121)rotate(-45)scale(0.12 -0.12)\">\n       <defs>\n        <path d=\"M 48.6875 27.296875 \nQ 48.6875 37.203125 44.609375 42.84375 \nQ 40.53125 48.484375 33.40625 48.484375 \nQ 26.265625 48.484375 22.1875 42.84375 \nQ 18.109375 37.203125 18.109375 27.296875 \nQ 18.109375 17.390625 22.1875 11.75 \nQ 26.265625 6.109375 33.40625 6.109375 \nQ 40.53125 6.109375 44.609375 11.75 \nQ 48.6875 17.390625 48.6875 27.296875 \nz\nM 18.109375 46.390625 \nQ 20.953125 51.265625 25.265625 53.625 \nQ 29.59375 56 35.59375 56 \nQ 45.5625 56 51.78125 48.09375 \nQ 58.015625 40.1875 58.015625 27.296875 \nQ 58.015625 14.40625 51.78125 6.484375 \nQ 45.5625 -1.421875 35.59375 -1.421875 \nQ 29.59375 -1.421875 25.265625 0.953125 \nQ 20.953125 3.328125 18.109375 8.203125 \nL 18.109375 0 \nL 9.078125 0 \nL 9.078125 75.984375 \nL 18.109375 75.984375 \nz\n\" id=\"DejaVuSans-98\"/>\n       </defs>\n       <use xlink:href=\"#DejaVuSans-84\"/>\n       <use x=\"44.083984\" xlink:href=\"#DejaVuSans-111\"/>\n       <use x=\"105.265625\" xlink:href=\"#DejaVuSans-116\"/>\n       <use x=\"144.474609\" xlink:href=\"#DejaVuSans-97\"/>\n       <use x=\"205.753906\" xlink:href=\"#DejaVuSans-108\"/>\n       <use x=\"233.537109\" xlink:href=\"#DejaVuSans-32\"/>\n       <use x=\"265.324219\" xlink:href=\"#DejaVuSans-68\"/>\n       <use x=\"342.326172\" xlink:href=\"#DejaVuSans-101\"/>\n       <use x=\"403.849609\" xlink:href=\"#DejaVuSans-98\"/>\n       <use x=\"467.326172\" xlink:href=\"#DejaVuSans-116\"/>\n      </g>\n     </g>\n    </g>\n    <g id=\"xtick_29\">\n     <g id=\"text_31\">\n      <!-- Current Ratio -->\n      <g transform=\"translate(775.604339 132.672121)rotate(-45)scale(0.12 -0.12)\">\n       <use xlink:href=\"#DejaVuSans-67\"/>\n       <use x=\"69.824219\" xlink:href=\"#DejaVuSans-117\"/>\n       <use x=\"133.203125\" xlink:href=\"#DejaVuSans-114\"/>\n       <use x=\"172.566406\" xlink:href=\"#DejaVuSans-114\"/>\n       <use x=\"211.429688\" xlink:href=\"#DejaVuSans-101\"/>\n       <use x=\"272.953125\" xlink:href=\"#DejaVuSans-110\"/>\n       <use x=\"336.332031\" xlink:href=\"#DejaVuSans-116\"/>\n       <use x=\"375.541016\" xlink:href=\"#DejaVuSans-32\"/>\n       <use x=\"407.328125\" xlink:href=\"#DejaVuSans-82\"/>\n       <use x=\"474.560547\" xlink:href=\"#DejaVuSans-97\"/>\n       <use x=\"535.839844\" xlink:href=\"#DejaVuSans-116\"/>\n       <use x=\"575.048828\" xlink:href=\"#DejaVuSans-105\"/>\n       <use x=\"602.832031\" xlink:href=\"#DejaVuSans-111\"/>\n      </g>\n     </g>\n    </g>\n    <g id=\"xtick_30\">\n     <g id=\"text_32\">\n      <!-- Book Value Per Share -->\n      <g transform=\"translate(800.754579 132.672121)rotate(-45)scale(0.12 -0.12)\">\n       <use xlink:href=\"#DejaVuSans-66\"/>\n       <use x=\"68.603516\" xlink:href=\"#DejaVuSans-111\"/>\n       <use x=\"129.785156\" xlink:href=\"#DejaVuSans-111\"/>\n       <use x=\"190.966797\" xlink:href=\"#DejaVuSans-107\"/>\n       <use x=\"248.876953\" xlink:href=\"#DejaVuSans-32\"/>\n       <use x=\"280.664062\" xlink:href=\"#DejaVuSans-86\"/>\n       <use x=\"341.322266\" xlink:href=\"#DejaVuSans-97\"/>\n       <use x=\"402.601562\" xlink:href=\"#DejaVuSans-108\"/>\n       <use x=\"430.384766\" xlink:href=\"#DejaVuSans-117\"/>\n       <use x=\"493.763672\" xlink:href=\"#DejaVuSans-101\"/>\n       <use x=\"555.287109\" xlink:href=\"#DejaVuSans-32\"/>\n       <use x=\"587.074219\" xlink:href=\"#DejaVuSans-80\"/>\n       <use x=\"643.751953\" xlink:href=\"#DejaVuSans-101\"/>\n       <use x=\"705.275391\" xlink:href=\"#DejaVuSans-114\"/>\n       <use x=\"746.388672\" xlink:href=\"#DejaVuSans-32\"/>\n       <use x=\"778.175781\" xlink:href=\"#DejaVuSans-83\"/>\n       <use x=\"841.652344\" xlink:href=\"#DejaVuSans-104\"/>\n       <use x=\"905.03125\" xlink:href=\"#DejaVuSans-97\"/>\n       <use x=\"966.310547\" xlink:href=\"#DejaVuSans-114\"/>\n       <use x=\"1005.173828\" xlink:href=\"#DejaVuSans-101\"/>\n      </g>\n     </g>\n    </g>\n    <g id=\"xtick_31\">\n     <g id=\"text_33\">\n      <!-- Cash Flow -->\n      <g transform=\"translate(825.90482 132.672121)rotate(-45)scale(0.12 -0.12)\">\n       <use xlink:href=\"#DejaVuSans-67\"/>\n       <use x=\"69.824219\" xlink:href=\"#DejaVuSans-97\"/>\n       <use x=\"131.103516\" xlink:href=\"#DejaVuSans-115\"/>\n       <use x=\"183.203125\" xlink:href=\"#DejaVuSans-104\"/>\n       <use x=\"246.582031\" xlink:href=\"#DejaVuSans-32\"/>\n       <use x=\"278.369141\" xlink:href=\"#DejaVuSans-70\"/>\n       <use x=\"335.888672\" xlink:href=\"#DejaVuSans-108\"/>\n       <use x=\"363.671875\" xlink:href=\"#DejaVuSans-111\"/>\n       <use x=\"424.853516\" xlink:href=\"#DejaVuSans-119\"/>\n      </g>\n     </g>\n    </g>\n    <g id=\"xtick_32\">\n     <g id=\"text_34\">\n      <!-- Beta -->\n      <g transform=\"translate(851.05506 132.672121)rotate(-45)scale(0.12 -0.12)\">\n       <use xlink:href=\"#DejaVuSans-66\"/>\n       <use x=\"68.603516\" xlink:href=\"#DejaVuSans-101\"/>\n       <use x=\"130.126953\" xlink:href=\"#DejaVuSans-116\"/>\n       <use x=\"169.335938\" xlink:href=\"#DejaVuSans-97\"/>\n      </g>\n     </g>\n    </g>\n   </g>\n   <g id=\"matplotlib.axis_4\">\n    <g id=\"ytick_1\">\n     <g id=\"text_35\">\n      <!-- 1 -->\n      <g transform=\"translate(35.83125 147.153835)scale(0.15 -0.15)\">\n       <use xlink:href=\"#DejaVuSans-49\"/>\n      </g>\n     </g>\n    </g>\n    <g id=\"ytick_2\">\n     <g id=\"text_36\">\n      <!-- 9132 -->\n      <g transform=\"translate(7.2 479.757409)scale(0.15 -0.15)\">\n       <defs>\n        <path d=\"M 10.984375 1.515625 \nL 10.984375 10.5 \nQ 14.703125 8.734375 18.5 7.8125 \nQ 22.3125 6.890625 25.984375 6.890625 \nQ 35.75 6.890625 40.890625 13.453125 \nQ 46.046875 20.015625 46.78125 33.40625 \nQ 43.953125 29.203125 39.59375 26.953125 \nQ 35.25 24.703125 29.984375 24.703125 \nQ 19.046875 24.703125 12.671875 31.3125 \nQ 6.296875 37.9375 6.296875 49.421875 \nQ 6.296875 60.640625 12.9375 67.421875 \nQ 19.578125 74.21875 30.609375 74.21875 \nQ 43.265625 74.21875 49.921875 64.515625 \nQ 56.59375 54.828125 56.59375 36.375 \nQ 56.59375 19.140625 48.40625 8.859375 \nQ 40.234375 -1.421875 26.421875 -1.421875 \nQ 22.703125 -1.421875 18.890625 -0.6875 \nQ 15.09375 0.046875 10.984375 1.515625 \nz\nM 30.609375 32.421875 \nQ 37.25 32.421875 41.125 36.953125 \nQ 45.015625 41.5 45.015625 49.421875 \nQ 45.015625 57.28125 41.125 61.84375 \nQ 37.25 66.40625 30.609375 66.40625 \nQ 23.96875 66.40625 20.09375 61.84375 \nQ 16.21875 57.28125 16.21875 49.421875 \nQ 16.21875 41.5 20.09375 36.953125 \nQ 23.96875 32.421875 30.609375 32.421875 \nz\n\" id=\"DejaVuSans-57\"/>\n       </defs>\n       <use xlink:href=\"#DejaVuSans-57\"/>\n       <use x=\"63.623047\" xlink:href=\"#DejaVuSans-49\"/>\n       <use x=\"127.246094\" xlink:href=\"#DejaVuSans-51\"/>\n       <use x=\"190.869141\" xlink:href=\"#DejaVuSans-50\"/>\n      </g>\n     </g>\n    </g>\n   </g>\n   <g id=\"line2d_4\">\n    <path clip-path=\"url(#pb730f2c8a4)\" d=\"M 77.52524 474.076794 \nL 77.52524 141.436794 \n\" style=\"fill:none;stroke:#ffffff;stroke-linecap:square;stroke-width:1.5;\"/>\n   </g>\n   <g id=\"line2d_5\">\n    <path clip-path=\"url(#pb730f2c8a4)\" d=\"M 102.675481 474.076794 \nL 102.675481 141.436794 \n\" style=\"fill:none;stroke:#ffffff;stroke-linecap:square;stroke-width:1.5;\"/>\n   </g>\n   <g id=\"line2d_6\">\n    <path clip-path=\"url(#pb730f2c8a4)\" d=\"M 127.825721 474.076794 \nL 127.825721 141.436794 \n\" style=\"fill:none;stroke:#ffffff;stroke-linecap:square;stroke-width:1.5;\"/>\n   </g>\n   <g id=\"line2d_7\">\n    <path clip-path=\"url(#pb730f2c8a4)\" d=\"M 152.975962 474.076794 \nL 152.975962 141.436794 \n\" style=\"fill:none;stroke:#ffffff;stroke-linecap:square;stroke-width:1.5;\"/>\n   </g>\n   <g id=\"line2d_8\">\n    <path clip-path=\"url(#pb730f2c8a4)\" d=\"M 178.126202 474.076794 \nL 178.126202 141.436794 \n\" style=\"fill:none;stroke:#ffffff;stroke-linecap:square;stroke-width:1.5;\"/>\n   </g>\n   <g id=\"line2d_9\">\n    <path clip-path=\"url(#pb730f2c8a4)\" d=\"M 203.276442 474.076794 \nL 203.276442 141.436794 \n\" style=\"fill:none;stroke:#ffffff;stroke-linecap:square;stroke-width:1.5;\"/>\n   </g>\n   <g id=\"line2d_10\">\n    <path clip-path=\"url(#pb730f2c8a4)\" d=\"M 228.426683 474.076794 \nL 228.426683 141.436794 \n\" style=\"fill:none;stroke:#ffffff;stroke-linecap:square;stroke-width:1.5;\"/>\n   </g>\n   <g id=\"line2d_11\">\n    <path clip-path=\"url(#pb730f2c8a4)\" d=\"M 253.576923 474.076794 \nL 253.576923 141.436794 \n\" style=\"fill:none;stroke:#ffffff;stroke-linecap:square;stroke-width:1.5;\"/>\n   </g>\n   <g id=\"line2d_12\">\n    <path clip-path=\"url(#pb730f2c8a4)\" d=\"M 278.727163 474.076794 \nL 278.727163 141.436794 \n\" style=\"fill:none;stroke:#ffffff;stroke-linecap:square;stroke-width:1.5;\"/>\n   </g>\n   <g id=\"line2d_13\">\n    <path clip-path=\"url(#pb730f2c8a4)\" d=\"M 303.877404 474.076794 \nL 303.877404 141.436794 \n\" style=\"fill:none;stroke:#ffffff;stroke-linecap:square;stroke-width:1.5;\"/>\n   </g>\n   <g id=\"line2d_14\">\n    <path clip-path=\"url(#pb730f2c8a4)\" d=\"M 329.027644 474.076794 \nL 329.027644 141.436794 \n\" style=\"fill:none;stroke:#ffffff;stroke-linecap:square;stroke-width:1.5;\"/>\n   </g>\n   <g id=\"line2d_15\">\n    <path clip-path=\"url(#pb730f2c8a4)\" d=\"M 354.177885 474.076794 \nL 354.177885 141.436794 \n\" style=\"fill:none;stroke:#ffffff;stroke-linecap:square;stroke-width:1.5;\"/>\n   </g>\n   <g id=\"line2d_16\">\n    <path clip-path=\"url(#pb730f2c8a4)\" d=\"M 379.328125 474.076794 \nL 379.328125 141.436794 \n\" style=\"fill:none;stroke:#ffffff;stroke-linecap:square;stroke-width:1.5;\"/>\n   </g>\n   <g id=\"line2d_17\">\n    <path clip-path=\"url(#pb730f2c8a4)\" d=\"M 404.478365 474.076794 \nL 404.478365 141.436794 \n\" style=\"fill:none;stroke:#ffffff;stroke-linecap:square;stroke-width:1.5;\"/>\n   </g>\n   <g id=\"line2d_18\">\n    <path clip-path=\"url(#pb730f2c8a4)\" d=\"M 429.628606 474.076794 \nL 429.628606 141.436794 \n\" style=\"fill:none;stroke:#ffffff;stroke-linecap:square;stroke-width:1.5;\"/>\n   </g>\n   <g id=\"line2d_19\">\n    <path clip-path=\"url(#pb730f2c8a4)\" d=\"M 454.778846 474.076794 \nL 454.778846 141.436794 \n\" style=\"fill:none;stroke:#ffffff;stroke-linecap:square;stroke-width:1.5;\"/>\n   </g>\n   <g id=\"line2d_20\">\n    <path clip-path=\"url(#pb730f2c8a4)\" d=\"M 479.929087 474.076794 \nL 479.929087 141.436794 \n\" style=\"fill:none;stroke:#ffffff;stroke-linecap:square;stroke-width:1.5;\"/>\n   </g>\n   <g id=\"line2d_21\">\n    <path clip-path=\"url(#pb730f2c8a4)\" d=\"M 505.079327 474.076794 \nL 505.079327 141.436794 \n\" style=\"fill:none;stroke:#ffffff;stroke-linecap:square;stroke-width:1.5;\"/>\n   </g>\n   <g id=\"line2d_22\">\n    <path clip-path=\"url(#pb730f2c8a4)\" d=\"M 530.229567 474.076794 \nL 530.229567 141.436794 \n\" style=\"fill:none;stroke:#ffffff;stroke-linecap:square;stroke-width:1.5;\"/>\n   </g>\n   <g id=\"line2d_23\">\n    <path clip-path=\"url(#pb730f2c8a4)\" d=\"M 555.379808 474.076794 \nL 555.379808 141.436794 \n\" style=\"fill:none;stroke:#ffffff;stroke-linecap:square;stroke-width:1.5;\"/>\n   </g>\n   <g id=\"line2d_24\">\n    <path clip-path=\"url(#pb730f2c8a4)\" d=\"M 580.530048 474.076794 \nL 580.530048 141.436794 \n\" style=\"fill:none;stroke:#ffffff;stroke-linecap:square;stroke-width:1.5;\"/>\n   </g>\n   <g id=\"line2d_25\">\n    <path clip-path=\"url(#pb730f2c8a4)\" d=\"M 605.680288 474.076794 \nL 605.680288 141.436794 \n\" style=\"fill:none;stroke:#ffffff;stroke-linecap:square;stroke-width:1.5;\"/>\n   </g>\n   <g id=\"line2d_26\">\n    <path clip-path=\"url(#pb730f2c8a4)\" d=\"M 630.830529 474.076794 \nL 630.830529 141.436794 \n\" style=\"fill:none;stroke:#ffffff;stroke-linecap:square;stroke-width:1.5;\"/>\n   </g>\n   <g id=\"line2d_27\">\n    <path clip-path=\"url(#pb730f2c8a4)\" d=\"M 655.980769 474.076794 \nL 655.980769 141.436794 \n\" style=\"fill:none;stroke:#ffffff;stroke-linecap:square;stroke-width:1.5;\"/>\n   </g>\n   <g id=\"line2d_28\">\n    <path clip-path=\"url(#pb730f2c8a4)\" d=\"M 681.13101 474.076794 \nL 681.13101 141.436794 \n\" style=\"fill:none;stroke:#ffffff;stroke-linecap:square;stroke-width:1.5;\"/>\n   </g>\n   <g id=\"line2d_29\">\n    <path clip-path=\"url(#pb730f2c8a4)\" d=\"M 706.28125 474.076794 \nL 706.28125 141.436794 \n\" style=\"fill:none;stroke:#ffffff;stroke-linecap:square;stroke-width:1.5;\"/>\n   </g>\n   <g id=\"line2d_30\">\n    <path clip-path=\"url(#pb730f2c8a4)\" d=\"M 731.43149 474.076794 \nL 731.43149 141.436794 \n\" style=\"fill:none;stroke:#ffffff;stroke-linecap:square;stroke-width:1.5;\"/>\n   </g>\n   <g id=\"line2d_31\">\n    <path clip-path=\"url(#pb730f2c8a4)\" d=\"M 756.581731 474.076794 \nL 756.581731 141.436794 \n\" style=\"fill:none;stroke:#ffffff;stroke-linecap:square;stroke-width:1.5;\"/>\n   </g>\n   <g id=\"line2d_32\">\n    <path clip-path=\"url(#pb730f2c8a4)\" d=\"M 781.731971 474.076794 \nL 781.731971 141.436794 \n\" style=\"fill:none;stroke:#ffffff;stroke-linecap:square;stroke-width:1.5;\"/>\n   </g>\n   <g id=\"line2d_33\">\n    <path clip-path=\"url(#pb730f2c8a4)\" d=\"M 806.882212 474.076794 \nL 806.882212 141.436794 \n\" style=\"fill:none;stroke:#ffffff;stroke-linecap:square;stroke-width:1.5;\"/>\n   </g>\n   <g id=\"line2d_34\">\n    <path clip-path=\"url(#pb730f2c8a4)\" d=\"M 832.032452 474.076794 \nL 832.032452 141.436794 \n\" style=\"fill:none;stroke:#ffffff;stroke-linecap:square;stroke-width:1.5;\"/>\n   </g>\n  </g>\n </g>\n <defs>\n  <clipPath id=\"pb8920da5ed\">\n   <rect height=\"332.64\" width=\"53.653846\" x=\"891.521154\" y=\"141.436794\"/>\n  </clipPath>\n  <clipPath id=\"pb730f2c8a4\">\n   <rect height=\"332.64\" width=\"804.807692\" x=\"52.375\" y=\"141.436794\"/>\n  </clipPath>\n </defs>\n</svg>\n",
            "image/png": "[encoded data removed]"
          },
          "metadata": {}
        }
      ]
    },
    {
      "cell_type": "code",
      "metadata": {
        "colab": {
          "base_uri": "https://localhost:8080/"
        },
        "id": "OOzxh7E5Us4B",
        "outputId": "4a4985f2-91f8-4a7a-8ea4-b1a72e7dc4c3"
      },
      "source": [
        "print(\"Overview of the missing values in the key_stats dataframe\\n\")\n",
        "key_stats_summary = key_stats_df.isna().sum()           \\\n",
        "                        .sort_values(ascending=False)   \\\n",
        "                        .apply(lambda x: f\"{round(100*x/len(key_stats_df.index), 3)}%\")\n",
        "key_stats_summary"
      ],
      "execution_count": 31,
      "outputs": [
        {
          "output_type": "stream",
          "name": "stdout",
          "text": [
            "Overview of the missing values in the key_stats dataframe\n\n"
          ]
        },
        {
          "output_type": "execute_result",
          "data": {
            "text/plain": [
              "Forward P/E                  41.251%\n",
              "DE Ratio                     16.886%\n",
              "Earnings Growth              15.966%\n",
              "Enterprise Value/EBITDA      10.633%\n",
              "EBITDA                        10.37%\n",
              "Current Ratio                 10.37%\n",
              "Cash Flow                     9.801%\n",
              "Trailing P/E                  8.432%\n",
              "Beta                          4.413%\n",
              "PEG Ratio                     4.325%\n",
              "Gross Profit                   3.92%\n",
              "Total Debt                    3.844%\n",
              "Price                         3.657%\n",
              "Return on Equity              3.011%\n",
              "Return on Assets              2.508%\n",
              "Price/Book                    2.354%\n",
              "Revenue Growth                2.146%\n",
              "Operating Margin              1.391%\n",
              "Enterprise Value/Revenue      0.942%\n",
              "Revenue                       0.909%\n",
              "Total Cash                    0.854%\n",
              "Enterprise Value              0.723%\n",
              "Total Cash Per Share          0.712%\n",
              "Profit Margin                 0.712%\n",
              "Price/Sales                   0.548%\n",
              "Book Value Per Share          0.449%\n",
              "Diluted EPS                   0.296%\n",
              "Market Cap                    0.285%\n",
              "Revenue Per Share             0.241%\n",
              "Net Income Avl to Common      0.055%\n",
              "Ticker                          0.0%\n",
              "Date                            0.0%\n",
              "dtype: object"
            ]
          },
          "metadata": {},
          "execution_count": 31
        }
      ]
    },
    {
      "cell_type": "code",
      "metadata": {
        "colab": {
          "base_uri": "https://localhost:8080/",
          "height": 542
        },
        "id": "NXUCmdbSPnXN",
        "outputId": "8472ec90-683d-4ebc-a264-47c718981180"
      },
      "source": [
        "summary = prices_df_nan_summary(prices_dfs, dfs_names)\n",
        "px.bar(summary, x='Stock name', y='Missing data (%)', hover_data=['Count'], title=\"Stock price dataset before preprocessing (only columns with missing values are displayed)\")"
      ],
      "execution_count": 32,
      "outputs": [
        {
          "output_type": "display_data",
          "data": {
            "application/vnd.plotly.v1+json": {
              "config": {
                "plotlyServerURL": "https://plot.ly"
              },
              "data": [
                {
                  "alignmentgroup": "True",
                  "customdata": [
                    [
                      57
                    ],
                    [
                      4
                    ],
                    [
                      4
                    ],
                    [
                      4
                    ],
                    [
                      18
                    ],
                    [
                      1
                    ],
                    [
                      3
                    ],
                    [
                      4
                    ],
                    [
                      4
                    ],
                    [
                      68
                    ],
                    [
                      1163
                    ],
                    [
                      469
                    ],
                    [
                      4
                    ],
                    [
                      836
                    ],
                    [
                      4
                    ],
                    [
                      4
                    ],
                    [
                      1
                    ],
                    [
                      587
                    ],
                    [
                      577
                    ],
                    [
                      1
                    ]
                  ],
                  "hovertemplate": "Stock name=%{x}<br>Missing data (%)=%{y}<br>Count=%{customdata[0]}<extra></extra>",
                  "legendgroup": "",
                  "marker": {
                    "color": "#636efa"
                  },
                  "name": "",
                  "offsetgroup": "",
                  "orientation": "v",
                  "showlegend": false,
                  "textposition": "auto",
                  "type": "bar",
                  "x": [
                    "CHMD",
                    "GS-PJ",
                    "FPLPF",
                    "KGNR",
                    "NOXL",
                    "ATURF",
                    "WSPOF",
                    "TCYSF",
                    "XLEFF",
                    "IFGNF",
                    "CTQ",
                    "BHI",
                    "KACPF",
                    "INTH",
                    "MS-PF",
                    "RSNHF",
                    "SIVB",
                    "SONC",
                    "CPICQ",
                    "AAPL"
                  ],
                  "xaxis": "x",
                  "y": [
                    4.754,
                    0.199,
                    0.18,
                    0.271,
                    0.29,
                    0.039,
                    0.146,
                    0.195,
                    0.18,
                    2.557,
                    46.876,
                    70.739,
                    0.198,
                    13.929,
                    0.216,
                    0.231,
                    0.012,
                    26.418,
                    5.911,
                    0.01
                  ],
                  "yaxis": "y"
                }
              ],
              "layout": {
                "barmode": "relative",
                "legend": {
                  "tracegroupgap": 0
                },
                "template": {
                  "data": {
                    "bar": [
                      {
                        "error_x": {
                          "color": "#2a3f5f"
                        },
                        "error_y": {
                          "color": "#2a3f5f"
                        },
                        "marker": {
                          "line": {
                            "color": "#E5ECF6",
                            "width": 0.5
                          }
                        },
                        "type": "bar"
                      }
                    ],
                    "barpolar": [
                      {
                        "marker": {
                          "line": {
                            "color": "#E5ECF6",
                            "width": 0.5
                          }
                        },
                        "type": "barpolar"
                      }
                    ],
                    "carpet": [
                      {
                        "aaxis": {
                          "endlinecolor": "#2a3f5f",
                          "gridcolor": "white",
                          "linecolor": "white",
                          "minorgridcolor": "white",
                          "startlinecolor": "#2a3f5f"
                        },
                        "baxis": {
                          "endlinecolor": "#2a3f5f",
                          "gridcolor": "white",
                          "linecolor": "white",
                          "minorgridcolor": "white",
                          "startlinecolor": "#2a3f5f"
                        },
                        "type": "carpet"
                      }
                    ],
                    "choropleth": [
                      {
                        "colorbar": {
                          "outlinewidth": 0,
                          "ticks": ""
                        },
                        "type": "choropleth"
                      }
                    ],
                    "contour": [
                      {
                        "colorbar": {
                          "outlinewidth": 0,
                          "ticks": ""
                        },
                        "colorscale": [
                          [
                            0,
                            "#0d0887"
                          ],
                          [
                            0.1111111111111111,
                            "#46039f"
                          ],
                          [
                            0.2222222222222222,
                            "#7201a8"
                          ],
                          [
                            0.3333333333333333,
                            "#9c179e"
                          ],
                          [
                            0.4444444444444444,
                            "#bd3786"
                          ],
                          [
                            0.5555555555555556,
                            "#d8576b"
                          ],
                          [
                            0.6666666666666666,
                            "#ed7953"
                          ],
                          [
                            0.7777777777777778,
                            "#fb9f3a"
                          ],
                          [
                            0.8888888888888888,
                            "#fdca26"
                          ],
                          [
                            1,
                            "#f0f921"
                          ]
                        ],
                        "type": "contour"
                      }
                    ],
                    "contourcarpet": [
                      {
                        "colorbar": {
                          "outlinewidth": 0,
                          "ticks": ""
                        },
                        "type": "contourcarpet"
                      }
                    ],
                    "heatmap": [
                      {
                        "colorbar": {
                          "outlinewidth": 0,
                          "ticks": ""
                        },
                        "colorscale": [
                          [
                            0,
                            "#0d0887"
                          ],
                          [
                            0.1111111111111111,
                            "#46039f"
                          ],
                          [
                            0.2222222222222222,
                            "#7201a8"
                          ],
                          [
                            0.3333333333333333,
                            "#9c179e"
                          ],
                          [
                            0.4444444444444444,
                            "#bd3786"
                          ],
                          [
                            0.5555555555555556,
                            "#d8576b"
                          ],
                          [
                            0.6666666666666666,
                            "#ed7953"
                          ],
                          [
                            0.7777777777777778,
                            "#fb9f3a"
                          ],
                          [
                            0.8888888888888888,
                            "#fdca26"
                          ],
                          [
                            1,
                            "#f0f921"
                          ]
                        ],
                        "type": "heatmap"
                      }
                    ],
                    "heatmapgl": [
                      {
                        "colorbar": {
                          "outlinewidth": 0,
                          "ticks": ""
                        },
                        "colorscale": [
                          [
                            0,
                            "#0d0887"
                          ],
                          [
                            0.1111111111111111,
                            "#46039f"
                          ],
                          [
                            0.2222222222222222,
                            "#7201a8"
                          ],
                          [
                            0.3333333333333333,
                            "#9c179e"
                          ],
                          [
                            0.4444444444444444,
                            "#bd3786"
                          ],
                          [
                            0.5555555555555556,
                            "#d8576b"
                          ],
                          [
                            0.6666666666666666,
                            "#ed7953"
                          ],
                          [
                            0.7777777777777778,
                            "#fb9f3a"
                          ],
                          [
                            0.8888888888888888,
                            "#fdca26"
                          ],
                          [
                            1,
                            "#f0f921"
                          ]
                        ],
                        "type": "heatmapgl"
                      }
                    ],
                    "histogram": [
                      {
                        "marker": {
                          "colorbar": {
                            "outlinewidth": 0,
                            "ticks": ""
                          }
                        },
                        "type": "histogram"
                      }
                    ],
                    "histogram2d": [
                      {
                        "colorbar": {
                          "outlinewidth": 0,
                          "ticks": ""
                        },
                        "colorscale": [
                          [
                            0,
                            "#0d0887"
                          ],
                          [
                            0.1111111111111111,
                            "#46039f"
                          ],
                          [
                            0.2222222222222222,
                            "#7201a8"
                          ],
                          [
                            0.3333333333333333,
                            "#9c179e"
                          ],
                          [
                            0.4444444444444444,
                            "#bd3786"
                          ],
                          [
                            0.5555555555555556,
                            "#d8576b"
                          ],
                          [
                            0.6666666666666666,
                            "#ed7953"
                          ],
                          [
                            0.7777777777777778,
                            "#fb9f3a"
                          ],
                          [
                            0.8888888888888888,
                            "#fdca26"
                          ],
                          [
                            1,
                            "#f0f921"
                          ]
                        ],
                        "type": "histogram2d"
                      }
                    ],
                    "histogram2dcontour": [
                      {
                        "colorbar": {
                          "outlinewidth": 0,
                          "ticks": ""
                        },
                        "colorscale": [
                          [
                            0,
                            "#0d0887"
                          ],
                          [
                            0.1111111111111111,
                            "#46039f"
                          ],
                          [
                            0.2222222222222222,
                            "#7201a8"
                          ],
                          [
                            0.3333333333333333,
                            "#9c179e"
                          ],
                          [
                            0.4444444444444444,
                            "#bd3786"
                          ],
                          [
                            0.5555555555555556,
                            "#d8576b"
                          ],
                          [
                            0.6666666666666666,
                            "#ed7953"
                          ],
                          [
                            0.7777777777777778,
                            "#fb9f3a"
                          ],
                          [
                            0.8888888888888888,
                            "#fdca26"
                          ],
                          [
                            1,
                            "#f0f921"
                          ]
                        ],
                        "type": "histogram2dcontour"
                      }
                    ],
                    "mesh3d": [
                      {
                        "colorbar": {
                          "outlinewidth": 0,
                          "ticks": ""
                        },
                        "type": "mesh3d"
                      }
                    ],
                    "parcoords": [
                      {
                        "line": {
                          "colorbar": {
                            "outlinewidth": 0,
                            "ticks": ""
                          }
                        },
                        "type": "parcoords"
                      }
                    ],
                    "pie": [
                      {
                        "automargin": true,
                        "type": "pie"
                      }
                    ],
                    "scatter": [
                      {
                        "marker": {
                          "colorbar": {
                            "outlinewidth": 0,
                            "ticks": ""
                          }
                        },
                        "type": "scatter"
                      }
                    ],
                    "scatter3d": [
                      {
                        "line": {
                          "colorbar": {
                            "outlinewidth": 0,
                            "ticks": ""
                          }
                        },
                        "marker": {
                          "colorbar": {
                            "outlinewidth": 0,
                            "ticks": ""
                          }
                        },
                        "type": "scatter3d"
                      }
                    ],
                    "scattercarpet": [
                      {
                        "marker": {
                          "colorbar": {
                            "outlinewidth": 0,
                            "ticks": ""
                          }
                        },
                        "type": "scattercarpet"
                      }
                    ],
                    "scattergeo": [
                      {
                        "marker": {
                          "colorbar": {
                            "outlinewidth": 0,
                            "ticks": ""
                          }
                        },
                        "type": "scattergeo"
                      }
                    ],
                    "scattergl": [
                      {
                        "marker": {
                          "colorbar": {
                            "outlinewidth": 0,
                            "ticks": ""
                          }
                        },
                        "type": "scattergl"
                      }
                    ],
                    "scattermapbox": [
                      {
                        "marker": {
                          "colorbar": {
                            "outlinewidth": 0,
                            "ticks": ""
                          }
                        },
                        "type": "scattermapbox"
                      }
                    ],
                    "scatterpolar": [
                      {
                        "marker": {
                          "colorbar": {
                            "outlinewidth": 0,
                            "ticks": ""
                          }
                        },
                        "type": "scatterpolar"
                      }
                    ],
                    "scatterpolargl": [
                      {
                        "marker": {
                          "colorbar": {
                            "outlinewidth": 0,
                            "ticks": ""
                          }
                        },
                        "type": "scatterpolargl"
                      }
                    ],
                    "scatterternary": [
                      {
                        "marker": {
                          "colorbar": {
                            "outlinewidth": 0,
                            "ticks": ""
                          }
                        },
                        "type": "scatterternary"
                      }
                    ],
                    "surface": [
                      {
                        "colorbar": {
                          "outlinewidth": 0,
                          "ticks": ""
                        },
                        "colorscale": [
                          [
                            0,
                            "#0d0887"
                          ],
                          [
                            0.1111111111111111,
                            "#46039f"
                          ],
                          [
                            0.2222222222222222,
                            "#7201a8"
                          ],
                          [
                            0.3333333333333333,
                            "#9c179e"
                          ],
                          [
                            0.4444444444444444,
                            "#bd3786"
                          ],
                          [
                            0.5555555555555556,
                            "#d8576b"
                          ],
                          [
                            0.6666666666666666,
                            "#ed7953"
                          ],
                          [
                            0.7777777777777778,
                            "#fb9f3a"
                          ],
                          [
                            0.8888888888888888,
                            "#fdca26"
                          ],
                          [
                            1,
                            "#f0f921"
                          ]
                        ],
                        "type": "surface"
                      }
                    ],
                    "table": [
                      {
                        "cells": {
                          "fill": {
                            "color": "#EBF0F8"
                          },
                          "line": {
                            "color": "white"
                          }
                        },
                        "header": {
                          "fill": {
                            "color": "#C8D4E3"
                          },
                          "line": {
                            "color": "white"
                          }
                        },
                        "type": "table"
                      }
                    ]
                  },
                  "layout": {
                    "annotationdefaults": {
                      "arrowcolor": "#2a3f5f",
                      "arrowhead": 0,
                      "arrowwidth": 1
                    },
                    "autotypenumbers": "strict",
                    "coloraxis": {
                      "colorbar": {
                        "outlinewidth": 0,
                        "ticks": ""
                      }
                    },
                    "colorscale": {
                      "diverging": [
                        [
                          0,
                          "#8e0152"
                        ],
                        [
                          0.1,
                          "#c51b7d"
                        ],
                        [
                          0.2,
                          "#de77ae"
                        ],
                        [
                          0.3,
                          "#f1b6da"
                        ],
                        [
                          0.4,
                          "#fde0ef"
                        ],
                        [
                          0.5,
                          "#f7f7f7"
                        ],
                        [
                          0.6,
                          "#e6f5d0"
                        ],
                        [
                          0.7,
                          "#b8e186"
                        ],
                        [
                          0.8,
                          "#7fbc41"
                        ],
                        [
                          0.9,
                          "#4d9221"
                        ],
                        [
                          1,
                          "#276419"
                        ]
                      ],
                      "sequential": [
                        [
                          0,
                          "#0d0887"
                        ],
                        [
                          0.1111111111111111,
                          "#46039f"
                        ],
                        [
                          0.2222222222222222,
                          "#7201a8"
                        ],
                        [
                          0.3333333333333333,
                          "#9c179e"
                        ],
                        [
                          0.4444444444444444,
                          "#bd3786"
                        ],
                        [
                          0.5555555555555556,
                          "#d8576b"
                        ],
                        [
                          0.6666666666666666,
                          "#ed7953"
                        ],
                        [
                          0.7777777777777778,
                          "#fb9f3a"
                        ],
                        [
                          0.8888888888888888,
                          "#fdca26"
                        ],
                        [
                          1,
                          "#f0f921"
                        ]
                      ],
                      "sequentialminus": [
                        [
                          0,
                          "#0d0887"
                        ],
                        [
                          0.1111111111111111,
                          "#46039f"
                        ],
                        [
                          0.2222222222222222,
                          "#7201a8"
                        ],
                        [
                          0.3333333333333333,
                          "#9c179e"
                        ],
                        [
                          0.4444444444444444,
                          "#bd3786"
                        ],
                        [
                          0.5555555555555556,
                          "#d8576b"
                        ],
                        [
                          0.6666666666666666,
                          "#ed7953"
                        ],
                        [
                          0.7777777777777778,
                          "#fb9f3a"
                        ],
                        [
                          0.8888888888888888,
                          "#fdca26"
                        ],
                        [
                          1,
                          "#f0f921"
                        ]
                      ]
                    },
                    "colorway": [
                      "#636efa",
                      "#EF553B",
                      "#00cc96",
                      "#ab63fa",
                      "#FFA15A",
                      "#19d3f3",
                      "#FF6692",
                      "#B6E880",
                      "#FF97FF",
                      "#FECB52"
                    ],
                    "font": {
                      "color": "#2a3f5f"
                    },
                    "geo": {
                      "bgcolor": "white",
                      "lakecolor": "white",
                      "landcolor": "#E5ECF6",
                      "showlakes": true,
                      "showland": true,
                      "subunitcolor": "white"
                    },
                    "hoverlabel": {
                      "align": "left"
                    },
                    "hovermode": "closest",
                    "mapbox": {
                      "style": "light"
                    },
                    "paper_bgcolor": "white",
                    "plot_bgcolor": "#E5ECF6",
                    "polar": {
                      "angularaxis": {
                        "gridcolor": "white",
                        "linecolor": "white",
                        "ticks": ""
                      },
                      "bgcolor": "#E5ECF6",
                      "radialaxis": {
                        "gridcolor": "white",
                        "linecolor": "white",
                        "ticks": ""
                      }
                    },
                    "scene": {
                      "xaxis": {
                        "backgroundcolor": "#E5ECF6",
                        "gridcolor": "white",
                        "gridwidth": 2,
                        "linecolor": "white",
                        "showbackground": true,
                        "ticks": "",
                        "zerolinecolor": "white"
                      },
                      "yaxis": {
                        "backgroundcolor": "#E5ECF6",
                        "gridcolor": "white",
                        "gridwidth": 2,
                        "linecolor": "white",
                        "showbackground": true,
                        "ticks": "",
                        "zerolinecolor": "white"
                      },
                      "zaxis": {
                        "backgroundcolor": "#E5ECF6",
                        "gridcolor": "white",
                        "gridwidth": 2,
                        "linecolor": "white",
                        "showbackground": true,
                        "ticks": "",
                        "zerolinecolor": "white"
                      }
                    },
                    "shapedefaults": {
                      "line": {
                        "color": "#2a3f5f"
                      }
                    },
                    "ternary": {
                      "aaxis": {
                        "gridcolor": "white",
                        "linecolor": "white",
                        "ticks": ""
                      },
                      "baxis": {
                        "gridcolor": "white",
                        "linecolor": "white",
                        "ticks": ""
                      },
                      "bgcolor": "#E5ECF6",
                      "caxis": {
                        "gridcolor": "white",
                        "linecolor": "white",
                        "ticks": ""
                      }
                    },
                    "title": {
                      "x": 0.05
                    },
                    "xaxis": {
                      "automargin": true,
                      "gridcolor": "white",
                      "linecolor": "white",
                      "ticks": "",
                      "title": {
                        "standoff": 15
                      },
                      "zerolinecolor": "white",
                      "zerolinewidth": 2
                    },
                    "yaxis": {
                      "automargin": true,
                      "gridcolor": "white",
                      "linecolor": "white",
                      "ticks": "",
                      "title": {
                        "standoff": 15
                      },
                      "zerolinecolor": "white",
                      "zerolinewidth": 2
                    }
                  }
                },
                "title": {
                  "text": "Stock price dataset before preprocessing (only columns with missing values are displayed)"
                },
                "xaxis": {
                  "anchor": "y",
                  "domain": [
                    0,
                    1
                  ],
                  "title": {
                    "text": "Stock name"
                  }
                },
                "yaxis": {
                  "anchor": "x",
                  "domain": [
                    0,
                    1
                  ],
                  "title": {
                    "text": "Missing data (%)"
                  }
                }
              }
            }
          },
          "metadata": {}
        }
      ]
    },
    {
      "cell_type": "markdown",
      "metadata": {
        "id": "hBbElSVujmB7"
      },
      "source": [
        "For most of the above stocks with missing values, we noticed that they indeed exist up to a given time and after that no more data is available. It may due to a business failure, hence no more stocks will be exchanged from that moment on."
      ]
    },
    {
      "cell_type": "code",
      "metadata": {
        "colab": {
          "base_uri": "https://localhost:8080/",
          "height": 542
        },
        "id": "wtGO1GP96Fh6",
        "outputId": "199a964e-abc7-42b8-d724-59f2f34c969c"
      },
      "source": [
        "# Clear our input data from training NaN values\n",
        "prices_dfs_new = [remove_trailing_nan(df,name) for df,name in zip(prices_dfs, dfs_names)]\n",
        "\n",
        "# Remove INTH stock from our dataset since it contains many inactivity periods\n",
        "inth_idx = dfs_names.index('INTH')\n",
        "del dfs_names[inth_idx]\n",
        "del prices_dfs_new[inth_idx]\n",
        "\n",
        "summary = prices_df_nan_summary(prices_dfs_new, dfs_names)\n",
        "px.bar(summary, x='Stock name', y='Missing data (%)', hover_data=['Count'], title=\"Stock price dataset after preprocessing (only columns with missing values are displayed)\")"
      ],
      "execution_count": 33,
      "outputs": [
        {
          "output_type": "display_data",
          "data": {
            "application/vnd.plotly.v1+json": {
              "config": {
                "plotlyServerURL": "https://plot.ly"
              },
              "data": [
                {
                  "alignmentgroup": "True",
                  "customdata": [
                    [
                      4
                    ],
                    [
                      1
                    ],
                    [
                      1
                    ],
                    [
                      18
                    ],
                    [
                      1
                    ],
                    [
                      3
                    ],
                    [
                      1
                    ],
                    [
                      1
                    ],
                    [
                      1
                    ],
                    [
                      1
                    ],
                    [
                      4
                    ],
                    [
                      1
                    ],
                    [
                      1
                    ],
                    [
                      1
                    ],
                    [
                      9
                    ],
                    [
                      1
                    ]
                  ],
                  "hovertemplate": "Stock name=%{x}<br>Missing data (%)=%{y}<br>Count=%{customdata[0]}<extra></extra>",
                  "legendgroup": "",
                  "marker": {
                    "color": "#636efa"
                  },
                  "name": "",
                  "offsetgroup": "",
                  "orientation": "v",
                  "showlegend": false,
                  "textposition": "auto",
                  "type": "bar",
                  "x": [
                    "GS-PJ",
                    "FPLPF",
                    "KGNR",
                    "NOXL",
                    "ATURF",
                    "WSPOF",
                    "TCYSF",
                    "XLEFF",
                    "BHI",
                    "KACPF",
                    "MS-PF",
                    "RSNHF",
                    "SIVB",
                    "SONC",
                    "CPICQ",
                    "AAPL"
                  ],
                  "xaxis": "x",
                  "y": [
                    0.199,
                    0.045,
                    0.068,
                    0.29,
                    0.039,
                    0.146,
                    0.049,
                    0.045,
                    0.513,
                    0.05,
                    0.216,
                    0.058,
                    0.012,
                    0.061,
                    0.098,
                    0.01
                  ],
                  "yaxis": "y"
                }
              ],
              "layout": {
                "barmode": "relative",
                "legend": {
                  "tracegroupgap": 0
                },
                "template": {
                  "data": {
                    "bar": [
                      {
                        "error_x": {
                          "color": "#2a3f5f"
                        },
                        "error_y": {
                          "color": "#2a3f5f"
                        },
                        "marker": {
                          "line": {
                            "color": "#E5ECF6",
                            "width": 0.5
                          }
                        },
                        "type": "bar"
                      }
                    ],
                    "barpolar": [
                      {
                        "marker": {
                          "line": {
                            "color": "#E5ECF6",
                            "width": 0.5
                          }
                        },
                        "type": "barpolar"
                      }
                    ],
                    "carpet": [
                      {
                        "aaxis": {
                          "endlinecolor": "#2a3f5f",
                          "gridcolor": "white",
                          "linecolor": "white",
                          "minorgridcolor": "white",
                          "startlinecolor": "#2a3f5f"
                        },
                        "baxis": {
                          "endlinecolor": "#2a3f5f",
                          "gridcolor": "white",
                          "linecolor": "white",
                          "minorgridcolor": "white",
                          "startlinecolor": "#2a3f5f"
                        },
                        "type": "carpet"
                      }
                    ],
                    "choropleth": [
                      {
                        "colorbar": {
                          "outlinewidth": 0,
                          "ticks": ""
                        },
                        "type": "choropleth"
                      }
                    ],
                    "contour": [
                      {
                        "colorbar": {
                          "outlinewidth": 0,
                          "ticks": ""
                        },
                        "colorscale": [
                          [
                            0,
                            "#0d0887"
                          ],
                          [
                            0.1111111111111111,
                            "#46039f"
                          ],
                          [
                            0.2222222222222222,
                            "#7201a8"
                          ],
                          [
                            0.3333333333333333,
                            "#9c179e"
                          ],
                          [
                            0.4444444444444444,
                            "#bd3786"
                          ],
                          [
                            0.5555555555555556,
                            "#d8576b"
                          ],
                          [
                            0.6666666666666666,
                            "#ed7953"
                          ],
                          [
                            0.7777777777777778,
                            "#fb9f3a"
                          ],
                          [
                            0.8888888888888888,
                            "#fdca26"
                          ],
                          [
                            1,
                            "#f0f921"
                          ]
                        ],
                        "type": "contour"
                      }
                    ],
                    "contourcarpet": [
                      {
                        "colorbar": {
                          "outlinewidth": 0,
                          "ticks": ""
                        },
                        "type": "contourcarpet"
                      }
                    ],
                    "heatmap": [
                      {
                        "colorbar": {
                          "outlinewidth": 0,
                          "ticks": ""
                        },
                        "colorscale": [
                          [
                            0,
                            "#0d0887"
                          ],
                          [
                            0.1111111111111111,
                            "#46039f"
                          ],
                          [
                            0.2222222222222222,
                            "#7201a8"
                          ],
                          [
                            0.3333333333333333,
                            "#9c179e"
                          ],
                          [
                            0.4444444444444444,
                            "#bd3786"
                          ],
                          [
                            0.5555555555555556,
                            "#d8576b"
                          ],
                          [
                            0.6666666666666666,
                            "#ed7953"
                          ],
                          [
                            0.7777777777777778,
                            "#fb9f3a"
                          ],
                          [
                            0.8888888888888888,
                            "#fdca26"
                          ],
                          [
                            1,
                            "#f0f921"
                          ]
                        ],
                        "type": "heatmap"
                      }
                    ],
                    "heatmapgl": [
                      {
                        "colorbar": {
                          "outlinewidth": 0,
                          "ticks": ""
                        },
                        "colorscale": [
                          [
                            0,
                            "#0d0887"
                          ],
                          [
                            0.1111111111111111,
                            "#46039f"
                          ],
                          [
                            0.2222222222222222,
                            "#7201a8"
                          ],
                          [
                            0.3333333333333333,
                            "#9c179e"
                          ],
                          [
                            0.4444444444444444,
                            "#bd3786"
                          ],
                          [
                            0.5555555555555556,
                            "#d8576b"
                          ],
                          [
                            0.6666666666666666,
                            "#ed7953"
                          ],
                          [
                            0.7777777777777778,
                            "#fb9f3a"
                          ],
                          [
                            0.8888888888888888,
                            "#fdca26"
                          ],
                          [
                            1,
                            "#f0f921"
                          ]
                        ],
                        "type": "heatmapgl"
                      }
                    ],
                    "histogram": [
                      {
                        "marker": {
                          "colorbar": {
                            "outlinewidth": 0,
                            "ticks": ""
                          }
                        },
                        "type": "histogram"
                      }
                    ],
                    "histogram2d": [
                      {
                        "colorbar": {
                          "outlinewidth": 0,
                          "ticks": ""
                        },
                        "colorscale": [
                          [
                            0,
                            "#0d0887"
                          ],
                          [
                            0.1111111111111111,
                            "#46039f"
                          ],
                          [
                            0.2222222222222222,
                            "#7201a8"
                          ],
                          [
                            0.3333333333333333,
                            "#9c179e"
                          ],
                          [
                            0.4444444444444444,
                            "#bd3786"
                          ],
                          [
                            0.5555555555555556,
                            "#d8576b"
                          ],
                          [
                            0.6666666666666666,
                            "#ed7953"
                          ],
                          [
                            0.7777777777777778,
                            "#fb9f3a"
                          ],
                          [
                            0.8888888888888888,
                            "#fdca26"
                          ],
                          [
                            1,
                            "#f0f921"
                          ]
                        ],
                        "type": "histogram2d"
                      }
                    ],
                    "histogram2dcontour": [
                      {
                        "colorbar": {
                          "outlinewidth": 0,
                          "ticks": ""
                        },
                        "colorscale": [
                          [
                            0,
                            "#0d0887"
                          ],
                          [
                            0.1111111111111111,
                            "#46039f"
                          ],
                          [
                            0.2222222222222222,
                            "#7201a8"
                          ],
                          [
                            0.3333333333333333,
                            "#9c179e"
                          ],
                          [
                            0.4444444444444444,
                            "#bd3786"
                          ],
                          [
                            0.5555555555555556,
                            "#d8576b"
                          ],
                          [
                            0.6666666666666666,
                            "#ed7953"
                          ],
                          [
                            0.7777777777777778,
                            "#fb9f3a"
                          ],
                          [
                            0.8888888888888888,
                            "#fdca26"
                          ],
                          [
                            1,
                            "#f0f921"
                          ]
                        ],
                        "type": "histogram2dcontour"
                      }
                    ],
                    "mesh3d": [
                      {
                        "colorbar": {
                          "outlinewidth": 0,
                          "ticks": ""
                        },
                        "type": "mesh3d"
                      }
                    ],
                    "parcoords": [
                      {
                        "line": {
                          "colorbar": {
                            "outlinewidth": 0,
                            "ticks": ""
                          }
                        },
                        "type": "parcoords"
                      }
                    ],
                    "pie": [
                      {
                        "automargin": true,
                        "type": "pie"
                      }
                    ],
                    "scatter": [
                      {
                        "marker": {
                          "colorbar": {
                            "outlinewidth": 0,
                            "ticks": ""
                          }
                        },
                        "type": "scatter"
                      }
                    ],
                    "scatter3d": [
                      {
                        "line": {
                          "colorbar": {
                            "outlinewidth": 0,
                            "ticks": ""
                          }
                        },
                        "marker": {
                          "colorbar": {
                            "outlinewidth": 0,
                            "ticks": ""
                          }
                        },
                        "type": "scatter3d"
                      }
                    ],
                    "scattercarpet": [
                      {
                        "marker": {
                          "colorbar": {
                            "outlinewidth": 0,
                            "ticks": ""
                          }
                        },
                        "type": "scattercarpet"
                      }
                    ],
                    "scattergeo": [
                      {
                        "marker": {
                          "colorbar": {
                            "outlinewidth": 0,
                            "ticks": ""
                          }
                        },
                        "type": "scattergeo"
                      }
                    ],
                    "scattergl": [
                      {
                        "marker": {
                          "colorbar": {
                            "outlinewidth": 0,
                            "ticks": ""
                          }
                        },
                        "type": "scattergl"
                      }
                    ],
                    "scattermapbox": [
                      {
                        "marker": {
                          "colorbar": {
                            "outlinewidth": 0,
                            "ticks": ""
                          }
                        },
                        "type": "scattermapbox"
                      }
                    ],
                    "scatterpolar": [
                      {
                        "marker": {
                          "colorbar": {
                            "outlinewidth": 0,
                            "ticks": ""
                          }
                        },
                        "type": "scatterpolar"
                      }
                    ],
                    "scatterpolargl": [
                      {
                        "marker": {
                          "colorbar": {
                            "outlinewidth": 0,
                            "ticks": ""
                          }
                        },
                        "type": "scatterpolargl"
                      }
                    ],
                    "scatterternary": [
                      {
                        "marker": {
                          "colorbar": {
                            "outlinewidth": 0,
                            "ticks": ""
                          }
                        },
                        "type": "scatterternary"
                      }
                    ],
                    "surface": [
                      {
                        "colorbar": {
                          "outlinewidth": 0,
                          "ticks": ""
                        },
                        "colorscale": [
                          [
                            0,
                            "#0d0887"
                          ],
                          [
                            0.1111111111111111,
                            "#46039f"
                          ],
                          [
                            0.2222222222222222,
                            "#7201a8"
                          ],
                          [
                            0.3333333333333333,
                            "#9c179e"
                          ],
                          [
                            0.4444444444444444,
                            "#bd3786"
                          ],
                          [
                            0.5555555555555556,
                            "#d8576b"
                          ],
                          [
                            0.6666666666666666,
                            "#ed7953"
                          ],
                          [
                            0.7777777777777778,
                            "#fb9f3a"
                          ],
                          [
                            0.8888888888888888,
                            "#fdca26"
                          ],
                          [
                            1,
                            "#f0f921"
                          ]
                        ],
                        "type": "surface"
                      }
                    ],
                    "table": [
                      {
                        "cells": {
                          "fill": {
                            "color": "#EBF0F8"
                          },
                          "line": {
                            "color": "white"
                          }
                        },
                        "header": {
                          "fill": {
                            "color": "#C8D4E3"
                          },
                          "line": {
                            "color": "white"
                          }
                        },
                        "type": "table"
                      }
                    ]
                  },
                  "layout": {
                    "annotationdefaults": {
                      "arrowcolor": "#2a3f5f",
                      "arrowhead": 0,
                      "arrowwidth": 1
                    },
                    "autotypenumbers": "strict",
                    "coloraxis": {
                      "colorbar": {
                        "outlinewidth": 0,
                        "ticks": ""
                      }
                    },
                    "colorscale": {
                      "diverging": [
                        [
                          0,
                          "#8e0152"
                        ],
                        [
                          0.1,
                          "#c51b7d"
                        ],
                        [
                          0.2,
                          "#de77ae"
                        ],
                        [
                          0.3,
                          "#f1b6da"
                        ],
                        [
                          0.4,
                          "#fde0ef"
                        ],
                        [
                          0.5,
                          "#f7f7f7"
                        ],
                        [
                          0.6,
                          "#e6f5d0"
                        ],
                        [
                          0.7,
                          "#b8e186"
                        ],
                        [
                          0.8,
                          "#7fbc41"
                        ],
                        [
                          0.9,
                          "#4d9221"
                        ],
                        [
                          1,
                          "#276419"
                        ]
                      ],
                      "sequential": [
                        [
                          0,
                          "#0d0887"
                        ],
                        [
                          0.1111111111111111,
                          "#46039f"
                        ],
                        [
                          0.2222222222222222,
                          "#7201a8"
                        ],
                        [
                          0.3333333333333333,
                          "#9c179e"
                        ],
                        [
                          0.4444444444444444,
                          "#bd3786"
                        ],
                        [
                          0.5555555555555556,
                          "#d8576b"
                        ],
                        [
                          0.6666666666666666,
                          "#ed7953"
                        ],
                        [
                          0.7777777777777778,
                          "#fb9f3a"
                        ],
                        [
                          0.8888888888888888,
                          "#fdca26"
                        ],
                        [
                          1,
                          "#f0f921"
                        ]
                      ],
                      "sequentialminus": [
                        [
                          0,
                          "#0d0887"
                        ],
                        [
                          0.1111111111111111,
                          "#46039f"
                        ],
                        [
                          0.2222222222222222,
                          "#7201a8"
                        ],
                        [
                          0.3333333333333333,
                          "#9c179e"
                        ],
                        [
                          0.4444444444444444,
                          "#bd3786"
                        ],
                        [
                          0.5555555555555556,
                          "#d8576b"
                        ],
                        [
                          0.6666666666666666,
                          "#ed7953"
                        ],
                        [
                          0.7777777777777778,
                          "#fb9f3a"
                        ],
                        [
                          0.8888888888888888,
                          "#fdca26"
                        ],
                        [
                          1,
                          "#f0f921"
                        ]
                      ]
                    },
                    "colorway": [
                      "#636efa",
                      "#EF553B",
                      "#00cc96",
                      "#ab63fa",
                      "#FFA15A",
                      "#19d3f3",
                      "#FF6692",
                      "#B6E880",
                      "#FF97FF",
                      "#FECB52"
                    ],
                    "font": {
                      "color": "#2a3f5f"
                    },
                    "geo": {
                      "bgcolor": "white",
                      "lakecolor": "white",
                      "landcolor": "#E5ECF6",
                      "showlakes": true,
                      "showland": true,
                      "subunitcolor": "white"
                    },
                    "hoverlabel": {
                      "align": "left"
                    },
                    "hovermode": "closest",
                    "mapbox": {
                      "style": "light"
                    },
                    "paper_bgcolor": "white",
                    "plot_bgcolor": "#E5ECF6",
                    "polar": {
                      "angularaxis": {
                        "gridcolor": "white",
                        "linecolor": "white",
                        "ticks": ""
                      },
                      "bgcolor": "#E5ECF6",
                      "radialaxis": {
                        "gridcolor": "white",
                        "linecolor": "white",
                        "ticks": ""
                      }
                    },
                    "scene": {
                      "xaxis": {
                        "backgroundcolor": "#E5ECF6",
                        "gridcolor": "white",
                        "gridwidth": 2,
                        "linecolor": "white",
                        "showbackground": true,
                        "ticks": "",
                        "zerolinecolor": "white"
                      },
                      "yaxis": {
                        "backgroundcolor": "#E5ECF6",
                        "gridcolor": "white",
                        "gridwidth": 2,
                        "linecolor": "white",
                        "showbackground": true,
                        "ticks": "",
                        "zerolinecolor": "white"
                      },
                      "zaxis": {
                        "backgroundcolor": "#E5ECF6",
                        "gridcolor": "white",
                        "gridwidth": 2,
                        "linecolor": "white",
                        "showbackground": true,
                        "ticks": "",
                        "zerolinecolor": "white"
                      }
                    },
                    "shapedefaults": {
                      "line": {
                        "color": "#2a3f5f"
                      }
                    },
                    "ternary": {
                      "aaxis": {
                        "gridcolor": "white",
                        "linecolor": "white",
                        "ticks": ""
                      },
                      "baxis": {
                        "gridcolor": "white",
                        "linecolor": "white",
                        "ticks": ""
                      },
                      "bgcolor": "#E5ECF6",
                      "caxis": {
                        "gridcolor": "white",
                        "linecolor": "white",
                        "ticks": ""
                      }
                    },
                    "title": {
                      "x": 0.05
                    },
                    "xaxis": {
                      "automargin": true,
                      "gridcolor": "white",
                      "linecolor": "white",
                      "ticks": "",
                      "title": {
                        "standoff": 15
                      },
                      "zerolinecolor": "white",
                      "zerolinewidth": 2
                    },
                    "yaxis": {
                      "automargin": true,
                      "gridcolor": "white",
                      "linecolor": "white",
                      "ticks": "",
                      "title": {
                        "standoff": 15
                      },
                      "zerolinecolor": "white",
                      "zerolinewidth": 2
                    }
                  }
                },
                "title": {
                  "text": "Stock price dataset after preprocessing (only columns with missing values are displayed)"
                },
                "xaxis": {
                  "anchor": "y",
                  "domain": [
                    0,
                    1
                  ],
                  "title": {
                    "text": "Stock name"
                  }
                },
                "yaxis": {
                  "anchor": "x",
                  "domain": [
                    0,
                    1
                  ],
                  "title": {
                    "text": "Missing data (%)"
                  }
                }
              }
            }
          },
          "metadata": {}
        }
      ]
    },
    {
      "cell_type": "markdown",
      "metadata": {
        "id": "YGK20OSHYHXQ"
      },
      "source": [
        "At this point we use the fast forward imputation technique to fill-in missing values. Please note that in this case missing values are mostly due to holidays or periods when stocks are not exchanged."
      ]
    },
    {
      "cell_type": "markdown",
      "metadata": {
        "id": "ykn_a6mU171e"
      },
      "source": [
        "### Building our new dataset"
      ]
    },
    {
      "cell_type": "code",
      "metadata": {
        "id": "rKh69IPPVrwi",
        "colab": {
          "base_uri": "https://localhost:8080/",
          "height": 115,
          "referenced_widgets": [
            "3d9cba5583854f52bc7984f8882dbeec",
            "fc6232799f0f456e8d872c61cac2cc25",
            "e846a564397543a0bd257b3c33adb8bf",
            "ef15a868dd7b4fc98b5ae38fa450f352",
            "ab0be0e3b5874af89c00396a67ddf4ae",
            "1577889b2d3644f3bec5383fb823cb91",
            "83ff3f8401ab40c7b8306e032085ce9e",
            "60e65e4bb3794899bbdf133730d68ad6",
            "6c4bc452921a4a72b5d61ba838b28b4b",
            "59962a4fb7b34ed2a7d1cdfd1b4f0535",
            "6bfc7fe5709241339258b7c6590b586b",
            "2eb0a27532424bc4bd74fa0ebe10beef",
            "50fac653a0b24849ad20d6303d5c17a0",
            "d75cad46a45041f7b6a6a6cedef8a98c",
            "5432e8a5c2bc4782aec286148cb89f4d",
            "fb2f0773ac2442308b4ba2a747672a3f"
          ]
        },
        "outputId": "868d8558-3123-4649-c69e-78724be25b20"
      },
      "source": [
        "# Impute missing values in the prices dataset (i.e. fast-forward last valid values)\n",
        "prices_dfs_new = [df.fillna(method='ffill') for df in prices_dfs_new]\n",
        "assert pd.concat(prices_dfs_new).isnull().sum().sum() == 0\n",
        "\n",
        "# In this case this dataframe contains financial reports that may contain NaN values either because that\n",
        "# metric was not available at that time OR because it was monitoring an initial stage of a company growth.\n",
        "# What we do is to apply the classic fast-forward, and fill initial missing values with zeroes.\n",
        "# Please note: we also discard the 'Forward P/E' column since the imputation here would introduce too much noise.\n",
        "key_stats_df_new = key_stats_df.drop('Forward P/E', axis=1).fillna(method='ffill').fillna(0.)\n",
        "assert key_stats_df_new.isnull().sum().sum() == 0\n",
        "\n",
        "# Before merging the two datasets we need to sort them\n",
        "prices_dfs_new = [df.sort_values(by=['Date']).reset_index(drop=True) for df in prices_dfs_new]\n",
        "key_stats_df_new = key_stats_df_new.sort_values(by=['Date']).reset_index(drop=True)\n",
        "\n",
        "# Merge the stock price dataset with fundamental data of the relative company\n",
        "aggregate_dfs = merge_prices_fundamentals(prices_dfs_new, key_stats_df_new, dfs_names)\n",
        "assert pd.concat(aggregate_dfs).isnull().sum().sum() == 0\n",
        "\n",
        "# Fill gaps from the original dataset\n",
        "filled_dfs = fill_missing_days(aggregate_dfs)\n",
        "assert pd.concat(filled_dfs).isnull().sum().sum() == 0"
      ],
      "execution_count": 34,
      "outputs": [
        {
          "output_type": "display_data",
          "data": {
            "text/plain": "Merging the datasets ...:   0%|          | 0/534 [00:00<?, ?it/s]",
            "application/vnd.jupyter.widget-view+json": {
              "version_major": 2,
              "version_minor": 0,
              "model_id": "2a5b3100e4864f24b93549014c67d938"
            }
          },
          "metadata": {}
        },
        {
          "output_type": "display_data",
          "data": {
            "text/plain": "Filling missing days ...:   0%|          | 0/270 [00:00<?, ?it/s]",
            "application/vnd.jupyter.widget-view+json": {
              "version_major": 2,
              "version_minor": 0,
              "model_id": "a85b3a0ead0640cbb5e6cef0eeea7c52"
            }
          },
          "metadata": {}
        }
      ]
    },
    {
      "cell_type": "code",
      "metadata": {
        "id": "wQAUaS-ZGe-t"
      },
      "source": [
        "dfs = filled_dfs\n"
      ],
      "execution_count": 35,
      "outputs": []
    },
    {
      "source": [
        "### Computing technical indicators"
      ],
      "cell_type": "markdown",
      "metadata": {}
    },
    {
      "cell_type": "code",
      "execution_count": 63,
      "metadata": {},
      "outputs": [
        {
          "output_type": "execute_result",
          "data": {
            "text/plain": [
              "\"\\ndef add_rsi(prices, period=14):\\n    ''' Computes the Relative Strength Index from a given NumPy array. \\n        Formula available at https://en.wikipedia.org/wiki/Relative_strength_index.\\n        Also adds overbought and oversold when the RSI index hits 70 or 30.'''\\n    smmau = 0\\n    smmad = 0\\n    prices[0,4] = 50\\n    for i in range(1, prices.shape[0]):\\n        u = max(0, prices[i,2] - prices[i-1,2])\\n        d = max(0, prices[i-1,2] - prices[i,2])\\n        smmau = (smmau * (period - 1) + u) / period\\n        smmad = (smmad * (period - 1) + d) / period\\n        if smmad == 0 or smmau == 0:\\n            prices[i,4] = 50\\n        else:    \\n            rs = smmau / smmad\\n            rsi = 100 - (100/(1+rs))\\n            prices[i,4] = rsi\\n            if rsi >= 70: prices[i,7] = 1\\n            if rsi <= 30: prices[i,8] = 1\""
            ]
          },
          "metadata": {},
          "execution_count": 63
        }
      ],
      "source": [
        "def add_sma(dfs, period=10):\n",
        "    ''' Computes the Simple Moving Average from a given dataframe. '''\n",
        "    for i in range(len(dfs)):\n",
        "        ret = np.cumsum(dfs[i][\"Adjusted Close\"]).to_numpy()\n",
        "        ret[period:] = ret[period:] - ret[:-period]\n",
        "        sma = ret[period - 1:] / period\n",
        "        missing_values = dfs[i].shape[0] - sma.shape[0]\n",
        "        half_missing_values = missing_values//2\n",
        "        sma_points = np.empty(dfs[i].shape[0], dtype=float)\n",
        "        sma_points[half_missing_values:(half_missing_values)+sma.shape[0]] = sma\n",
        "        sma_points[:half_missing_values] = dfs[i][\"Adjusted Close\"][:half_missing_values]\n",
        "        sma_points[half_missing_values+sma.shape[0]:] = dfs[i][\"Adjusted Close\"][half_missing_values+sma.shape[0]:]\n",
        "        dfs[i][\"SMA\"] = sma_points\n",
        "\n",
        "\"\"\"\n",
        "def add_rsi(prices, period=14):\n",
        "    ''' Computes the Relative Strength Index from a given NumPy array. \n",
        "        Formula available at https://en.wikipedia.org/wiki/Relative_strength_index.\n",
        "        Also adds overbought and oversold when the RSI index hits 70 or 30.'''\n",
        "    smmau = 0\n",
        "    smmad = 0\n",
        "    prices[0,4] = 50\n",
        "    for i in range(1, prices.shape[0]):\n",
        "        u = max(0, prices[i,2] - prices[i-1,2])\n",
        "        d = max(0, prices[i-1,2] - prices[i,2])\n",
        "        smmau = (smmau * (period - 1) + u) / period\n",
        "        smmad = (smmad * (period - 1) + d) / period\n",
        "        if smmad == 0 or smmau == 0:\n",
        "            prices[i,4] = 50\n",
        "        else:    \n",
        "            rs = smmau / smmad\n",
        "            rsi = 100 - (100/(1+rs))\n",
        "            prices[i,4] = rsi\n",
        "            if rsi >= 70: prices[i,7] = 1\n",
        "            if rsi <= 30: prices[i,8] = 1\"\"\"\n"
      ]
    },
    {
      "cell_type": "code",
      "execution_count": 64,
      "metadata": {},
      "outputs": [],
      "source": [
        "add_sma(dfs)"
      ]
    },
    {
      "cell_type": "code",
      "execution_count": 66,
      "metadata": {},
      "outputs": [
        {
          "output_type": "execute_result",
          "data": {
            "text/plain": [
              "      DE Ratio  Trailing P/E  Price/Sales  Price/Book  Profit Margin  \\\n",
              "0        0.375          0.00         2.43        4.98          25.56   \n",
              "1        0.375          0.00         2.43        4.98          25.56   \n",
              "2        0.375          0.00         2.43        4.98          25.56   \n",
              "3        0.375          0.00         2.43        4.98          25.56   \n",
              "4        0.375          0.00         2.43        4.98          25.56   \n",
              "...        ...           ...          ...         ...            ...   \n",
              "2582    56.390         17.74         2.32        3.31          13.73   \n",
              "2583    56.390         17.74         2.32        3.31          13.73   \n",
              "2584    56.390         17.74         2.32        3.31          13.73   \n",
              "2585    56.390         17.74         2.32        3.31          13.73   \n",
              "2586    56.390         17.74         2.32        3.31          13.73   \n",
              "\n",
              "      Operating Margin  Return on Assets  Return on Equity  Revenue Per Share  \\\n",
              "0                 6.20             23.59             46.82              13.16   \n",
              "1                 6.20             23.59             46.82              13.16   \n",
              "2                 6.20             23.59             46.82              13.16   \n",
              "3                 6.20             23.59             46.82              13.16   \n",
              "4                 6.20             23.59             46.82              13.16   \n",
              "...                ...               ...               ...                ...   \n",
              "2582             14.04              5.98             19.41              19.80   \n",
              "2583             14.04              5.98             19.41              19.80   \n",
              "2584             14.04              5.98             19.41              19.80   \n",
              "2585             14.04              5.98             19.41              19.80   \n",
              "2586             14.04              5.98             19.41              19.80   \n",
              "\n",
              "        Market Cap  ...  Total Cash Per Share    Total Debt  Current Ratio  \\\n",
              "0     1.532000e+10  ...                  3.49  1.150000e+09          2.284   \n",
              "1     1.532000e+10  ...                  3.49  1.150000e+09          2.284   \n",
              "2     1.532000e+10  ...                  3.49  1.150000e+09          2.284   \n",
              "3     1.532000e+10  ...                  3.49  1.150000e+09          2.284   \n",
              "4     1.532000e+10  ...                  3.49  1.150000e+09          2.284   \n",
              "...            ...  ...                   ...           ...            ...   \n",
              "2582  1.586000e+10  ...                  7.04  2.700000e+09          2.960   \n",
              "2583  1.586000e+10  ...                  7.04  2.700000e+09          2.960   \n",
              "2584  1.586000e+10  ...                  7.04  2.700000e+09          2.960   \n",
              "2585  1.586000e+10  ...                  7.04  2.700000e+09          2.960   \n",
              "2586  1.586000e+10  ...                  7.04  2.700000e+09          2.960   \n",
              "\n",
              "      Book Value Per Share     Cash Flow   Beta       Date   Volume  \\\n",
              "0                    6.394  1.440000e+08  2.496 2004-02-02  4275200   \n",
              "1                    6.394  1.440000e+08  2.496 2004-02-03  2838700   \n",
              "2                    6.394  1.440000e+08  2.496 2004-02-04  4838400   \n",
              "3                    6.394  1.440000e+08  2.496 2004-02-05  4838400   \n",
              "4                    6.394  1.440000e+08  2.496 2004-02-06  4273200   \n",
              "...                    ...           ...    ...        ...      ...   \n",
              "2582                14.460  1.260000e+09  1.810 2013-12-25  1090000   \n",
              "2583                14.460  1.260000e+09  1.810 2013-12-26   998700   \n",
              "2584                14.460  1.260000e+09  1.810 2013-12-27   913000   \n",
              "2585                14.460  1.260000e+09  1.810 2013-12-30  1576900   \n",
              "2586                14.460  1.260000e+09  1.810 2013-12-31  1316000   \n",
              "\n",
              "      Adjusted Close        SMA  \n",
              "0          22.490707  22.490707  \n",
              "1          21.138302  21.138302  \n",
              "2          19.958809  19.958809  \n",
              "3          19.958809  19.958809  \n",
              "4          15.685447  17.854856  \n",
              "...              ...        ...  \n",
              "2582       38.186481  38.186481  \n",
              "2583       38.339939  38.339939  \n",
              "2584       38.234268  38.234268  \n",
              "2585       38.334591  38.334591  \n",
              "2586       38.247643  38.247643  \n",
              "\n",
              "[2587 rows x 32 columns]"
            ],
            "text/html": "<div>\n<style scoped>\n    .dataframe tbody tr th:only-of-type {\n        vertical-align: middle;\n    }\n\n    .dataframe tbody tr th {\n        vertical-align: top;\n    }\n\n    .dataframe thead th {\n        text-align: right;\n    }\n</style>\n<table border=\"1\" class=\"dataframe\">\n  <thead>\n    <tr style=\"text-align: right;\">\n      <th></th>\n      <th>DE Ratio</th>\n      <th>Trailing P/E</th>\n      <th>Price/Sales</th>\n      <th>Price/Book</th>\n      <th>Profit Margin</th>\n      <th>Operating Margin</th>\n      <th>Return on Assets</th>\n      <th>Return on Equity</th>\n      <th>Revenue Per Share</th>\n      <th>Market Cap</th>\n      <th>...</th>\n      <th>Total Cash Per Share</th>\n      <th>Total Debt</th>\n      <th>Current Ratio</th>\n      <th>Book Value Per Share</th>\n      <th>Cash Flow</th>\n      <th>Beta</th>\n      <th>Date</th>\n      <th>Volume</th>\n      <th>Adjusted Close</th>\n      <th>SMA</th>\n    </tr>\n  </thead>\n  <tbody>\n    <tr>\n      <th>0</th>\n      <td>0.375</td>\n      <td>0.00</td>\n      <td>2.43</td>\n      <td>4.98</td>\n      <td>25.56</td>\n      <td>6.20</td>\n      <td>23.59</td>\n      <td>46.82</td>\n      <td>13.16</td>\n      <td>1.532000e+10</td>\n      <td>...</td>\n      <td>3.49</td>\n      <td>1.150000e+09</td>\n      <td>2.284</td>\n      <td>6.394</td>\n      <td>1.440000e+08</td>\n      <td>2.496</td>\n      <td>2004-02-02</td>\n      <td>4275200</td>\n      <td>22.490707</td>\n      <td>22.490707</td>\n    </tr>\n    <tr>\n      <th>1</th>\n      <td>0.375</td>\n      <td>0.00</td>\n      <td>2.43</td>\n      <td>4.98</td>\n      <td>25.56</td>\n      <td>6.20</td>\n      <td>23.59</td>\n      <td>46.82</td>\n      <td>13.16</td>\n      <td>1.532000e+10</td>\n      <td>...</td>\n      <td>3.49</td>\n      <td>1.150000e+09</td>\n      <td>2.284</td>\n      <td>6.394</td>\n      <td>1.440000e+08</td>\n      <td>2.496</td>\n      <td>2004-02-03</td>\n      <td>2838700</td>\n      <td>21.138302</td>\n      <td>21.138302</td>\n    </tr>\n    <tr>\n      <th>2</th>\n      <td>0.375</td>\n      <td>0.00</td>\n      <td>2.43</td>\n      <td>4.98</td>\n      <td>25.56</td>\n      <td>6.20</td>\n      <td>23.59</td>\n      <td>46.82</td>\n      <td>13.16</td>\n      <td>1.532000e+10</td>\n      <td>...</td>\n      <td>3.49</td>\n      <td>1.150000e+09</td>\n      <td>2.284</td>\n      <td>6.394</td>\n      <td>1.440000e+08</td>\n      <td>2.496</td>\n      <td>2004-02-04</td>\n      <td>4838400</td>\n      <td>19.958809</td>\n      <td>19.958809</td>\n    </tr>\n    <tr>\n      <th>3</th>\n      <td>0.375</td>\n      <td>0.00</td>\n      <td>2.43</td>\n      <td>4.98</td>\n      <td>25.56</td>\n      <td>6.20</td>\n      <td>23.59</td>\n      <td>46.82</td>\n      <td>13.16</td>\n      <td>1.532000e+10</td>\n      <td>...</td>\n      <td>3.49</td>\n      <td>1.150000e+09</td>\n      <td>2.284</td>\n      <td>6.394</td>\n      <td>1.440000e+08</td>\n      <td>2.496</td>\n      <td>2004-02-05</td>\n      <td>4838400</td>\n      <td>19.958809</td>\n      <td>19.958809</td>\n    </tr>\n    <tr>\n      <th>4</th>\n      <td>0.375</td>\n      <td>0.00</td>\n      <td>2.43</td>\n      <td>4.98</td>\n      <td>25.56</td>\n      <td>6.20</td>\n      <td>23.59</td>\n      <td>46.82</td>\n      <td>13.16</td>\n      <td>1.532000e+10</td>\n      <td>...</td>\n      <td>3.49</td>\n      <td>1.150000e+09</td>\n      <td>2.284</td>\n      <td>6.394</td>\n      <td>1.440000e+08</td>\n      <td>2.496</td>\n      <td>2004-02-06</td>\n      <td>4273200</td>\n      <td>15.685447</td>\n      <td>17.854856</td>\n    </tr>\n    <tr>\n      <th>...</th>\n      <td>...</td>\n      <td>...</td>\n      <td>...</td>\n      <td>...</td>\n      <td>...</td>\n      <td>...</td>\n      <td>...</td>\n      <td>...</td>\n      <td>...</td>\n      <td>...</td>\n      <td>...</td>\n      <td>...</td>\n      <td>...</td>\n      <td>...</td>\n      <td>...</td>\n      <td>...</td>\n      <td>...</td>\n      <td>...</td>\n      <td>...</td>\n      <td>...</td>\n      <td>...</td>\n    </tr>\n    <tr>\n      <th>2582</th>\n      <td>56.390</td>\n      <td>17.74</td>\n      <td>2.32</td>\n      <td>3.31</td>\n      <td>13.73</td>\n      <td>14.04</td>\n      <td>5.98</td>\n      <td>19.41</td>\n      <td>19.80</td>\n      <td>1.586000e+10</td>\n      <td>...</td>\n      <td>7.04</td>\n      <td>2.700000e+09</td>\n      <td>2.960</td>\n      <td>14.460</td>\n      <td>1.260000e+09</td>\n      <td>1.810</td>\n      <td>2013-12-25</td>\n      <td>1090000</td>\n      <td>38.186481</td>\n      <td>38.186481</td>\n    </tr>\n    <tr>\n      <th>2583</th>\n      <td>56.390</td>\n      <td>17.74</td>\n      <td>2.32</td>\n      <td>3.31</td>\n      <td>13.73</td>\n      <td>14.04</td>\n      <td>5.98</td>\n      <td>19.41</td>\n      <td>19.80</td>\n      <td>1.586000e+10</td>\n      <td>...</td>\n      <td>7.04</td>\n      <td>2.700000e+09</td>\n      <td>2.960</td>\n      <td>14.460</td>\n      <td>1.260000e+09</td>\n      <td>1.810</td>\n      <td>2013-12-26</td>\n      <td>998700</td>\n      <td>38.339939</td>\n      <td>38.339939</td>\n    </tr>\n    <tr>\n      <th>2584</th>\n      <td>56.390</td>\n      <td>17.74</td>\n      <td>2.32</td>\n      <td>3.31</td>\n      <td>13.73</td>\n      <td>14.04</td>\n      <td>5.98</td>\n      <td>19.41</td>\n      <td>19.80</td>\n      <td>1.586000e+10</td>\n      <td>...</td>\n      <td>7.04</td>\n      <td>2.700000e+09</td>\n      <td>2.960</td>\n      <td>14.460</td>\n      <td>1.260000e+09</td>\n      <td>1.810</td>\n      <td>2013-12-27</td>\n      <td>913000</td>\n      <td>38.234268</td>\n      <td>38.234268</td>\n    </tr>\n    <tr>\n      <th>2585</th>\n      <td>56.390</td>\n      <td>17.74</td>\n      <td>2.32</td>\n      <td>3.31</td>\n      <td>13.73</td>\n      <td>14.04</td>\n      <td>5.98</td>\n      <td>19.41</td>\n      <td>19.80</td>\n      <td>1.586000e+10</td>\n      <td>...</td>\n      <td>7.04</td>\n      <td>2.700000e+09</td>\n      <td>2.960</td>\n      <td>14.460</td>\n      <td>1.260000e+09</td>\n      <td>1.810</td>\n      <td>2013-12-30</td>\n      <td>1576900</td>\n      <td>38.334591</td>\n      <td>38.334591</td>\n    </tr>\n    <tr>\n      <th>2586</th>\n      <td>56.390</td>\n      <td>17.74</td>\n      <td>2.32</td>\n      <td>3.31</td>\n      <td>13.73</td>\n      <td>14.04</td>\n      <td>5.98</td>\n      <td>19.41</td>\n      <td>19.80</td>\n      <td>1.586000e+10</td>\n      <td>...</td>\n      <td>7.04</td>\n      <td>2.700000e+09</td>\n      <td>2.960</td>\n      <td>14.460</td>\n      <td>1.260000e+09</td>\n      <td>1.810</td>\n      <td>2013-12-31</td>\n      <td>1316000</td>\n      <td>38.247643</td>\n      <td>38.247643</td>\n    </tr>\n  </tbody>\n</table>\n<p>2587 rows × 32 columns</p>\n</div>"
          },
          "metadata": {},
          "execution_count": 66
        }
      ],
      "source": [
        "dfs[0]"
      ]
    },
    {
      "cell_type": "code",
      "execution_count": null,
      "metadata": {},
      "outputs": [],
      "source": []
    }
  ]
}