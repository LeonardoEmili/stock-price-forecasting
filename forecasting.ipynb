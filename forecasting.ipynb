{
  "nbformat": 4,
  "nbformat_minor": 0,
  "metadata": {
    "language_info": {
      "codemirror_mode": {
        "name": "ipython",
        "version": 3
      },
      "file_extension": ".py",
      "mimetype": "text/x-python",
      "name": "python",
      "nbconvert_exporter": "python",
      "pygments_lexer": "ipython3",
      "version": "3.8.8"
    },
    "orig_nbformat": 2,
    "kernelspec": {
      "name": "python388jvsc74a57bd05cb3d8ce0a358716891e8c646615b53ee7683912403e68c24df27ea1440aaf23",
      "display_name": "Python 3.8.8 64-bit ('spf': conda)"
    },
    "colab": {
      "name": "forecasting.ipynb",
      "provenance": [],
      "toc_visible": true
    },
    "widgets": {
      "application/vnd.jupyter.widget-state+json": {
        "7b7c6e7fd2b547d891b204009657a2bb": {
          "model_module": "@jupyter-widgets/controls",
          "model_name": "HBoxModel",
          "state": {
            "_view_name": "HBoxView",
            "_dom_classes": [],
            "_model_name": "HBoxModel",
            "_view_module": "@jupyter-widgets/controls",
            "_model_module_version": "1.5.0",
            "_view_count": null,
            "_view_module_version": "1.5.0",
            "box_style": "",
            "layout": "IPY_MODEL_1df12cd6dc29493fa3bb27b2df25804b",
            "_model_module": "@jupyter-widgets/controls",
            "children": [
              "IPY_MODEL_08907a5c330b45adb7ce67d3765b89e1",
              "IPY_MODEL_8de76545d4144054b034581e98b26752"
            ]
          }
        },
        "1df12cd6dc29493fa3bb27b2df25804b": {
          "model_module": "@jupyter-widgets/base",
          "model_name": "LayoutModel",
          "state": {
            "_view_name": "LayoutView",
            "grid_template_rows": null,
            "right": null,
            "justify_content": null,
            "_view_module": "@jupyter-widgets/base",
            "overflow": null,
            "_model_module_version": "1.2.0",
            "_view_count": null,
            "flex_flow": null,
            "width": null,
            "min_width": null,
            "border": null,
            "align_items": null,
            "bottom": null,
            "_model_module": "@jupyter-widgets/base",
            "top": null,
            "grid_column": null,
            "overflow_y": null,
            "overflow_x": null,
            "grid_auto_flow": null,
            "grid_area": null,
            "grid_template_columns": null,
            "flex": null,
            "_model_name": "LayoutModel",
            "justify_items": null,
            "grid_row": null,
            "max_height": null,
            "align_content": null,
            "visibility": null,
            "align_self": null,
            "height": null,
            "min_height": null,
            "padding": null,
            "grid_auto_rows": null,
            "grid_gap": null,
            "max_width": null,
            "order": null,
            "_view_module_version": "1.2.0",
            "grid_template_areas": null,
            "object_position": null,
            "object_fit": null,
            "grid_auto_columns": null,
            "margin": null,
            "display": null,
            "left": null
          }
        },
        "08907a5c330b45adb7ce67d3765b89e1": {
          "model_module": "@jupyter-widgets/controls",
          "model_name": "FloatProgressModel",
          "state": {
            "_view_name": "ProgressView",
            "style": "IPY_MODEL_7afb6d40a3b84273b28f3cde6e967929",
            "_dom_classes": [],
            "description": "100%",
            "_model_name": "FloatProgressModel",
            "bar_style": "success",
            "max": 429,
            "_view_module": "@jupyter-widgets/controls",
            "_model_module_version": "1.5.0",
            "value": 429,
            "_view_count": null,
            "_view_module_version": "1.5.0",
            "orientation": "horizontal",
            "min": 0,
            "description_tooltip": null,
            "_model_module": "@jupyter-widgets/controls",
            "layout": "IPY_MODEL_843a43f798a24a2db9367c0d078f343c"
          }
        },
        "8de76545d4144054b034581e98b26752": {
          "model_module": "@jupyter-widgets/controls",
          "model_name": "HTMLModel",
          "state": {
            "_view_name": "HTMLView",
            "style": "IPY_MODEL_30cb4c4e9d454f049d3726433a9588ea",
            "_dom_classes": [],
            "description": "",
            "_model_name": "HTMLModel",
            "placeholder": "​",
            "_view_module": "@jupyter-widgets/controls",
            "_model_module_version": "1.5.0",
            "value": " 429/429 [00:07&lt;00:00, 60.93it/s]",
            "_view_count": null,
            "_view_module_version": "1.5.0",
            "description_tooltip": null,
            "_model_module": "@jupyter-widgets/controls",
            "layout": "IPY_MODEL_3ab61ec968f949cd84900f1caea7d039"
          }
        },
        "7afb6d40a3b84273b28f3cde6e967929": {
          "model_module": "@jupyter-widgets/controls",
          "model_name": "ProgressStyleModel",
          "state": {
            "_view_name": "StyleView",
            "_model_name": "ProgressStyleModel",
            "description_width": "initial",
            "_view_module": "@jupyter-widgets/base",
            "_model_module_version": "1.5.0",
            "_view_count": null,
            "_view_module_version": "1.2.0",
            "bar_color": null,
            "_model_module": "@jupyter-widgets/controls"
          }
        },
        "843a43f798a24a2db9367c0d078f343c": {
          "model_module": "@jupyter-widgets/base",
          "model_name": "LayoutModel",
          "state": {
            "_view_name": "LayoutView",
            "grid_template_rows": null,
            "right": null,
            "justify_content": null,
            "_view_module": "@jupyter-widgets/base",
            "overflow": null,
            "_model_module_version": "1.2.0",
            "_view_count": null,
            "flex_flow": null,
            "width": null,
            "min_width": null,
            "border": null,
            "align_items": null,
            "bottom": null,
            "_model_module": "@jupyter-widgets/base",
            "top": null,
            "grid_column": null,
            "overflow_y": null,
            "overflow_x": null,
            "grid_auto_flow": null,
            "grid_area": null,
            "grid_template_columns": null,
            "flex": null,
            "_model_name": "LayoutModel",
            "justify_items": null,
            "grid_row": null,
            "max_height": null,
            "align_content": null,
            "visibility": null,
            "align_self": null,
            "height": null,
            "min_height": null,
            "padding": null,
            "grid_auto_rows": null,
            "grid_gap": null,
            "max_width": null,
            "order": null,
            "_view_module_version": "1.2.0",
            "grid_template_areas": null,
            "object_position": null,
            "object_fit": null,
            "grid_auto_columns": null,
            "margin": null,
            "display": null,
            "left": null
          }
        },
        "30cb4c4e9d454f049d3726433a9588ea": {
          "model_module": "@jupyter-widgets/controls",
          "model_name": "DescriptionStyleModel",
          "state": {
            "_view_name": "StyleView",
            "_model_name": "DescriptionStyleModel",
            "description_width": "",
            "_view_module": "@jupyter-widgets/base",
            "_model_module_version": "1.5.0",
            "_view_count": null,
            "_view_module_version": "1.2.0",
            "_model_module": "@jupyter-widgets/controls"
          }
        },
        "3ab61ec968f949cd84900f1caea7d039": {
          "model_module": "@jupyter-widgets/base",
          "model_name": "LayoutModel",
          "state": {
            "_view_name": "LayoutView",
            "grid_template_rows": null,
            "right": null,
            "justify_content": null,
            "_view_module": "@jupyter-widgets/base",
            "overflow": null,
            "_model_module_version": "1.2.0",
            "_view_count": null,
            "flex_flow": null,
            "width": null,
            "min_width": null,
            "border": null,
            "align_items": null,
            "bottom": null,
            "_model_module": "@jupyter-widgets/base",
            "top": null,
            "grid_column": null,
            "overflow_y": null,
            "overflow_x": null,
            "grid_auto_flow": null,
            "grid_area": null,
            "grid_template_columns": null,
            "flex": null,
            "_model_name": "LayoutModel",
            "justify_items": null,
            "grid_row": null,
            "max_height": null,
            "align_content": null,
            "visibility": null,
            "align_self": null,
            "height": null,
            "min_height": null,
            "padding": null,
            "grid_auto_rows": null,
            "grid_gap": null,
            "max_width": null,
            "order": null,
            "_view_module_version": "1.2.0",
            "grid_template_areas": null,
            "object_position": null,
            "object_fit": null,
            "grid_auto_columns": null,
            "margin": null,
            "display": null,
            "left": null
          }
        }
      }
    }
  },
  "cells": [
    {
      "cell_type": "markdown",
      "metadata": {
        "id": "VqQZ2rltGxId"
      },
      "source": [
        "# Stock price forecasting system\n",
        "Authors: Leonardo Emili, Alessio Luciani"
      ]
    },
    {
      "cell_type": "markdown",
      "metadata": {
        "id": "72KweISRGt2c"
      },
      "source": [
        "## Setup project"
      ]
    },
    {
      "cell_type": "code",
      "metadata": {
        "id": "9Y7Ko8G0EN5i",
        "outputId": "43a9621e-902d-459d-a948-bb114d4ed311",
        "colab": {
          "base_uri": "https://localhost:8080/"
        }
      },
      "source": [
        "try:\n",
        "    # Setup the project directory if running on Colab\n",
        "    from google.colab import drive\n",
        "    drive.mount('/content/gdrive/')\n",
        "    !cp gdrive/MyDrive/stock-forecasting-proj/data.zip .\n",
        "    !unzip -q data.zip\n",
        "    !rm data.zip\n",
        "except:\n",
        "    pass"
      ],
      "execution_count": 5,
      "outputs": [
        {
          "output_type": "stream",
          "text": [
            "Mounted at /content/gdrive/\n"
          ],
          "name": "stdout"
        }
      ]
    },
    {
      "cell_type": "code",
      "metadata": {
        "id": "J4U0QPnb1ZAy"
      },
      "source": [
        "%matplotlib inline\n",
        "\n",
        "# Data\n",
        "import numpy as np\n",
        "import matplotlib.pyplot as plt\n",
        "import pandas as pd\n",
        "\n",
        "# Torch\n",
        "import torch\n",
        "import torch.nn as nn\n",
        "\n",
        "# General\n",
        "import glob\n",
        "from tqdm.notebook import tqdm"
      ],
      "execution_count": 6,
      "outputs": []
    },
    {
      "cell_type": "markdown",
      "metadata": {
        "id": "atGCQIQt1ZA7"
      },
      "source": [
        "# Dataset loading"
      ]
    },
    {
      "cell_type": "code",
      "metadata": {
        "id": "KGZ4Tru01ZA7",
        "outputId": "1b218ab8-4332-430f-e5de-cc0c07e63b59",
        "colab": {
          "base_uri": "https://localhost:8080/",
          "height": 66,
          "referenced_widgets": [
            "7b7c6e7fd2b547d891b204009657a2bb",
            "1df12cd6dc29493fa3bb27b2df25804b",
            "08907a5c330b45adb7ce67d3765b89e1",
            "8de76545d4144054b034581e98b26752",
            "7afb6d40a3b84273b28f3cde6e967929",
            "843a43f798a24a2db9367c0d078f343c",
            "30cb4c4e9d454f049d3726433a9588ea",
            "3ab61ec968f949cd84900f1caea7d039"
          ]
        }
      },
      "source": [
        "# Key stats dataframe\n",
        "key_stats_df = pd.read_csv(\"data/key_stats_yahoo.csv\")\n",
        "\n",
        "# Prices dataframes for every stock\n",
        "prices_files = glob.glob(\"data/prices/*.csv\")\n",
        "prices_dfs = [pd.read_csv(f) for f in tqdm(prices_files)]"
      ],
      "execution_count": 7,
      "outputs": [
        {
          "output_type": "display_data",
          "data": {
            "application/vnd.jupyter.widget-view+json": {
              "model_id": "7b7c6e7fd2b547d891b204009657a2bb",
              "version_minor": 0,
              "version_major": 2
            },
            "text/plain": [
              "HBox(children=(FloatProgress(value=0.0, max=429.0), HTML(value='')))"
            ]
          },
          "metadata": {
            "tags": []
          }
        },
        {
          "output_type": "stream",
          "text": [
            "\n"
          ],
          "name": "stdout"
        }
      ]
    },
    {
      "cell_type": "code",
      "metadata": {
        "id": "_95C-hBq1ZA9",
        "outputId": "937dcaa0-b064-4893-fef5-b7b7877622bc",
        "colab": {
          "base_uri": "https://localhost:8080/"
        }
      },
      "source": [
        "print(\"Key stats dataframe format:\")\n",
        "print(key_stats_df.head())\n",
        "\n",
        "print(\"Prices dataframe format:\")\n",
        "print(prices_dfs[0].head())"
      ],
      "execution_count": 8,
      "outputs": [
        {
          "output_type": "stream",
          "text": [
            "Key stats dataframe format:\n",
            "   Unnamed: 0              Date  ...    Cash Flow   Beta\n",
            "0           0   1/30/2004 19:01  ...  144000000.0  2.474\n",
            "1           1    4/13/2004 4:07  ...  144000000.0  2.496\n",
            "2           2  12/13/2004 21:37  ...  483000000.0  2.547\n",
            "3           3    1/22/2005 5:17  ...  663000000.0  2.166\n",
            "4           4     1/9/2006 2:35  ...  890000000.0    NaN\n",
            "\n",
            "[5 rows x 33 columns]\n",
            "Prices dataframe format:\n",
            "         Date    Low   Open   Volume   High  Close  Adjusted Close\n",
            "0  17-12-2009  13.21  13.50  3626300  13.84  13.51           13.51\n",
            "1  18-12-2009  13.50  13.59   470000  13.69  13.60           13.60\n",
            "2  21-12-2009  13.50  13.71   230200  13.71  13.60           13.60\n",
            "3  22-12-2009  13.53  13.59   173100  13.67  13.64           13.64\n",
            "4  23-12-2009  13.56  13.62   216500  13.69  13.67           13.67\n"
          ],
          "name": "stdout"
        }
      ]
    }
  ]
}