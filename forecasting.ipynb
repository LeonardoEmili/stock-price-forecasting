{
 "metadata": {
  "language_info": {
   "codemirror_mode": {
    "name": "ipython",
    "version": 3
   },
   "file_extension": ".py",
   "mimetype": "text/x-python",
   "name": "python",
   "nbconvert_exporter": "python",
   "pygments_lexer": "ipython3",
   "version": "3.8.8"
  },
  "orig_nbformat": 2,
  "kernelspec": {
   "name": "python388jvsc74a57bd05cb3d8ce0a358716891e8c646615b53ee7683912403e68c24df27ea1440aaf23",
   "display_name": "Python 3.8.8 64-bit ('spf': conda)"
  }
 },
 "nbformat": 4,
 "nbformat_minor": 2,
 "cells": [
  {
   "cell_type": "code",
   "execution_count": 9,
   "metadata": {},
   "outputs": [],
   "source": [
    "%matplotlib inline\n",
    "\n",
    "# Data\n",
    "import numpy as np\n",
    "import matplotlib.pyplot as plt\n",
    "import pandas as pd\n",
    "\n",
    "# Torch\n",
    "import torch\n",
    "import torch.nn as nn\n",
    "\n",
    "# General\n",
    "import glob\n",
    "from tqdm.notebook import tqdm"
   ]
  },
  {
   "source": [
    "# Dataset loading"
   ],
   "cell_type": "markdown",
   "metadata": {}
  },
  {
   "cell_type": "code",
   "execution_count": 12,
   "metadata": {},
   "outputs": [
    {
     "output_type": "display_data",
     "data": {
      "text/plain": "  0%|          | 0/429 [00:00<?, ?it/s]",
      "application/vnd.jupyter.widget-view+json": {
       "version_major": 2,
       "version_minor": 0,
       "model_id": "6c18613292b549f2b6070319f69f229e"
      }
     },
     "metadata": {}
    }
   ],
   "source": [
    "# Key stats dataframe\n",
    "key_stats_df = pd.read_csv(\"data/key_stats_yahoo.csv\")\n",
    "\n",
    "# Prices dataframes for every stock\n",
    "prices_files = glob.glob(\"data/prices/*.csv\")\n",
    "prices_dfs = [pd.read_csv(f) for f in tqdm(prices_files)]"
   ]
  },
  {
   "cell_type": "code",
   "execution_count": 15,
   "metadata": {},
   "outputs": [
    {
     "output_type": "stream",
     "name": "stdout",
     "text": [
      "Key stats dataframe format:\n   Unnamed: 0              Date Ticker    Price  DE Ratio  Trailing P/E  \\\n0           0   1/30/2004 19:01      a  33.8320     0.407           NaN   \n1           1    4/13/2004 4:07      a  28.4626     0.375           NaN   \n2           2  12/13/2004 21:37      a  21.8816     0.323         33.58   \n3           3    1/22/2005 5:17      a  20.2478     0.322         30.70   \n4           4     1/9/2006 2:35      a  31.7118     2.169         52.82   \n\n   Price/Sales  Price/Book  Profit Margin  Operating Margin  ...  Diluted EPS  \\\n0         2.80        6.01          29.56             11.97  ...        3.774   \n1         2.43        4.98          25.56              6.20  ...        3.391   \n2         1.61        3.24           4.86              5.38  ...        0.710   \n3         1.52        3.04           4.86              5.38  ...        0.710   \n4         3.31        4.26           6.38              3.58  ...        0.660   \n\n   Earnings Growth  Revenue Growth    Total Cash  Total Cash Per Share  \\\n0              NaN             0.8  1.610000e+09                 3.370   \n1              NaN             0.8  1.680000e+09                 3.490   \n2              NaN             0.8  2.320000e+09                 4.750   \n3              NaN            18.6  2.320000e+09                 4.710   \n4             64.9            22.8  2.250000e+09                 4.555   \n\n     Total Debt  Current Ratio  Book Value Per Share    Cash Flow   Beta  \n0  1.150000e+09          2.040                 5.930  144000000.0  2.474  \n1  1.150000e+09          2.284                 6.394  144000000.0  2.496  \n2  1.150000e+09          2.441                 7.320  483000000.0  2.547  \n3  1.150000e+09          2.446                 7.329  663000000.0  2.166  \n4  2.169000e+00          2.169                 8.095  890000000.0    NaN  \n\n[5 rows x 33 columns]\nPrices dataframe format:\n         Date       Low  Open     Volume      High     Close  Adjusted Close\n0  16-02-1990  0.073785   0.0  940636800  0.079861  0.077257        0.057364\n1  20-02-1990  0.074653   0.0  151862400  0.079861  0.079861        0.059297\n2  21-02-1990  0.075521   0.0   70531200  0.078993  0.078125        0.058008\n3  22-02-1990  0.078993   0.0   45216000  0.081597  0.078993        0.058653\n4  23-02-1990  0.078125   0.0   44697600  0.079861  0.078559        0.058331\n"
     ]
    }
   ],
   "source": [
    "print(\"Key stats dataframe format:\")\n",
    "print(key_stats_df.head())\n",
    "\n",
    "print(\"Prices dataframe format:\")\n",
    "print(prices_dfs[0].head())"
   ]
  }
 ]
}